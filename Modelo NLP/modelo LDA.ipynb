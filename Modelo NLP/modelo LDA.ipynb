{
 "cells": [
  {
   "cell_type": "markdown",
   "metadata": {
    "id": "swPQYMnPljRX"
   },
   "source": [
    "# Paso 0: Dependencias"
   ]
  },
  {
   "cell_type": "code",
   "execution_count": 98,
   "metadata": {
    "id": "oAHMKCCg7rS7"
   },
   "outputs": [],
   "source": [
    "import pandas as pd\n",
    "import numpy as np\n",
    "import nltk\n",
    "import re"
   ]
  },
  {
   "cell_type": "code",
   "execution_count": 99,
   "metadata": {
    "colab": {
     "base_uri": "https://localhost:8080/"
    },
    "id": "b-jULyUhljRe",
    "outputId": "6f6036cd-a292-482e-aada-7351746faaed"
   },
   "outputs": [
    {
     "name": "stderr",
     "output_type": "stream",
     "text": [
      "[nltk_data] Downloading package punkt to\n",
      "[nltk_data]     C:\\Users\\josrenca\\AppData\\Roaming\\nltk_data...\n",
      "[nltk_data]   Package punkt is already up-to-date!\n",
      "[nltk_data] Downloading package stopwords to\n",
      "[nltk_data]     C:\\Users\\josrenca\\AppData\\Roaming\\nltk_data...\n",
      "[nltk_data]   Package stopwords is already up-to-date!\n"
     ]
    }
   ],
   "source": [
    "# settings en nltk: tokenizador y stopwords\n",
    "from nltk.corpus import stopwords\n",
    "nltk.download('punkt')\n",
    "nltk.download('stopwords')\n",
    "stop_words_nltk = stopwords.words('english')\n",
    "from nltk.stem.porter import *"
   ]
  },
  {
   "cell_type": "code",
   "execution_count": 100,
   "metadata": {
    "colab": {
     "base_uri": "https://localhost:8080/"
    },
    "id": "nQAboo32ljRi",
    "outputId": "d1434d5b-352d-4c92-fe73-9b72c0e8cdc4"
   },
   "outputs": [],
   "source": [
    "path = 'C:\\\\Users\\\\josrenca\\\\Desktop\\\\Universidad\\\\Datos PI - ARI\\\\'\n",
    "archivo = 'cleanedVariables-standarized-respuestaBinaria.pkl'\n",
    "rutaArvhivo = path + archivo\n",
    "df = pd.read_pickle(rutaArvhivo)"
   ]
  },
  {
   "cell_type": "code",
   "execution_count": 101,
   "metadata": {},
   "outputs": [
    {
     "data": {
      "text/plain": [
       "Index(['Amenity', 'Astronomical_Twilight', 'Bump', 'City', 'Civil_Twilight',\n",
       "       'County', 'Crossing', 'Give_Way', 'Hour', 'Junction',\n",
       "       'Nautical_Twilight', 'No_Exit', 'Railway', 'Roundabout', 'Severity',\n",
       "       'Start_Lat', 'Start_Lng', 'State', 'Station', 'Stop', 'Street',\n",
       "       'Sunrise_Sunset', 'Traffic_Calming', 'Traffic_Signal', 'Turning_Loop',\n",
       "       'Weather_Condition', 'Wind_Direction', 'dayOfWeek', 'month',\n",
       "       'newSeverity', 'Temperature(F)', 'Humidity(%)', 'Pressure(in)',\n",
       "       'Visibility(mi)', 'Wind_Speed(mph)', 'Description'],\n",
       "      dtype='object')"
      ]
     },
     "execution_count": 101,
     "metadata": {},
     "output_type": "execute_result"
    }
   ],
   "source": [
    "df.columns"
   ]
  },
  {
   "cell_type": "markdown",
   "metadata": {},
   "source": [
    "# Inicio del proceso LDA\n",
    "# filtrar las columnas de interés"
   ]
  },
  {
   "cell_type": "markdown",
   "metadata": {
    "colab": {
     "base_uri": "https://localhost:8080/",
     "height": 204
    },
    "id": "RoFkGDrdBnX5",
    "outputId": "2bede955-6e20-44c7-d43c-957037463ce1"
   },
   "source": [
    "df = df[['Severity','Description']]\n",
    "df.head()"
   ]
  },
  {
   "cell_type": "code",
   "execution_count": 103,
   "metadata": {
    "colab": {
     "base_uri": "https://localhost:8080/"
    },
    "id": "zk_zSnvjuWSM",
    "outputId": "b7826f56-7dc1-4254-de5f-6704aeb157a8"
   },
   "outputs": [
    {
     "data": {
      "text/plain": [
       "Severity       3027853\n",
       "Description    3027853\n",
       "dtype: int64"
      ]
     },
     "execution_count": 103,
     "metadata": {},
     "output_type": "execute_result"
    }
   ],
   "source": [
    "df.count()"
   ]
  },
  {
   "cell_type": "code",
   "execution_count": 104,
   "metadata": {
    "id": "lFdoPcFEul4-"
   },
   "outputs": [
    {
     "name": "stdout",
     "output_type": "stream",
     "text": [
      "Accident on OH-32 State Route 32 Westbound at Dela Palma Rd. Expect delays.\n",
      "Accident on I-75 Southbound at Exits 52 52B US-35. Expect delays.\n",
      "Accident on McEwen Rd at OH-725 Miamisburg Centerville Rd. Expect delays.\n",
      "Accident on I-270 Outerbelt Northbound near Exit 29 OH-3 State St. Expect delays.\n",
      "Accident on Oakridge Dr at Woodward Ave. Expect delays.\n",
      "Accident on I-75 Southbound at Exit 54B Grand Ave. Expect delays.\n",
      "Accident on Notre Dame Ave at Warner Ave. Expect delays.\n",
      "Right hand shoulder blocked due to accident on I-270 Outerbelt Westbound at Exit 29 OH-3 State St.\n",
      "Accident on I-270 Outerbelt Northbound at Exits 7 7A 7B US-40 Broad St. Expect delays.\n",
      "One lane blocked due to accident on I-70 Westbound at Exits 110 110A 110B Brice Rd. Expect delays.\n",
      "Accident on Revere Ave at Watervliet Ave. Expect delays.\n",
      "Accident on Salem Ave at Hillcrest Ave / Kensington Dr. Expect delays.\n",
      "Accident on OH-16 Broad St at James Rd. Expect delays.\n",
      "Accident on Wayne Ave at Glencoe Ave. Expect delays.\n",
      "Accident on James H McGee Blvd at US-35. Expect delays.\n",
      "Accident on Delphos Ave at Brooklyn Ave. Expect delays.\n",
      "Accident on Stewart St near Rubicon St. Expect delays.\n",
      "Accident on Hillcrest Ave at Piccadilly Ave. Expect delays.\n",
      "Accident on Brookhill Dr at Glenhurst Ct.\n",
      "Accident on Princeton Dr at Catalpa Dr. Expect delays.\n",
      "Accident on OH-741 Springboro Pike at Lyons Rd. Expect delays.\n",
      "Accident on I-71 Northbound at Exit 113 Silver Dr. On exit ramp.\n",
      "Accident on Hoover Ave at Elmhurst Rd.\n",
      "Accident on County Hwy-16 Sportsman Club Rd between Liberty Ridge Ct and Nichols Ln.\n",
      "Accident on Irving Ave at Wilmington Ave.\n",
      "Accident on Helena St at OH-48 Main St.\n",
      "Accident on Salem Ave at Litchfield Ave.\n",
      "Accident on 4th St at Wayne Ave.\n",
      "Accident on Frantz Rd Southbound at Bradenton Ave.\n",
      "Accident on Powell Rd at Bellefontaine Rd. Approach with care.\n",
      "Left lane blocked due to accident on I-71 Southbound at Exit 115 Cooke Rd.\n",
      "Accident on OH-315 Olentangy Fwy Eastbound at Cannon Dr.\n",
      "Right lane blocked due to accident on OH-315 Olentangy Fwy Northbound between Cannon Dr and Lane Ave.\n",
      "Accident on OH-48 Main St at Fairground Ave. Expect delays.\n",
      "Accident on US-33 Columbus Lancaster Rd Eastbound at County Hwy-18 Diley Rd. Expect delays.\n",
      "Accident on Leo St at Kiser St. Expect delays.\n",
      "Accident on I-670 Northeast Fwy Eastbound near I-270 Outerbelt Exits 35A 35B. Expect delays.\n",
      "Accident on Monroe Rd near Shaker Run Rd. Expect delays.\n",
      "Accident on Stanley Ave at Kuntz Rd.\n",
      "Accident on OH-72 State Route 72 Northbound at Point Isabel Rd.\n",
      "Accident on I-270 Outerbelt near Exit 39 OH-16 Broad St.\n",
      "Accident on I-75 Northbound at Exit 59 Wyse Rd. Expect delays.\n",
      "Accident on I-70 Eastbound at Exit 102 Kelton Ave. Expect delays.\n",
      "Accident on Kenny Rd at Henderson Rd. Expect delays.\n",
      "Right hand shoulder blocked due to accident on I-70 Westbound at Exits 107 107A 107B OH-317 Hamilton Rd.\n",
      "Accident on Stanley Ave at OH-201 Brandt St. Expect delays.\n",
      "Accident on I-75 Northbound at Exits 54A 54B OH-4. Expect delays.\n",
      "Accident on OH-48 Main St at Burton Ave. Expect delays.\n",
      "Accident on Riverside Dr at Pointview Ave. Expect delays.\n",
      "Accident on I-75 Northbound at Exit 54B Grand Ave. Expect delays.\n",
      "Accident on I-70 Eastbound at Exits 93 93A 93B I-270 Outerbelt. Expect delays.\n",
      "Accident on I-75 Southbound at Exit 44 OH-725 Miamisburg Centerville Rd. Expect delays.\n",
      "Accident on OH-28 State Route 28 at Wood St. Expect delays.\n",
      "Accident on McCall St at Abbey Ave. Expect delays.\n",
      "Accident on Brown St at Fairground Ave. Expect delays.\n",
      "Accident on US-35 Eastbound at Steve Whalen Blvd. Expect delays.\n",
      "Accident on US-35 Eastbound at Smithville Rd. Expect delays.\n",
      "Accident on I-270 Outerbelt Southbound at Exit 26 I-71.\n",
      "Accident on 5 Oaks Ave at Forest Ave. Expect delays.\n",
      "Accident on US-42 State Route 42 at Middletown Rd. Expect delays.\n",
      "Accident on County Hwy-119 Clearcreek Rd near Tamarack Trl. Expect delays.\n",
      "Accident on US-33 Columbus Lancaster Rd Westbound near County Hwy-20 Pickerington Rd. Expect delays.\n",
      "Accident on I-75 Southbound at I-675. Expect delays.\n",
      "Right hand shoulder blocked due to accident on I-71 Southbound at Exit 36 County Hwy-7 Wilmington Rd.\n",
      "Accident on I-480 Westbound at Exit 20A-B I-77. Expect delays.\n",
      "Accident on I-480 Eastbound at Exit 23 OH-14 Broadway Ave.\n",
      "One lane blocked due to accident on I-270 Outerbelt Westbound at Exit 55 I-71.\n",
      "One lane blocked due to accident on Main St Southbound at Lake Cascade Pkwy.\n",
      "Accident on Short Leuders Rd at OH-133 State Route 133. Expect delays.\n",
      "One lane blocked due to accident on OH-315 Olentangy Fwy Northbound at Goodale St.\n",
      "Accident on Vista Dr at Hamilton Rd.\n",
      "Accident on OH-444 Central Ave at Kauffman Ave. Expect delays.\n",
      "Accident on I-75 Northbound at Exit 82 US-36 Ash St. Expect delays.\n",
      "Accident on I-270 Outerbelt Eastbound at Exit 43A-B/41A-B US-40 Main St. Expect delays.\n",
      "Delays due to accident on Lindale Mount Holly Rd at Lindale Nicholsville Rd.\n",
      "Accident on Indianola Ave at Oakland Ave. Expect delays.\n",
      "Accident on Lake Allyn Rd at Amelia Olive Branch Rd.\n",
      "Accident on US-40 Main St Eastbound at Cypress Aly.\n",
      "Accident on I-71 Northbound at Rest Stop North.\n",
      "Accident on I-270 Outerbelt Southbound at I-70 Exits 93 93A 93B. Expect delays.\n",
      "One lane blocked due to accident on I-670 Eastbound at Exit 7 US-62. Expect delays.\n",
      "Left lane blocked due to accident on I-76 Westbound at Exit 16 Barber Rd.\n",
      "Left lane blocked due to accident on I-77 Northbound between Exit 130 OH-261 Vernon Odom Blvd and Exit 131 OH-162 Copley Rd.\n",
      "Accident on I-71 Northbound in Crimson. Approach with care.\n",
      "Accident on I-480 Westbound at Exit 9 OH-17 Brookpark Rd. Expect delays.\n",
      "Accident on I-77 Southbound at Exit 130 OH-261 Vernon Odom Blvd. Expect delays.\n",
      "Accident on US-35 Eastbound at I-75. Expect delays.\n",
      "Accident on I-480 Eastbound at Exit 16 OH-94 State Rd. Expect delays.\n",
      "Accident on North Broadway St at OH-315 Olentangy Fwy Exits 6 6A-B-C. Expect delays.\n",
      "Accident on US-33 Columbus Lancaster Rd at OH-674 Gender Rd. Expect delays.\n",
      "Accident on I-77 Northbound at Exit 133 Ridgewood Rd. Expect delays.\n",
      "Accident on I-71 Northbound at Exit 234 US-42 Pearl Rd.\n",
      "Accident on Broadway St at Home Ave. Expect delays.\n",
      "Accident on US-35 Westbound at Smithville Rd. Expect delays.\n",
      "Accident on OH-16 Broad St at Yearling Rd. Expect delays.\n",
      "One lane blocked due to accident on US-23 High St Southbound from Campus View Blvd to Exits 23A 23B I-270 Outerbelt.\n",
      "Accident on I-480 Eastbound at Exit 23 OH-14 Broadway Ave.\n",
      "Accident on Grafton Ave at Grand Ave.\n",
      "Accident on US-35 Eastbound at Steve Whalen Blvd. Expect delays.\n",
      "One lane blocked due to accident on I-270 Outerbelt Westbound at Exits 52 52A 52B US-23 High St. Expect delays.\n",
      "Accident on OH-4 Keowee St at Keowee St / OH-4 Valley St. Expect delays.\n",
      "Accident on Burroughs Dr at Cornell Dr. Expect delays.\n",
      "Accident on Summit Glen Dr near Mall Woods Dr. Expect delays.\n",
      "Accident on 2nd St at OH-4 Perry St. Expect delays.\n",
      "Accident on OH-48 Main St at Melford Ave.\n",
      "Accident on Dixie Dr at Bartley Rd.\n",
      "Accident on Brown St at Oakwood Ave.\n",
      "Accident on Smithville Rd at Speice Ave.\n",
      "Accident on Auburn Ave at Salem Ave.\n",
      "Accident on Stewart St at Edwin C Moses Blvd.\n",
      "Left lane blocked due to accident on I-75 Southbound at Exit 51 Edwin C Moses Blvd.\n",
      "Center lane blocked due to accident on US-35 Westbound at I-75.\n",
      "Right lane blocked due to accident on I-71 Southbound at Exit 110B 11th Ave.\n",
      "Accident on Washington St at Edwin C Moses Blvd.\n",
      "Accident on Stanley Ave at Helena St.\n",
      "Three lanes blocked due to accident on I-71 Southbound between Exit 121 Polaris Pkwy and Exits 119 119A 119B I-270 Outerbelt.\n",
      "Left lane blocked due to accident on I-270 Outerbelt Eastbound between Exits 22 22A 22B OH-315 Olentangy Fwy and Exit 23 US-23 High St.\n",
      "Left lane blocked due to accident on I-270 Outerbelt Westbound between Exit 23 US-23 High St and Exits 22 22A 22B OH-315 Olentangy Fwy.\n",
      "Left lane blocked due to accident on I-270 Outerbelt Westbound between Exits 46 46A 46B US-33 and Exit 49 Alum Creek Dr.\n",
      "Accident on I-70 Eastbound at Exits 108 108A-B I-270 Outerbelt.\n",
      "Accident on I-71 Northbound at Exit 113 Silver Dr.\n",
      "Accident on I-71 Northbound in Westfield Center.\n",
      "Accident on OH-13 State Route 13 Northbound at Smith Rd.\n",
      "Accident on I-75 Southbound at Exit 73 OH-55 State Route 55. Approach with care.\n",
      "Left lane blocked due to accident on I-71 North Fwy Southbound at 5th Ave.\n",
      "Right hand shoulder blocked due to accident on I-270 Outerbelt Northbound at Exits 35A 35B I-670 Northeast Fwy.\n",
      "Left lane closed due to accident on I-71 Innerbelt Northbound at Exit 108B I-670.\n",
      "Right lane closed due to accident on I-71 Eastbound at US-23 High St.\n",
      "Lane blocked due to accident on I-670 Northbound at Exits 4C 5 5A 5B I-71 Innerbelt.\n",
      "Accident on I-270 Outerbelt Northbound at Exit 39 OH-16 Broad St.\n",
      "Accident on US-22 US Highway 22 3 both ways at County Hwy-9 Melvin Rd.\n",
      "Accident on Byers Rd near Monarch Ln.\n",
      "Lane blocked due to accident on I-670 Westbound between i-71 North Fwy Exits 109A 109B and Third St.\n",
      "Left lane closed due to accident on I-70 Westbound at Exit 98A US-62 Central Ave.\n",
      "Lane blocked due to accident on OH-315 Innerbelt Southbound from Olentangy River Rd to I-670.\n",
      "Accident on Webster St at Wagoner Ford Rd.\n",
      "Lane blocked due to accident on Heritage Park Blvd at Greeley Ave.\n",
      "Right lane closed due to accident on I-270 Outerbelt Westbound at I-71 Exit 101.\n",
      "Accident on I-75 Southbound at Exits 54A 54B OH-4.\n",
      "Lane blocked due to accident on Wagoner Ford Rd at Chuck Wagner Ln.\n",
      "Accident on Westlake Ave at Torrington Ave.\n",
      "Lane blocked due to accident on I-75 Northbound at Exits 52 52B US-35.\n",
      "Lane blocked due to accident on I-75 Northbound at OH-725 Miamisburg Centerville Rd.\n",
      "Lane blocked due to accident on Livingston Ave at Yearling Rd.\n",
      "Lane blocked due to accident on Siebenthaler Ave at Klepinger Rd.\n",
      "Lane blocked due to accident on OH-161 New Albany Expy Eastbound at Sunbury Rd.\n",
      "Accident on Burning Tree Dr near Saint Andrews Dr.\n",
      "Accident on OH-161 Dublin Granville Rd at Ponderosa Dr.\n",
      "Accident on 4th St at Philadelphia St.\n",
      "Accident on Stewart St at Patterson Blvd.\n",
      "Accident on County Hwy-39 York Rd at County Hwy-34 Blacks Rd.\n",
      "Accident on Stewart St at Patterson Blvd.\n",
      "Accident on OH-317 Hamilton Rd near Sawyer Rd.\n",
      "Accident on Westlawn Dr at Holly Dr.\n",
      "Accident on OH-317 Hamilton Rd Southbound at Williams Rd. Approach with care.\n",
      "Accident on County Hwy-208 Auburn Rd at County Hwy-50 Scott Rd.\n",
      "One lane blocked due to accident on I-270 Outerbelt Westbound at Exit 23 US-23 High St. Expect delays.\n",
      "Accident on I-77 Northbound at Exit 138 Ghent Rd. Expect delays.\n",
      "Accident on I-71 Northbound at Exit 94 US-62 Harrisburg Pike. Expect delays.\n",
      "Accident on Wright Rd at Bowen Rd. Expect delays.\n",
      "One lane blocked due to accident on I-270 Outerbelt Westbound at Exit 23 US-23 High St.\n",
      "Accident on I-270 Outerbelt Northbound at Exits 17A 17B US-33 Columbus Marysville Rd. Expect delays.\n",
      "Accident on Scioto Darby Rd at Dublin Rd. Expect delays.\n",
      "Accident on OH-3 Westerville Rd at Ferris Rd / Walnut Creek Dr. Expect delays.\n",
      "Accident on Karwin Dr at Otterbein Ave. Expect delays.\n",
      "Left hand shoulder blocked due to accident on I-71 Southbound from Exit 105 Greenlawn Ave to Exit 104 OH-104 Frank Rd.\n",
      "One lane blocked due to jackknifed truck on I-71 Southbound at Exits 231 231A 231B OH-82 Royalton Rd. Expect delays.\n",
      "Accident on Alpha Bellbrook Rd at Indian Ripple Rd. Expect delays.\n",
      "Accident on Alum Creek Dr at Toy Rd. Expect delays.\n",
      "Left hand shoulder blocked due to accident on I-70 Westbound at Exit 97 US-40 Broad St.\n",
      "One lane blocked due to accident on US-23 US Highway 23 Southbound at US-22 US Highway 22 / US-22. Expect delays.\n",
      "Accident on Southwest Blvd at Farm Bank Way.\n",
      "Accident on OH-48 Main St at Fairview Ave. Expect delays.\n",
      "Accident on I-71 Northbound at Exits 119 119A 119B I-270 Outerbelt. Expect delays.\n",
      "Accident on US-42 2nd St at US-42 Hedges St / 2nd St. Expect delays.\n",
      "Accident on I-77 Southbound at Exit 130 OH-261 Vernon Odom Blvd. Expect delays.\n",
      "One lane blocked due to accident on I-270 Outerbelt Northbound at Exit 37 OH-317 Hamilton Rd. Expect delays.\n",
      "Accident on US-23 Indianola Ave at Dunedin Rd.\n",
      "One lane blocked due to accident on OH-32 Appalachian Hwy Westbound from County Hwy-13 Lawshe Rd to Barry McFarland Dr.\n",
      "One lane blocked due to accident on I-70 Westbound at Exit 95 Fisher Rd. Expect delays.\n",
      "Accident on Gettysburg Ave at Free Pike. Expect delays.\n",
      "Accident on I-270 Outerbelt Northbound at Exit 32 Morse Rd. Expect delays.\n",
      "Accident on Groveport Rd at Rager Rd. Expect delays.\n",
      "One lane blocked due to accident on OH-315 Olentangy Fwy Southbound at Exit 7 Olentangy River Rd. Expect delays.\n",
      "Lane blocked on exit ramp due to accident on Olentangy River Rd Northbound at Olentangy River Rd / Henderson Rd.\n",
      "Accident on Radio Rd at Smithville Rd. Expect delays.\n",
      "Accident on Alex Bell Rd at OH-741 Springboro Pike. Expect delays.\n",
      "Accident on Riverview Ave at Salem Ave. Expect delays.\n",
      "Accident on Kuntz Rd at Janney Rd. Expect delays.\n",
      "Accident on Hazel Ave at Russell Ave. Expect delays.\n",
      "Accident on I-270 Outerbelt Westbound at Exits 17A 17B US-33 Columbus Marysville Rd. Expect delays.\n",
      "One lane blocked and queueing traffic due to accident on I-64 Eastbound at Exit 39 WV-34.\n",
      "Accident on OH-4 Keowee St at OH-4 Keowee St.\n",
      "Entry ramp closed due to accident on I-270 Outerbelt Westbound at Exits 35A 35B I-670 Northeast Fwy.\n",
      "Accident on Main St at Jasper Ave / Patton St. Expect delays.\n",
      "Accident on Dona Ave at Broadway St. Expect delays.\n",
      "Accident on US-62 Main St at 2nd St / Civic Center Dr. Expect delays.\n",
      "Accident on OH-133 State Route 133 near Tudor Ln. Expect delays.\n",
      "Accident on OH-21 Northbound at I-77. Expect delays.\n",
      "Right hand shoulder blocked due to accident on I-90 Eastbound at OH-2.\n",
      "Accident on I-75 Southbound before Exit 50B OH-741 Springboro Rd. Expect delays.\n",
      "Accident on I-77 Northbound at Exit 130 OH-261 Vernon Odom Blvd. Expect delays.\n",
      "Accident on Wildwood Ave at Stewart St. Expect delays.\n",
      "Accident on I-70 Westbound at Exits 112 112A 112B OH-256 Hill Rd. Expect delays.\n",
      "Accident on Alex Bell Rd at OH-741 Springboro Pike. Expect delays.\n",
      "Accident on OH-133 State Route 133 from Macedonia Rd to Clover Rd. Expect delays.\n",
      "Right hand shoulder blocked due to accident on OH-161 New Albany Expy Westbound at Little Turtle Way / Dublin Granville Rd.\n",
      "Accident on I-76 Eastbound at Exit 16 Barber Rd. Expect delays.\n",
      "Accident on Washington St at Cincinnati St. Expect delays.\n",
      "Accident on US-35 Eastbound at Smithville Rd. Expect delays.\n",
      "One lane blocked due to accident on I-76 Eastbound at Exit 14 Cleveland Massillon Rd.\n",
      "Accident on Repp Rd at County Hwy-34 Franchester Rd.\n",
      "Accident on I-480 Eastbound at Exit 20A-B I-77. Expect delays.\n",
      "Accident on Nicholas Rd at Danner Ave. Expect delays.\n",
      "Accident on I-75 Southbound at Exits 54A 54B OH-4. Expect delays.\n",
      "Accident on OH-48 Main St at Pointview Ave. Expect delays.\n",
      "One lane blocked due to accident on I-70 Westbound at Exit 152 US-40 West Pike. Expect delays.\n",
      "Accident on Cobblegate Dr at Alex Bell Rd. Expect delays.\n",
      "Entry ramp closed due to accident on OH-18 Deshler Rd at I-75.\n",
      "Accident on OH-741 Springboro Pike at Ferndown Dr.\n",
      "Accident on Hillcrest Ave at Falmouth Ave.\n",
      "Accident on Nationwide Blvd at Front St. Approach with care.\n",
      "Accident on Groveport Rd at Watkins Rd.\n",
      "Accident on OH-17 Granger Rd at Canal Rd. Expect delays.\n",
      "One lane blocked due to accident on I-70 Westbound at Exits 112 112A 112B OH-256 Hill Rd. Expect delays.\n",
      "Accident on I-480 Eastbound at Exit 15 Ridge Rd. Expect delays.\n",
      "Accident on I-480 Eastbound at Exit 9 OH-17 Brookpark Rd. Expect delays.\n",
      "Right hand shoulder blocked due to accident on I-270 Outerbelt Northbound at Exit 37 OH-317 Hamilton Rd.\n",
      "Accident on Washington Church Rd near Lyons Rd. Expect delays.\n",
      "Accident on I-70 Eastbound at Exit 103B Alum Creek Dr. Expect delays.\n",
      "Accident on I-71 at Exit 238 I-480.\n",
      "Accident on Wadsworth Rd at Needmore Rd. Expect delays.\n",
      "Accident on I-71 Northbound at Exit 235 Bagley Rd. Expect delays.\n",
      "Accident on US-33 Riverside Dr at Trabue Rd / Cambridge Blvd. Expect delays.\n",
      "Accident on Tiedeman Rd Southbound at Cascade Xing.\n",
      "Two lanes blocked due to accident on I-71 Southbound at Exit 110B 11th Ave. Expect delays.\n",
      "Accident on I-71 Southbound at Exit 235 Bagley Rd.\n",
      "One lane blocked due to accident on I-71 Northbound near Exit 238 I-480. Expect delays.\n",
      "One lane blocked due to accident on I-480 Eastbound at Exit 20A-B I-77. Expect delays.\n",
      "One lane blocked due to accident on I-71 Southbound at Exit 84 OH-56 State Route 56. Expect delays.\n",
      "Right hand shoulder blocked due to accident on I-75 Southbound at Exit 59 Wyse Rd.\n",
      "Accident on Walnut St at Birch Aly.\n",
      "Accident on James H McGee Blvd at 3rd St.\n",
      "Accident on Ludlow St at OH-48 Main St.\n",
      "Accident on Wayne Ave at Cass St.\n",
      "Delays expected due to accident on I-75 Northbound at Exit 68 OH-571 Main St.\n",
      "Accident on Mandel Dr at Box Elder Dr.\n",
      "Accident on I-70 Eastbound at Exit 102 Kelton Ave. Approach with care.\n",
      "Accident on OH-315 Olentangy Fwy at I-270 Outerbelt.\n",
      "Accident on Shoup Mill Rd at Turner Rd. Expect delays.\n",
      "Accident on Springboro Rd at Arbor Blvd. Expect delays.\n",
      "Accident on US-23 High St at Morrill Ave. Expect delays.\n",
      "One lane blocked due to accident on I-70 Westbound at Exits 93 93A 93B I-270 Outerbelt. Expect delays.\n",
      "Accident on Groveport Rd at OH-104 Frank Rd.\n",
      "Accident on OH-125 State Route 125 at OH-222 State Route 222 / OH-125 Ohio Pike. Expect delays.\n",
      "Accident on Meriline Ave at Farnham Ave. Expect delays.\n",
      "Accident on Taylor Ave at Greenway Ave. Expect delays.\n",
      "Accident on US-62 Coshocton St at Williams St.\n",
      "Accident on Stanley Ave at Keowee St. Expect delays.\n",
      "Accident on Hilliard Rome Rd at Tinapple Rd. Expect delays.\n",
      "Accident on Roberts Rd at Hilliard Rome Rd. Expect delays.\n",
      "Accident on I-675 Northbound near Exits 13A 13A-B 13B US-35. Expect delays.\n",
      "Accident on Court St at Summit St.\n",
      "Accident on I-70 Westbound at Exit 102 Kelton Ave. Expect delays.\n",
      "Accident on Lexington Ave at Wilson Dr. Expect delays.\n",
      "Accident on Redwood Ave at OH-48 Main St. Expect delays.\n",
      "Accident on Wayne Ave at /Keowee St / Wayne Ave. Expect delays.\n",
      "Accident on Cardington Rd at Lance Dr. Expect delays.\n",
      "Accident on Pleasant Ave at Harbine Ave. Expect delays.\n",
      "Accident on Walton Ave at Kammer Ave. Expect delays.\n",
      "Accident on OH-48 Main St at Ashwood Ave. Expect delays.\n",
      "Accident on OH-48 Main St at OH-4 Monument Ave. Expect delays.\n",
      "Accident on OH-48 Main St at 4th St. Expect delays.\n",
      "Accident on I-71 Northbound at Exit 131 US-36 State Route 37. Expect delays.\n",
      "Accident on US-33 Columbus Marysville Rd at Avery Rd.\n",
      "Accident on 1st Ave Westbound at Broadview Ave.\n",
      "Accident on OH-202 Troy St at Stanley Ave.\n",
      "Accident on Smithville Rd at 3rd St.\n",
      "Right lane blocked due to accident on I-270 Outerbelt Westbound between Exit 29 OH-3 State St and Exit 27 Cleveland Ave.\n",
      "Accident on Wright Ave at 5th St.\n",
      "Accident on County Hwy-19 Sugar Ridge Rd at Dunbridge Rd. Expect delays.\n",
      "Accident on Waggoner Rd at OH-16 Broad St. Expect delays.\n",
      "Accident on US-40 Main St at OH-317 Hamilton Rd. Expect delays.\n",
      "Accident on US-33 Columbus Lancaster Rd Westbound at OH-674 Gender Rd.\n",
      "Accident on Wright Ave at Kittyhawk Dr.\n",
      "Left hand shoulder blocked due to accident on I-70 Westbound at Exits 112 112A 112B OH-256 Hill Rd.\n",
      "Accident on Lazelle Rd at Flint Rd. Expect delays.\n",
      "Accident on Findlay St at 3rd St. Expect delays.\n",
      "Accident on Westview Ave at Rangeley Ave. Expect delays.\n",
      "Accident on OH-28 State Route 28 at Goshen Rd. Expect delays.\n",
      "Accident on I-71 Southbound at Exit 116 Sinclair Rd. Expect delays.\n",
      "One lane blocked due to accident on I-270 Outerbelt Southbound at Exit 30 OH-161 New Albany Expy. Expect delays.\n",
      "Accident on OH-48 State Route 48 near Deershadow Rd. Expect delays.\n",
      "Accident on Lynpark Ave at Cordell Dr.\n",
      "Accident on Neff Rd at Norledge Dr.\n",
      "Accident on OH-48 Main St at Vinway Ct.\n",
      "Accident on Huffman Ave at 4th St.\n",
      "Accident on Brown St at Stewart St. Expect delays.\n",
      "Accident on Dixie Dr at Needmore Rd. Expect delays.\n",
      "Accident on Rolfe Ave Eastbound at Wagoner Ford Rd. Expect delays.\n",
      "Accident on Patterson Rd at Smithville Rd. Expect delays.\n",
      "Accident on Smithville Rd at Tuttle Ave. Expect delays.\n",
      "Accident on Frederick Pike at Beejay Ct. Expect delays.\n",
      "Entry ramp closed due to accident on OH-2 Westbound at Baumhart Rd.\n",
      "Accident on Keowee St at US-35.\n",
      "Accident on Washington Village Dr at OH-725 Miamisburg Centerville Rd.\n",
      "Accident on Dixie Dr at Ridge Ave.\n",
      "Accident on OH-48 Main St at Washington St.\n",
      "One lane blocked due to accident on I-70 Westbound at Exits 112 112A 112B OH-256 Hill Rd. Expect delays.\n",
      "Accident on Crosley Rd between Red Lion 5 Points Rd and County Hwy-46 Lytle 5 Points Rd. Expect delays.\n",
      "Accident on Pleasant Hill Rd at OH-131 State Route 131. Expect delays.\n",
      "Right hand shoulder blocked due to accident on OH-315 Olentangy Fwy at Goodale St.\n",
      "Accident on OH-31 State Route 131 near Wild Rose Ln. Expect delays.\n",
      "Accident on Stroop Rd at Woodman Dr. Expect delays.\n",
      "Accident on OH-741 Springboro Pike at Lyons Rd. Expect delays.\n",
      "Accident on I-70 Eastbound at Exit 96 I-670. Expect delays.\n",
      "Accident on Free Pike at Gettysburg Ave. Expect delays.\n",
      "Accident on Valley St at Rutledge Ave. Expect delays.\n",
      "Accident on 5th Ave Westbound at Star Ave. Expect delays.\n",
      "Accident on Needmore Rd at Payne Ave. Expect delays.\n",
      "Accident on Keowee St at Leo St.\n",
      "Accident on Social Row Rd at Watch Hill Ln.\n",
      "Left lane blocked due to accident on I-71 Southbound at Exits 237 237A 237B Snow Rd.\n",
      "Left lane blocked due to accident on I-71 Northbound at Exit 114 Silver Dr.\n",
      "Left lane blocked due to accident on I-71 Innerbelt Southbound at Exit 108B I-670.\n",
      "Left lane blocked due to accident on I-670 Northeast Fwy Eastbound at Exit 9 International Gtwy.\n",
      "Accident on I-270 Outerbelt Southbound at Exits 46 46A 46B US-33. Approach with care.\n",
      "Accident on I-71 Southbound at Exit 97 OH-665 London Groveport Rd.\n",
      "Accident on OH-741 Springboro Pike at Cardington Rd. Expect delays.\n",
      "Delays expected due to accident on Byers Rd at OH-725 Miamisburg Centerville Rd / Watertower Ln.\n",
      "Accident on I-75 Southbound at Exit 51 Edwin C Moses Blvd. Expect delays.\n",
      "Accident on I-75 Southbound at Exit 179 US-6 Grand Army of the Republic Hwy. Expect delays.\n",
      "Accident on I-675 Northbound at Exit 24 OH-444 Broad St. Expect delays.\n",
      "Accident on OH-741 Springboro Pike at Miami Village Dr. Expect delays.\n",
      "Accident pedestrian involved on OH-202 Troy Pike at Executive Blvd. Expect delays.\n",
      "Accident on Sunbury Rd at Morse Rd. Expect delays.\n",
      "Accident on I-480 Eastbound at Exit 17 OH-17 Brookpark Rd. Expect delays.\n",
      "Accident on I-75 Southbound from Exit 57 Wagner Ford Rd to Exit 56 Stanley Ave. Expect delays.\n",
      "Accident on OH-4 State Route 4 Southbound at Adams Rd. Expect delays.\n",
      "Accident on OH-21 before I-76. Expect delays.\n",
      "Accident on US-35 US Highway 35 Northbound at State Highway 817. Approach with care.\n",
      "Accident on Wayne Ave at US-35. Expect delays.\n",
      "Accident on Hall Rd at Georgesville Rd. Expect delays.\n",
      "Accident on Wilson Rd at Valleyview Dr. Expect delays.\n",
      "Accident on Stroop Rd at OH-741 Springboro Pike.\n",
      "Accident on OH-21 at OH-585 Wooster Rd.\n",
      "One lane blocked due to accident on I-675 Southbound at Exit 24 OH-444 Broad St. Expect delays.\n",
      "Accident on I-76 Eastbound at Exit 19 Kenmore Blvd. Expect delays.\n",
      "Accident on I-77 Northbound at Exits 155 156 I-480. Expect delays.\n",
      "Accident on I-76 Eastbound at Exit 17A State St. Expect delays.\n",
      "Accident on Nutt Rd at OH-48 Dayton Lebanon Pike. Expect delays.\n",
      "Accident on North Ave at Old Byesville Rd.\n",
      "Accident on Arbor Blvd at Springboro Rd. Expect delays.\n",
      "Accident on 5th St at Keowee St. Expect delays.\n",
      "Accident on Hillcrest Ave at England Ave. Expect delays.\n",
      "Accident on Linden Ave at Xenia Ave. Expect delays.\n",
      "Accident on OH-37 Central Ave at Union St. Expect delays.\n",
      "Accident on Wilmington Ave at Shroyer Rd. Expect delays.\n",
      "Accident on US-33 Columbus Lancaster Rd at County Hwy-23 Winchester Rd. Expect delays.\n",
      "One lane blocked due to accident on I-75 Southbound at Exit 179 US-6 Grand Army of the Republic Hwy. Expect delays.\n",
      "Accident on Hillcrest Ave at England Ave.\n",
      "Accident on Linden Ave at Xenia Ave.\n",
      "Center lane blocked due to accident on I-270 Outerbelt Eastbound between Exits 22 22A 22B OH-315 Olentangy Fwy and Exit 23 US-23 High St.\n",
      "Accident on OH-232 State Route 232 at OH-756 State Route 756. Expect delays.\n",
      "Accident on Poth Rd at Yearling Rd. Expect delays.\n",
      "Multi-vehicle accident on OH-58 Leavitt Rd at County Hwy-57 Russia Rd. Expect delays.\n",
      "Accident on Wyoming St at Edgar Ave.\n",
      "Left hand shoulder blocked due to accident on I-71 Southbound at Exit 117 OH-161 Dublin Granville Rd.\n",
      "Accident on Ridge Ave at Riverside Dr. Expect delays.\n",
      "Accident on I-71 Northbound at Exit 100 Stringtown Rd. Expect delays.\n",
      "Accident on OH-741 Springboro Pike at Orchard Run Rd. Expect delays.\n",
      "Accident on Lyons Rd at Newmark Dr.\n",
      "Accident on Shoup Mill Rd at Turner Rd.\n",
      "Accident on Needmore Rd at I-75.\n",
      "Accident on I-70 at Exits 99A 99A-B 99B 99C South Fwy.\n",
      "Accident on Wayne Ave at Epworth Ave.\n",
      "Accident on I-71 at Exit 104 OH-104 Frank Rd.\n",
      "Accident on I-76 Westbound at Exit 17A State St.\n",
      "Accident on Siebenthaler Ave at Riverside Dr.\n",
      "Accident on I-270 Outerbelt Northbound at Exit 30 OH-161 New Albany Expy.\n",
      "Accident on US-35 Eastbound at Smithville Rd. Expect congestion.\n",
      "Accident on US-35 Eastbound at Steve Whalen Blvd.\n",
      "Accident on OH-741 Springboro Pike at Main St. Expect delays.\n",
      "Accident on Riverside Dr at Bond St.\n",
      "Accident on Lee Rd at Ramage Ave.\n",
      "Accident on I-75 Northbound at Exit 41 Austin Blvd. Expect delays.\n",
      "Accident on I-670 Eastbound at Exits 2B 3 Neil Ave. Expect delays.\n",
      "Accident on McOwen St at Riverside Dr. Expect delays.\n",
      "Accident on Smith Rd at Revere Rd. Expect delays.\n",
      "Accident on OH-741 Springboro Pike Southbound at Habitat Blvd. Expect delays.\n",
      "Accident on Missouri Ave at Heaton Ave. Expect delays.\n",
      "Accident on Rainier Dr at Woodman Dr. Expect delays.\n",
      "Accident on Bond St at Riverside Dr.\n",
      "Right lane blocked due to accident on I-270 Outerbelt Northbound at Exit 10 Roberts Rd.\n",
      "Accident on Stanley Ave at Valley St.\n",
      "Accident on Mad River Rd at Penbrooke Trl.\n",
      "Accident on OH-4 Keowee St at Ottawa St.\n",
      "Accident on Turner Rd at OH-48 Main St.\n",
      "Delays and left lane closed due to accident on I-71 North Fwy Southbound after 5th Ave.\n",
      "Delays and right lane closed due to accident on I-75 Southbound in Springcreek.\n",
      "Accident on Dog Leg Rd near Stillwater River.\n",
      "Accident on Miller Farm Ln at OH-725 Miamisburg Centerville Rd.\n",
      "Accident on Wheatland Ave at Sullivant Ave. Expect delays.\n",
      "Accident on OH-741 Springboro Pike at Tech Blvd. Expect delays.\n",
      "Accident on OH-48 Main St at Beechwood Ave.\n",
      "Accident on US-62 Harrisburg Pike at Briggs Rd / October Ridge Dr. Expect delays.\n",
      "Accident on Livingston Ave at James Rd.\n",
      "Accident on I-270 Outerbelt Southbound at Exit 10 Roberts Rd. Expect delays.\n",
      "Accident on Funderburg Rd near Ironwood Dr. Expect delays.\n",
      "Accident on Old State Route 74 at Shayler Rd.\n",
      "Accident on OH-28 State Route 28 at Bypass 28 / Romar Dr. Expect delays.\n",
      "Accident on OH-32 Appalachian Hwy at County Hwy-3 Sardinia Mowrystwn Rd. Expect delays.\n",
      "Accident on I-75 Northbound from Exit 74 OH-41 Main St to Exit 82 US-36 Ash St. Expect delays.\n",
      "Accident on Stelzer Rd near McCutcheon Rd.\n",
      "Accident on OH-741 Springboro Pike near Tech Blvd.\n",
      "Accident on OH-161 New Albany Expy Eastbound at Little Turtle Way.\n",
      "Accident on I-270 Outerbelt Northbound at Exits 35A 35B I-670 Northeast Fwy.\n",
      "Left lane closed due to accident on I-270 Outerbelt Southbound at Exits 35A 35B I-670 Northeast Fwy.\n",
      "Accident on I-270 Outerbelt at I-270 Outerbelt.\n",
      "Accident on OH-741 Springboro Pike at Tech Blvd.\n",
      "Accident on Urban Hollow Ct in Grove City.\n",
      "Accident on I-75 Southbound at Exit 181 OH-64.\n",
      "Accident on I-270 Outerbelt Southbound at Exit 43A-B/41A-B US-40 Main St.\n",
      "Accident on I-270 Outerbelt Northbound at Exit 43A-B/41A-B US-40 Main St.\n",
      "Accident on OH-82 Royalton Rd at I-77.\n",
      "Accident on OH-202 Troy St at Stanley Ave.\n",
      "Accident on Babbitt St at OH-48 Main St.\n",
      "Accident on Beaverbrook Ct at Beaverbrook Dr.\n",
      "Accident on OH-28 State Route 28 at Morgan Rd. Expect delays.\n",
      "Right hand shoulder blocked due to accident on I-71 Northbound at Exit 114 Silver Dr.\n",
      "Accident on Magnolia St at Brown St. Expect delays.\n",
      "Accident on Herman Ave Southbound near Creston Ave.\n",
      "Shoulder blocked due to accident on I-70 Westbound at Exits 93 93A 93B I-270 Outerbelt.\n",
      "Left hand shoulder blocked due to accident on I-70 Westbound at Exit 103B Alum Creek Dr.\n",
      "Accident on OH-132 State Route 132 at OH-123 State Route 123. Expect delays.\n",
      "Accident on 5th St at Keowee St.\n",
      "One lane blocked due to accident on I-71 Southbound at Exit 105 Greenlawn Ave.\n",
      "Accident on I-75 Northbound near Exits 52 52B US-35. Expect delays.\n",
      "Accident on Union Schoolhouse Rd at Baker Rd.\n",
      "Accident on Mall Ring Rd at OH-725 Miamisburg Centerville Rd.\n",
      "Accident on Davis Ave at Belpre Pl.\n",
      "Accident on Forest Ave at Grand Ave.\n",
      "Accident on US-35 Westbound at Smithville Rd.\n",
      "Accident on OH-741 Springboro Pike at Dixie Dr.\n",
      "Accident on Fairfax Dr at Stonecreek Dr.\n",
      "Accident on Wilson Rd Northbound in Columbus.\n",
      "Accident on Hillcrest Ave at Riverside Dr.\n",
      "Accident on OH-48 Main St at Burton Ave.\n",
      "Left lane closed due to accident on US-35 Eastbound at Smithville Rd.\n",
      "Right hand shoulder blocked due to accident on I-70 Eastbound at Exits 108 108A-B I-270 Outerbelt.\n",
      "Center lane closed due to accident on I-75 Southbound at Exits 53A 53B 1st St.\n",
      "Entry ramp closed due to accident on OH-315 Olentangy Fwy Northbound at OH-315 Olentangy Fwy.\n",
      "Entry ramp closed due to accident on OH-315 Olentangy Fwy Northbound at Exit 7 Olentangy River Rd.\n",
      "Accident on Hague Ave at Sullivant Ave. Expect delays.\n",
      "Accident on I-270 Outerbelt Eastbound at Exit 55 I-71. Expect delays.\n",
      "One lane blocked due to accident on I-70 Westbound at Exit 98A US-62 Central Ave.\n",
      "Accident on I-75 Southbound at Exit 58 Needmore Rd. Expect delays.\n",
      "Accident on I-75 Southbound at Exit 56 Stanley Ave. Expect delays.\n",
      "Accident on US-35 Eastbound at Abbey Ave. Expect delays.\n",
      "Accident on US-35 Eastbound at I-75 Exits 52 52B. Expect delays.\n",
      "Accident on I-75 Southbound at Exit 56 Stanley Ave. Expect delays.\n",
      "Accident on I-75 Southbound near Exit 179 US-6 Grand Army of the Republic Hwy. Expect delays.\n",
      "Accident on Gettysburg Ave at Edison St. Expect delays.\n",
      "Accident on Springmont Ave at Wheatland Ave. Expect delays.\n",
      "One lane blocked due to accident on OH-16 Broad St at Waggoner Rd.\n",
      "Accident on I-270 Outerbelt Southbound at Exit 30 OH-161 New Albany Expy.\n",
      "Accident on Watervliet Ave at Wayne Ave.\n",
      "Accident on County Hwy-193 Troy Urbana Rd at OH-589 State Route 589. Expect delays.\n",
      "Accident on OH-315 Olentangy Fwy Southbound at OH-161 Dublin Granville Rd. Expect delays.\n",
      "Accident on Woodman Dr at Woodbine Ave.\n",
      "Accident on OH-4 Monument Ave at Patterson Blvd. Expect delays.\n",
      "Accident on Broadway St at OH-4 Germantown St.\n",
      "Accident on US-35 at I-75.\n",
      "Accident on Rich St at Rickenbacker St.\n",
      "Accident on Cassady Ave Northbound at Cassady Village Trl.\n",
      "Right lane closed due to accident on OH-315 Innerbelt Southbound at US-62 Plato Pl.\n",
      "Accident on I-71 Southbound after Exit 105 Greenlawn Ave.\n",
      "Accident on US-35 Southbound at Smithville Rd.\n",
      "Restrictions due to accident on I-75 Northbound at Exit 164 OH-613 State Route 613.\n",
      "Accident on Ridgewood Rd at Miller Rd.\n",
      "Accident on I-270 Outerbelt Eastbound at Exit 20 Sawmill Rd. Expect delays.\n",
      "Accident on Philadelphia Dr at Harvard Blvd. Expect delays.\n",
      "Accident on I-480 Eastbound at Exit 17 OH-17 Brookpark Rd. Expect delays.\n",
      "Accident on Austin Blvd at I-75 Exit 41. Expect delays.\n",
      "Accident on Smithville Rd at Radio Rd. Expect delays.\n",
      "Accident on I-270 Outerbelt Northbound at Exit 20 Sawmill Rd. Expect delays.\n",
      "Two lanes blocked due to accident on OH-161 New Albany Expy Westbound at Little Turtle Way. Expect delays.\n",
      "Accident on Stewart St at Alberta St. Expect delays.\n",
      "Accident on Wilkinson St at 2nd St.\n",
      "Accident on McEwen Rd at OH-725 Miamisburg Centerville Rd. Expect delays.\n",
      "Accident on OH-741 Springboro Pike at Northlawn Ave.\n",
      "Accident on Shoup Mill Rd at Turner Rd.\n",
      "Accident on Springfield St at Findlay St.\n",
      "Right lane blocked due to accident on I-270 Outerbelt Southbound at Exits 46 46A 46B US-33.\n",
      "Right lane blocked due to accident on I-75 Southbound at Exit 122 OH-65 Saint Johns Rd.\n",
      "Accident on Philadelphia Dr at Folsom Dr. Expect delays.\n",
      "Accident on Philadelphia Dr at Folsom Dr.\n",
      "Accident on OH-235 State Route 235 at Center Point 70 Blvd. Expect delays.\n",
      "Accident on Courtright Rd at Refugee Rd. Expect congestion.\n",
      "Accident on OH-132 State Highway 132 at OH-125 Ohio Pike / OH-132 State Highway 132. Expect delays.\n"
     ]
    }
   ],
   "source": [
    "df = df[df['Description'].notna()]\n",
    "for i in range(0,500):\n",
    "    print(df['Description'][i])"
   ]
  },
  {
   "cell_type": "code",
   "execution_count": 105,
   "metadata": {
    "colab": {
     "base_uri": "https://localhost:8080/"
    },
    "id": "GQNMdCGqutFY",
    "outputId": "2ad4c5b1-0fad-42c4-f05b-37e3d0cc2ed2"
   },
   "outputs": [
    {
     "data": {
      "text/plain": [
       "Severity       3027853\n",
       "Description    3027853\n",
       "dtype: int64"
      ]
     },
     "execution_count": 105,
     "metadata": {},
     "output_type": "execute_result"
    }
   ],
   "source": [
    "df.count()"
   ]
  },
  {
   "cell_type": "code",
   "execution_count": 106,
   "metadata": {
    "colab": {
     "base_uri": "https://localhost:8080/"
    },
    "id": "nyko_ftUvL6-",
    "outputId": "c4b25bb0-01cd-4b6d-9704-cbd84f336394"
   },
   "outputs": [
    {
     "data": {
      "text/plain": [
       "(3027853, 2)"
      ]
     },
     "execution_count": 106,
     "metadata": {},
     "output_type": "execute_result"
    }
   ],
   "source": [
    "df.shape"
   ]
  },
  {
   "cell_type": "code",
   "execution_count": 107,
   "metadata": {
    "id": "PRBY_o71HJoJ"
   },
   "outputs": [],
   "source": [
    "stemmer = PorterStemmer()"
   ]
  },
  {
   "cell_type": "code",
   "execution_count": 108,
   "metadata": {},
   "outputs": [],
   "source": [
    "dictionary = {'st' : 'street', 'rd' : 'road', 'ave' : 'avenue', 'i': 'interstate'}"
   ]
  },
  {
   "cell_type": "code",
   "execution_count": 109,
   "metadata": {},
   "outputs": [],
   "source": [
    "stop_words = stop_words_nltk + ['us', 'oh']"
   ]
  },
  {
   "cell_type": "code",
   "execution_count": 110,
   "metadata": {},
   "outputs": [],
   "source": [
    "def mapeo(w):\n",
    "    if w in dictionary.keys():\n",
    "        return dictionary[w]\n",
    "    else:\n",
    "        return w"
   ]
  },
  {
   "cell_type": "code",
   "execution_count": 111,
   "metadata": {
    "id": "Y7CYfBYGFDQJ"
   },
   "outputs": [],
   "source": [
    "# función general para preparación de datos: tokenización, remoción caracteres especiales\n",
    "# minusculas.... no incluido stemming y lematización.\n",
    "def textprep(line):\n",
    "    tokens = nltk.word_tokenize(str(line))\n",
    "    tokens = [w.lower() for w in tokens if len(w)>1]\n",
    "    tokens = [re.sub(r'[^A-Za-z]+','',w) for w in tokens]\n",
    "    tokens = [mapeo(w) for w in tokens]\n",
    "    tokens = [w for w in tokens if w not in stop_words]\n",
    "    tokens = [stemmer.stem(w) for w in tokens]\n",
    "    return tokens"
   ]
  },
  {
   "cell_type": "code",
   "execution_count": 112,
   "metadata": {},
   "outputs": [
    {
     "name": "stdout",
     "output_type": "stream",
     "text": [
      "Wall time: 26min 32s\n"
     ]
    },
    {
     "data": {
      "text/html": [
       "<div>\n",
       "<style scoped>\n",
       "    .dataframe tbody tr th:only-of-type {\n",
       "        vertical-align: middle;\n",
       "    }\n",
       "\n",
       "    .dataframe tbody tr th {\n",
       "        vertical-align: top;\n",
       "    }\n",
       "\n",
       "    .dataframe thead th {\n",
       "        text-align: right;\n",
       "    }\n",
       "</style>\n",
       "<table border=\"1\" class=\"dataframe\">\n",
       "  <thead>\n",
       "    <tr style=\"text-align: right;\">\n",
       "      <th></th>\n",
       "      <th>Severity</th>\n",
       "      <th>Description</th>\n",
       "      <th>tokens</th>\n",
       "    </tr>\n",
       "  </thead>\n",
       "  <tbody>\n",
       "    <tr>\n",
       "      <th>0</th>\n",
       "      <td>0</td>\n",
       "      <td>Accident on OH-32 State Route 32 Westbound at ...</td>\n",
       "      <td>[accid, state, rout, westbound, dela, palma, r...</td>\n",
       "    </tr>\n",
       "    <tr>\n",
       "      <th>1</th>\n",
       "      <td>1</td>\n",
       "      <td>Accident on I-75 Southbound at Exits 52 52B US...</td>\n",
       "      <td>[accid, interst, southbound, exit, expect, delay]</td>\n",
       "    </tr>\n",
       "    <tr>\n",
       "      <th>2</th>\n",
       "      <td>0</td>\n",
       "      <td>Accident on McEwen Rd at OH-725 Miamisburg Cen...</td>\n",
       "      <td>[accid, mcewen, road, miamisburg, centervil, r...</td>\n",
       "    </tr>\n",
       "    <tr>\n",
       "      <th>3</th>\n",
       "      <td>1</td>\n",
       "      <td>Accident on I-270 Outerbelt Northbound near Ex...</td>\n",
       "      <td>[accid, interst, outerbelt, northbound, near, ...</td>\n",
       "    </tr>\n",
       "    <tr>\n",
       "      <th>4</th>\n",
       "      <td>0</td>\n",
       "      <td>Accident on Oakridge Dr at Woodward Ave. Expec...</td>\n",
       "      <td>[accid, oakridg, woodward, avenu, expect, delay]</td>\n",
       "    </tr>\n",
       "  </tbody>\n",
       "</table>\n",
       "</div>"
      ],
      "text/plain": [
       "   Severity                                        Description  \\\n",
       "0         0  Accident on OH-32 State Route 32 Westbound at ...   \n",
       "1         1  Accident on I-75 Southbound at Exits 52 52B US...   \n",
       "2         0  Accident on McEwen Rd at OH-725 Miamisburg Cen...   \n",
       "3         1  Accident on I-270 Outerbelt Northbound near Ex...   \n",
       "4         0  Accident on Oakridge Dr at Woodward Ave. Expec...   \n",
       "\n",
       "                                              tokens  \n",
       "0  [accid, state, rout, westbound, dela, palma, r...  \n",
       "1  [accid, interst, southbound, exit, expect, delay]  \n",
       "2  [accid, mcewen, road, miamisburg, centervil, r...  \n",
       "3  [accid, interst, outerbelt, northbound, near, ...  \n",
       "4   [accid, oakridg, woodward, avenu, expect, delay]  "
      ]
     },
     "execution_count": 112,
     "metadata": {},
     "output_type": "execute_result"
    }
   ],
   "source": [
    "%%time\n",
    "# creación de columna con tokenización de una columna de interés especifica\n",
    "df['tokens'] = df.apply(lambda row: textprep(row['Description']), axis=1)\n",
    "df.head()"
   ]
  },
  {
   "cell_type": "code",
   "execution_count": 114,
   "metadata": {},
   "outputs": [
    {
     "name": "stdout",
     "output_type": "stream",
     "text": [
      "Accident on OH-32 State Route 32 Westbound at Dela Palma Rd. Expect delays.\n",
      "['accid', 'state', 'rout', 'westbound', 'dela', 'palma', 'road', 'expect', 'delay']\n",
      "Accident on I-75 Southbound at Exits 52 52B US-35. Expect delays.\n",
      "['accid', 'interst', 'southbound', 'exit', 'expect', 'delay']\n",
      "Accident on McEwen Rd at OH-725 Miamisburg Centerville Rd. Expect delays.\n",
      "['accid', 'mcewen', 'road', 'miamisburg', 'centervil', 'road', 'expect', 'delay']\n",
      "Accident on I-270 Outerbelt Northbound near Exit 29 OH-3 State St. Expect delays.\n",
      "['accid', 'interst', 'outerbelt', 'northbound', 'near', 'exit', 'state', 'street', 'expect', 'delay']\n",
      "Accident on Oakridge Dr at Woodward Ave. Expect delays.\n",
      "['accid', 'oakridg', 'woodward', 'avenu', 'expect', 'delay']\n",
      "Accident on I-75 Southbound at Exit 54B Grand Ave. Expect delays.\n",
      "['accid', 'interst', 'southbound', 'exit', 'grand', 'avenu', 'expect', 'delay']\n",
      "Accident on Notre Dame Ave at Warner Ave. Expect delays.\n",
      "['accid', 'notr', 'dame', 'avenu', 'warner', 'avenu', 'expect', 'delay']\n",
      "Right hand shoulder blocked due to accident on I-270 Outerbelt Westbound at Exit 29 OH-3 State St.\n",
      "['right', 'hand', 'shoulder', 'block', 'due', 'accid', 'interst', 'outerbelt', 'westbound', 'exit', 'state', 'street']\n",
      "Accident on I-270 Outerbelt Northbound at Exits 7 7A 7B US-40 Broad St. Expect delays.\n",
      "['accid', 'interst', 'outerbelt', 'northbound', 'exit', 'broad', 'street', 'expect', 'delay']\n",
      "One lane blocked due to accident on I-70 Westbound at Exits 110 110A 110B Brice Rd. Expect delays.\n",
      "['one', 'lane', 'block', 'due', 'accid', 'interst', 'westbound', 'exit', 'brice', 'road', 'expect', 'delay']\n"
     ]
    }
   ],
   "source": [
    "for i in range(0,10):\n",
    "    print(df['Description'][i])\n",
    "    print(df['tokens'][i])"
   ]
  },
  {
   "cell_type": "markdown",
   "metadata": {
    "id": "L1YBxN9JljRt"
   },
   "source": [
    "### Construir el BoW (diccionario) de términos"
   ]
  },
  {
   "cell_type": "code",
   "execution_count": 115,
   "metadata": {
    "id": "rjzBfwJXljRu"
   },
   "outputs": [],
   "source": [
    "# Creación del BoW - en gensim es Dictionary\n",
    "from gensim.corpora import Dictionary\n",
    "dictionary = Dictionary(df.tokens)"
   ]
  },
  {
   "cell_type": "code",
   "execution_count": 116,
   "metadata": {
    "id": "yDPDgtdolOgb"
   },
   "outputs": [],
   "source": [
    "# Bag-of-words representation of the documents.\n",
    "corpus = [dictionary.doc2bow(doc) for doc in df.tokens]"
   ]
  },
  {
   "cell_type": "code",
   "execution_count": 118,
   "metadata": {
    "colab": {
     "base_uri": "https://localhost:8080/"
    },
    "id": "-Hd_4vrqljRz",
    "outputId": "9abbe917-7c77-4bec-91ed-5253bbdb03a3"
   },
   "outputs": [
    {
     "name": "stdout",
     "output_type": "stream",
     "text": [
      "Dictionary(75120 unique tokens: ['accid', 'dela', 'delay', 'expect', 'palma']...)\n"
     ]
    }
   ],
   "source": [
    "print(dictionary)"
   ]
  },
  {
   "cell_type": "markdown",
   "metadata": {
    "id": "G1cn3_YDljR4"
   },
   "source": [
    "### Construir matriz de documentos vs términos"
   ]
  },
  {
   "cell_type": "code",
   "execution_count": 121,
   "metadata": {
    "colab": {
     "base_uri": "https://localhost:8080/"
    },
    "id": "04IBngxPljR5",
    "outputId": "70fd363e-a1eb-430c-ce3b-4c4a7e260c5e"
   },
   "outputs": [
    {
     "name": "stdout",
     "output_type": "stream",
     "text": [
      "735.5902318954468\n"
     ]
    }
   ],
   "source": [
    "# libreria para paralelizar\n",
    "import multiprocessing as mp\n",
    "import time\n",
    "\n",
    "t0 = time.time()\n",
    "pool = mp.Pool(mp.cpu_count())\n",
    "doc_term_matrix = pool.map(dictionary.doc2bow, [sentence for sentence in df.tokens])\n",
    "pool.close()\n",
    "print(time.time()-t0)"
   ]
  },
  {
   "cell_type": "markdown",
   "metadata": {
    "id": "jvLoK1nNljR8"
   },
   "source": [
    "### Construir modelo LDA"
   ]
  },
  {
   "cell_type": "code",
   "execution_count": 122,
   "metadata": {
    "id": "pOjb6ltF9O53"
   },
   "outputs": [],
   "source": [
    "from gensim.models.ldamodel import LdaModel\n",
    "from gensim.models.coherencemodel import CoherenceModel"
   ]
  },
  {
   "cell_type": "code",
   "execution_count": 123,
   "metadata": {
    "id": "kLpARAlS7lzw"
   },
   "outputs": [],
   "source": [
    "def compute_coherence_values(dictionary, corpus, limit, start=2, step=3):\n",
    "    \"\"\"\n",
    "    Compute c_v coherence for various number of topics\n",
    "\n",
    "    Parameters:\n",
    "    ----------\n",
    "    dictionary : Gensim dictionary\n",
    "    corpus : Gensim corpus\n",
    "    texts : List of input texts\n",
    "    limit : Max num of topics\n",
    "\n",
    "    Returns:\n",
    "    -------\n",
    "    model_list : List of LDA topic models\n",
    "    coherence_values : Coherence values corresponding to the LDA model with respective number of topics\n",
    "    \"\"\"\n",
    "    coherence_values = []\n",
    "    model_list = []\n",
    "    for num_topics in range(start, limit, step):\n",
    "        model=LdaModel(corpus=corpus, id2word=dictionary, num_topics=num_topics)\n",
    "        model_list.append(model)\n",
    "        coherencemodel = CoherenceModel(model=model, corpus=corpus, coherence='u_mass')\n",
    "        coherence_values.append(coherencemodel.get_coherence())\n",
    "\n",
    "    return model_list, coherence_values"
   ]
  },
  {
   "cell_type": "code",
   "execution_count": 124,
   "metadata": {
    "colab": {
     "base_uri": "https://localhost:8080/",
     "height": 279
    },
    "id": "0S5JGvJl8qMu",
    "outputId": "e2007c60-c815-41fa-e28a-0ffd6ecc0e65"
   },
   "outputs": [
    {
     "data": {
      "image/png": "[encoded data removed]",
      "text/plain": [
       "<Figure size 432x288 with 1 Axes>"
      ]
     },
     "metadata": {
      "needs_background": "light"
     },
     "output_type": "display_data"
    }
   ],
   "source": [
    "%%\n",
    "model_list, coherence_values = compute_coherence_values(dictionary=dictionary, corpus=corpus, start=2, limit=50, step=6)\n",
    "# Show graph\n",
    "import matplotlib.pyplot as plt\n",
    "limit=50; start=2; step=6;\n",
    "x = range(start, limit, step)\n",
    "plt.plot(x, coherence_values)\n",
    "plt.xlabel(\"Num Topics\")\n",
    "plt.ylabel(\"Coherence score\")\n",
    "plt.legend((\"coherence_values\"), loc='best')\n",
    "plt.show()"
   ]
  },
  {
   "cell_type": "code",
   "execution_count": 125,
   "metadata": {
    "colab": {
     "base_uri": "https://localhost:8080/"
    },
    "id": "l0T3ed7-ljR9",
    "outputId": "e735b0cf-9763-446a-c227-02352b80d01e"
   },
   "outputs": [
    {
     "name": "stdout",
     "output_type": "stream",
     "text": [
      "4599.23717212677\n"
     ]
    }
   ],
   "source": [
    "from gensim.models.ldamulticore import LdaMulticore\n",
    "\n",
    "t0 = time.time()\n",
    "lda_model = LdaMulticore(doc_term_matrix, num_topics=3, id2word = dictionary, passes=10, workers=10)\n",
    "print(time.time()-t0)"
   ]
  },
  {
   "cell_type": "code",
   "execution_count": 126,
   "metadata": {
    "id": "cTNBJAJelOgb"
   },
   "outputs": [],
   "source": [
    "def assigntopic(doc):\n",
    "    vector = lda_model[dictionary.doc2bow(doc)] \n",
    "    # opción 1: todos los tópicos ordenados de mayor a menor, podria ser topN tambien asi: return vector[:5] n=5\n",
    "    vector = sorted(vector, key=lambda item: -item[1])\n",
    "    # opción 2: asignar el tópico mayor a cada documento\n",
    "    #vector = max(vector,key=lambda item: item[1])\n",
    "    return vector"
   ]
  },
  {
   "cell_type": "code",
   "execution_count": 127,
   "metadata": {
    "colab": {
     "base_uri": "https://localhost:8080/",
     "height": 204
    },
    "id": "9kKx1oPolOgb",
    "outputId": "0ad9b74c-0cf2-411f-91e0-821329cf57e2"
   },
   "outputs": [
    {
     "data": {
      "text/html": [
       "<div>\n",
       "<style scoped>\n",
       "    .dataframe tbody tr th:only-of-type {\n",
       "        vertical-align: middle;\n",
       "    }\n",
       "\n",
       "    .dataframe tbody tr th {\n",
       "        vertical-align: top;\n",
       "    }\n",
       "\n",
       "    .dataframe thead th {\n",
       "        text-align: right;\n",
       "    }\n",
       "</style>\n",
       "<table border=\"1\" class=\"dataframe\">\n",
       "  <thead>\n",
       "    <tr style=\"text-align: right;\">\n",
       "      <th></th>\n",
       "      <th>Severity</th>\n",
       "      <th>Description</th>\n",
       "      <th>tokens</th>\n",
       "      <th>topics</th>\n",
       "    </tr>\n",
       "  </thead>\n",
       "  <tbody>\n",
       "    <tr>\n",
       "      <th>0</th>\n",
       "      <td>0</td>\n",
       "      <td>Accident on OH-32 State Route 32 Westbound at ...</td>\n",
       "      <td>[accid, state, rout, westbound, dela, palma, r...</td>\n",
       "      <td>[(1, 0.5350446), (2, 0.2705823), (0, 0.19437303)]</td>\n",
       "    </tr>\n",
       "    <tr>\n",
       "      <th>1</th>\n",
       "      <td>1</td>\n",
       "      <td>Accident on I-75 Southbound at Exits 52 52B US...</td>\n",
       "      <td>[accid, interst, southbound, exit, expect, delay]</td>\n",
       "      <td>[(1, 0.8993658), (2, 0.050644066), (0, 0.04999...</td>\n",
       "    </tr>\n",
       "    <tr>\n",
       "      <th>2</th>\n",
       "      <td>0</td>\n",
       "      <td>Accident on McEwen Rd at OH-725 Miamisburg Cen...</td>\n",
       "      <td>[accid, mcewen, road, miamisburg, centervil, r...</td>\n",
       "      <td>[(0, 0.675949), (1, 0.28597477), (2, 0.0380762)]</td>\n",
       "    </tr>\n",
       "    <tr>\n",
       "      <th>3</th>\n",
       "      <td>1</td>\n",
       "      <td>Accident on I-270 Outerbelt Northbound near Ex...</td>\n",
       "      <td>[accid, interst, outerbelt, northbound, near, ...</td>\n",
       "      <td>[(1, 0.76498413), (2, 0.2025737), (0, 0.032442...</td>\n",
       "    </tr>\n",
       "    <tr>\n",
       "      <th>4</th>\n",
       "      <td>0</td>\n",
       "      <td>Accident on Oakridge Dr at Woodward Ave. Expec...</td>\n",
       "      <td>[accid, oakridg, woodward, avenu, expect, delay]</td>\n",
       "      <td>[(2, 0.42534015), (1, 0.3688788), (0, 0.2057811)]</td>\n",
       "    </tr>\n",
       "  </tbody>\n",
       "</table>\n",
       "</div>"
      ],
      "text/plain": [
       "   Severity                                        Description  \\\n",
       "0         0  Accident on OH-32 State Route 32 Westbound at ...   \n",
       "1         1  Accident on I-75 Southbound at Exits 52 52B US...   \n",
       "2         0  Accident on McEwen Rd at OH-725 Miamisburg Cen...   \n",
       "3         1  Accident on I-270 Outerbelt Northbound near Ex...   \n",
       "4         0  Accident on Oakridge Dr at Woodward Ave. Expec...   \n",
       "\n",
       "                                              tokens  \\\n",
       "0  [accid, state, rout, westbound, dela, palma, r...   \n",
       "1  [accid, interst, southbound, exit, expect, delay]   \n",
       "2  [accid, mcewen, road, miamisburg, centervil, r...   \n",
       "3  [accid, interst, outerbelt, northbound, near, ...   \n",
       "4   [accid, oakridg, woodward, avenu, expect, delay]   \n",
       "\n",
       "                                              topics  \n",
       "0  [(1, 0.5350446), (2, 0.2705823), (0, 0.19437303)]  \n",
       "1  [(1, 0.8993658), (2, 0.050644066), (0, 0.04999...  \n",
       "2   [(0, 0.675949), (1, 0.28597477), (2, 0.0380762)]  \n",
       "3  [(1, 0.76498413), (2, 0.2025737), (0, 0.032442...  \n",
       "4  [(2, 0.42534015), (1, 0.3688788), (0, 0.2057811)]  "
      ]
     },
     "execution_count": 127,
     "metadata": {},
     "output_type": "execute_result"
    }
   ],
   "source": [
    "df['topics'] = df.apply(lambda row: assigntopic(row['tokens']), axis=1)\n",
    "df.head()"
   ]
  },
  {
   "cell_type": "markdown",
   "metadata": {
    "id": "u5OMIpCXljSA"
   },
   "source": [
    "### Ejemplos de tópicos del modelo"
   ]
  },
  {
   "cell_type": "code",
   "execution_count": 128,
   "metadata": {
    "colab": {
     "base_uri": "https://localhost:8080/"
    },
    "id": "l9gRw4KWljSB",
    "outputId": "15f5eabc-9ba2-4d93-eb71-94d0bb3c5c7d"
   },
   "outputs": [
    {
     "name": "stdout",
     "output_type": "stream",
     "text": [
      "[(0, 0.19434898), (1, 0.5350637), (2, 0.27058735)]\n",
      "[(0, '0.217*\"accid\" + 0.204*\"road\" + 0.038*\"rdexit\"'), (1, '0.118*\"block\" + 0.112*\"accid\" + 0.109*\"lane\"'), (2, '0.265*\"accid\" + 0.088*\"street\" + 0.082*\"avenu\"')]\n"
     ]
    }
   ],
   "source": [
    "# Mostrar los términos y sus pesos de un documento\n",
    "print(list(lda_model[doc_term_matrix[0]]))\n",
    "\n",
    "# Mostrar los términos más relevantes de los tópicos más relevantes tópico y sus pesos\n",
    "print(lda_model.print_topics(num_topics=10, num_words=3))"
   ]
  },
  {
   "cell_type": "code",
   "execution_count": 129,
   "metadata": {
    "id": "gjzeUzrelOgb"
   },
   "outputs": [],
   "source": [
    "lda_topic_assignment = [max(p,key=lambda item: item[1]) for p in lda_model[corpus]]"
   ]
  },
  {
   "cell_type": "markdown",
   "metadata": {
    "id": "1R1o7gDHljSE"
   },
   "source": [
    "## Visualización de todos los tópicos"
   ]
  },
  {
   "cell_type": "code",
   "execution_count": 130,
   "metadata": {
    "colab": {
     "base_uri": "https://localhost:8080/",
     "height": 878
    },
    "id": "jJKiu5ZCljSF",
    "outputId": "d227515b-85df-4b45-d868-8b98edce7af8"
   },
   "outputs": [
    {
     "name": "stdout",
     "output_type": "stream",
     "text": [
      "3376.8341217041016\n"
     ]
    },
    {
     "data": {
      "text/html": [
       "\n",
       "<link rel=\"stylesheet\" type=\"text/css\" href=\"https://cdn.rawgit.com/bmabey/pyLDAvis/files/ldavis.v1.0.0.css\">\n",
       "\n",
       "\n",
       "<div id=\"ldavis_el2105625634310450406202563993\"></div>\n",
       "<script type=\"text/javascript\">\n",
       "\n",
       "var ldavis_el2105625634310450406202563993_data = {\"mdsDat\": {\"x\": [0.18418294752914982, -0.3303916836546151, 0.14620873612546523], \"y\": [0.22880856001404665, 0.01823083712967658, -0.24703939714372317], \"topics\": [1, 2, 3], \"cluster\": [1, 1, 1], \"Freq\": [27.189579010009766, 46.11662292480469, 26.693805694580078]}, \"tinfo\": {\"Term\": [\"road\", \"block\", \"lane\", \"due\", \"street\", \"accid\", \"interst\", \"avenu\", \"close\", \"exit\", \"right\", \"blvd\", \"rdexit\", \"left\", \"northbound\", \"aveexit\", \"southbound\", \"stexit\", \"hwi\", \"shoulder\", \"eastbound\", \"westbound\", \"ramp\", \"blvdexit\", \"hand\", \"fwi\", \"counti\", \"hard\", \"two\", \"iexit\", \"road\", \"rdexit\", \"counti\", \"creek\", \"usexit\", \"hill\", \"lake\", \"old\", \"valley\", \"canyon\", \"line\", \"hwi\", \"pike\", \"spring\", \"mill\", \"rtexit\", \"san\", \"crexit\", \"hwyexit\", \"spun\", \"ridg\", \"srexit\", \"mountain\", \"forest\", \"grove\", \"church\", \"overturn\", \"orexit\", \"ferri\", \"iusexit\", \"point\", \"oak\", \"vehicl\", \"accid\", \"river\", \"way\", \"bridg\", \"near\", \"around\", \"pkwi\", \"lane\", \"block\", \"due\", \"interst\", \"exit\", \"right\", \"left\", \"shoulder\", \"ramp\", \"hand\", \"southbound\", \"two\", \"iexit\", \"northbound\", \"traffic\", \"slow\", \"one\", \"entri\", \"three\", \"hov\", \"queue\", \"westbound\", \"tollway\", \"beltway\", \"bronx\", \"express\", \"median\", \"construct\", \"eastbound\", \"westchest\", \"close\", \"center\", \"expi\", \"pkwi\", \"accid\", \"multivehicl\", \"state\", \"near\", \"blvd\", \"street\", \"avenu\", \"aveexit\", \"stexit\", \"blvdexit\", \"drexit\", \"main\", \"pkyexit\", \"pki\", \"grand\", \"washington\", \"central\", \"hard\", \"utexit\", \"king\", \"south\", \"isan\", \"east\", \"citi\", \"martin\", \"santa\", \"diego\", \"vaexit\", \"expyexit\", \"luther\", \"colleg\", \"western\", \"area\", \"del\", \"fwi\", \"north\", \"brg\", \"loop\", \"reduc\", \"plaza\", \"blvd\", \"broadway\", \"accid\", \"way\", \"near\", \"park\", \"univers\"], \"Freq\": [1067079.0, 1046162.0, 961909.0, 802141.0, 452987.0, 3486242.0, 739863.0, 422231.0, 693677.0, 579992.0, 363673.0, 243725.0, 197761.0, 298603.0, 242593.0, 136243.0, 229241.0, 120676.0, 121969.0, 199625.0, 182604.0, 178431.0, 169965.0, 77296.0, 121237.0, 61675.0, 49409.0, 45192.0, 71702.0, 66679.0, 1067078.375, 197760.703125, 49408.28125, 34323.0390625, 37156.1328125, 32733.03515625, 32007.099609375, 29010.73828125, 28370.36328125, 26415.59375, 20780.306640625, 121964.578125, 18875.591796875, 17536.1484375, 15046.3369140625, 15429.990234375, 14108.69921875, 13759.083984375, 13594.1826171875, 12929.2236328125, 11989.810546875, 13777.0986328125, 11473.2998046875, 10478.494140625, 10351.7666015625, 9173.1953125, 10380.392578125, 8313.078125, 7402.01611328125, 7699.14306640625, 7588.81005859375, 13358.7265625, 29395.1484375, 1133704.25, 23186.181640625, 22831.181640625, 13818.5166015625, 23720.404296875, 14759.17578125, 19361.107421875, 961908.3125, 1046161.5625, 802140.5, 739862.375, 579991.6875, 363672.8125, 298602.75, 199624.546875, 169965.015625, 121236.9296875, 229239.46875, 71702.171875, 66678.8046875, 242587.484375, 48631.8828125, 24464.529296875, 22690.1796875, 20772.759765625, 16347.6904296875, 12319.833984375, 8778.388671875, 178413.03125, 7118.37744140625, 5848.49755859375, 5888.4873046875, 5192.0400390625, 5124.35888671875, 4928.6787109375, 182553.65625, 2542.233642578125, 692015.375, 48438.49609375, 39162.47265625, 42396.375, 993689.75, 10348.373046875, 13645.966796875, 16361.8662109375, 18994.099609375, 452986.5, 422230.1875, 136242.53125, 120675.2109375, 77295.59375, 35876.46484375, 25716.302734375, 25233.23828125, 22295.9296875, 14904.4384765625, 14279.97265625, 14462.5185546875, 45189.22265625, 12392.7099609375, 11373.1962890625, 12183.7119140625, 10827.814453125, 9106.4267578125, 8955.4775390625, 7362.189453125, 7265.642578125, 6780.06787109375, 8252.1123046875, 6808.98828125, 6193.48583984375, 6268.50634765625, 6140.6162109375, 7007.94140625, 6110.671875, 61666.6171875, 14630.443359375, 13476.7177734375, 11563.828125, 7980.13134765625, 7431.00634765625, 223932.5625, 7940.77490234375, 1358848.625, 23714.64453125, 27310.31640625, 13476.53515625, 8761.6494140625], \"Total\": [1067079.0, 1046162.0, 961909.0, 802141.0, 452987.0, 3486242.0, 739863.0, 422231.0, 693677.0, 579992.0, 363673.0, 243725.0, 197761.0, 298603.0, 242593.0, 136243.0, 229241.0, 120676.0, 121969.0, 199625.0, 182604.0, 178431.0, 169965.0, 77296.0, 121237.0, 61675.0, 49409.0, 45192.0, 71702.0, 66679.0, 1067079.875, 197761.640625, 49409.16796875, 34323.9140625, 37157.12890625, 32733.91796875, 32007.98828125, 29011.60546875, 28371.25, 26416.470703125, 20781.19921875, 121969.8984375, 18876.47265625, 17537.025390625, 15047.23046875, 15430.9921875, 14109.6474609375, 13760.01953125, 13595.1103515625, 12930.134765625, 11990.6806640625, 13778.134765625, 11474.2138671875, 10479.390625, 10352.697265625, 9174.0771484375, 10381.4033203125, 8313.9443359375, 7402.88330078125, 7700.10888671875, 7590.28662109375, 13794.619140625, 33597.87109375, 3486242.5, 29162.771484375, 46546.35546875, 18833.255859375, 67392.5859375, 22871.6328125, 68992.0625, 961909.0625, 1046162.3125, 802141.25, 739863.125, 579992.4375, 363673.5625, 298603.5, 199625.28125, 169965.796875, 121237.640625, 229241.765625, 71702.9375, 66679.6796875, 242593.140625, 48633.046875, 24465.259765625, 22690.912109375, 20773.48046875, 16348.4951171875, 12320.5634765625, 8779.1162109375, 178431.140625, 7119.15625, 5849.23388671875, 5889.25830078125, 5192.7734375, 5125.09912109375, 4929.525390625, 182604.734375, 2542.964599609375, 693677.9375, 54567.3125, 46558.3828125, 68992.0625, 3486242.5, 12759.6005859375, 27161.107421875, 67392.5859375, 243725.78125, 452987.40625, 422231.4375, 136243.484375, 120676.171875, 77296.546875, 35877.484375, 25717.208984375, 25234.318359375, 22296.94921875, 14905.357421875, 14280.8916015625, 14463.4658203125, 45192.2734375, 12393.6689453125, 11374.099609375, 12184.6884765625, 10828.7099609375, 9107.3818359375, 8956.4208984375, 7363.0771484375, 7266.55517578125, 6780.951171875, 8253.232421875, 6809.9296875, 6194.36669921875, 6269.4208984375, 6141.513671875, 7008.96875, 6111.572265625, 61675.8515625, 14633.5947265625, 13485.0087890625, 11571.5703125, 7981.60791015625, 7437.70947265625, 243725.78125, 7975.4140625, 3486242.5, 46546.35546875, 67392.5859375, 23117.916015625, 10928.4677734375], \"Category\": [\"Default\", \"Default\", \"Default\", \"Default\", \"Default\", \"Default\", \"Default\", \"Default\", \"Default\", \"Default\", \"Default\", \"Default\", \"Default\", \"Default\", \"Default\", \"Default\", \"Default\", \"Default\", \"Default\", \"Default\", \"Default\", \"Default\", \"Default\", \"Default\", \"Default\", \"Default\", \"Default\", \"Default\", \"Default\", \"Default\", \"Topic1\", \"Topic1\", \"Topic1\", \"Topic1\", \"Topic1\", \"Topic1\", \"Topic1\", \"Topic1\", \"Topic1\", \"Topic1\", \"Topic1\", \"Topic1\", \"Topic1\", \"Topic1\", \"Topic1\", \"Topic1\", \"Topic1\", \"Topic1\", \"Topic1\", \"Topic1\", \"Topic1\", \"Topic1\", \"Topic1\", \"Topic1\", \"Topic1\", \"Topic1\", \"Topic1\", \"Topic1\", \"Topic1\", \"Topic1\", \"Topic1\", \"Topic1\", \"Topic1\", \"Topic1\", \"Topic1\", \"Topic1\", \"Topic1\", \"Topic1\", \"Topic1\", \"Topic1\", \"Topic2\", \"Topic2\", \"Topic2\", \"Topic2\", \"Topic2\", \"Topic2\", \"Topic2\", \"Topic2\", \"Topic2\", \"Topic2\", \"Topic2\", \"Topic2\", \"Topic2\", \"Topic2\", \"Topic2\", \"Topic2\", \"Topic2\", \"Topic2\", \"Topic2\", \"Topic2\", \"Topic2\", \"Topic2\", \"Topic2\", \"Topic2\", \"Topic2\", \"Topic2\", \"Topic2\", \"Topic2\", \"Topic2\", \"Topic2\", \"Topic2\", \"Topic2\", \"Topic2\", \"Topic2\", \"Topic2\", \"Topic2\", \"Topic2\", \"Topic2\", \"Topic2\", \"Topic3\", \"Topic3\", \"Topic3\", \"Topic3\", \"Topic3\", \"Topic3\", \"Topic3\", \"Topic3\", \"Topic3\", \"Topic3\", \"Topic3\", \"Topic3\", \"Topic3\", \"Topic3\", \"Topic3\", \"Topic3\", \"Topic3\", \"Topic3\", \"Topic3\", \"Topic3\", \"Topic3\", \"Topic3\", \"Topic3\", \"Topic3\", \"Topic3\", \"Topic3\", \"Topic3\", \"Topic3\", \"Topic3\", \"Topic3\", \"Topic3\", \"Topic3\", \"Topic3\", \"Topic3\", \"Topic3\", \"Topic3\", \"Topic3\", \"Topic3\", \"Topic3\", \"Topic3\", \"Topic3\", \"Topic3\"], \"logprob\": [30.0, 29.0, 28.0, 27.0, 26.0, 25.0, 24.0, 23.0, 22.0, 21.0, 20.0, 19.0, 18.0, 17.0, 16.0, 15.0, 14.0, 13.0, 12.0, 11.0, 10.0, 9.0, 8.0, 7.0, 6.0, 5.0, 4.0, 3.0, 2.0, 1.0, -1.5877000093460083, -3.2732999324798584, -4.660200119018555, -5.024499893188477, -4.945199966430664, -5.072000026702881, -5.094399929046631, -5.192699909210205, -5.215000152587891, -5.286399841308594, -5.526299953460693, -3.7565999031066895, -5.622499942779541, -5.696100234985352, -5.8491997718811035, -5.823999881744385, -5.913599967956543, -5.938700199127197, -5.950699806213379, -6.000899791717529, -6.076300144195557, -5.937300205230713, -6.120299816131592, -6.210999965667725, -6.223199844360352, -6.344099998474121, -6.220399856567383, -6.442500114440918, -6.558599948883057, -6.519199848175049, -6.533699989318848, -5.968200206756592, -5.179500102996826, -1.5270999670028687, -5.416800022125244, -5.432199954986572, -5.934299945831299, -5.394000053405762, -5.868500232696533, -5.597099781036377, -2.2197999954223633, -2.1357998847961426, -2.401400089263916, -2.4821999073028564, -2.7256999015808105, -3.1923999786376953, -3.3896000385284424, -3.79229998588562, -3.9530999660491943, -4.290900230407715, -3.653899908065796, -4.816199779510498, -4.888800144195557, -3.5973000526428223, -5.204400062561035, -5.891499996185303, -5.966800212860107, -6.054999828338623, -6.294600009918213, -6.577499866485596, -6.916399955749512, -3.904599905014038, -7.125999927520752, -7.322500228881836, -7.315700054168701, -7.4415998458862305, -7.454699993133545, -7.493599891662598, -3.8815999031066895, -8.155599594116211, -2.549099922180176, -5.208399772644043, -5.421000003814697, -5.341599941253662, -2.187299966812134, -6.7519001960754395, -6.475200176239014, -6.293700218200684, -6.144599914550781, -2.426100015640259, -2.4964001178741455, -3.627500057220459, -3.748800039291382, -4.194300174713135, -4.961900234222412, -5.2947998046875, -5.313799858093262, -5.4375, -5.8403000831604, -5.8831000328063965, -5.8703999519348145, -4.731100082397461, -6.024799823760986, -6.1107001304626465, -6.041800022125244, -6.159800052642822, -6.333000183105469, -6.349699974060059, -6.545599937438965, -6.558800220489502, -6.627999782562256, -6.43149995803833, -6.623700141906738, -6.718500137329102, -6.706399917602539, -6.7270002365112305, -6.594900131225586, -6.731900215148926, -4.420199871063232, -5.858799934387207, -5.940999984741211, -6.094099998474121, -6.465000152587891, -6.536300182342529, -3.1305999755859375, -6.469900131225586, -1.3276000022888184, -5.375899791717529, -5.2347002029418945, -5.940999984741211, -6.371600151062012], \"loglift\": [30.0, 29.0, 28.0, 27.0, 26.0, 25.0, 24.0, 23.0, 22.0, 21.0, 20.0, 19.0, 18.0, 17.0, 16.0, 15.0, 14.0, 13.0, 12.0, 11.0, 10.0, 9.0, 8.0, 7.0, 6.0, 5.0, 4.0, 3.0, 2.0, 1.0, 1.302299976348877, 1.302299976348877, 1.302299976348877, 1.302299976348877, 1.302299976348877, 1.302299976348877, 1.302299976348877, 1.302299976348877, 1.302299976348877, 1.302299976348877, 1.302299976348877, 1.302299976348877, 1.302299976348877, 1.302299976348877, 1.302299976348877, 1.302299976348877, 1.302299976348877, 1.302299976348877, 1.302299976348877, 1.302299976348877, 1.302299976348877, 1.302299976348877, 1.302299976348877, 1.302299976348877, 1.3021999597549438, 1.3021999597549438, 1.3021999597549438, 1.3021999597549438, 1.3021999597549438, 1.3021999597549438, 1.3020999431610107, 1.2702000141143799, 1.1686999797821045, 0.17900000512599945, 1.0729999542236328, 0.5899999737739563, 0.9926999807357788, 0.2581000030040741, 0.864300012588501, 0.031599998474121094, 0.7739999890327454, 0.7739999890327454, 0.7739999890327454, 0.7739999890327454, 0.7739999890327454, 0.7739999890327454, 0.7739999890327454, 0.7739999890327454, 0.7739999890327454, 0.7739999890327454, 0.7739999890327454, 0.7739999890327454, 0.7739999890327454, 0.7739999890327454, 0.7739999890327454, 0.7739999890327454, 0.7739999890327454, 0.7739999890327454, 0.7738999724388123, 0.7738999724388123, 0.7738999724388123, 0.7738999724388123, 0.7738999724388123, 0.7738999724388123, 0.7738999724388123, 0.7738999724388123, 0.7738999724388123, 0.7738000154495239, 0.7736999988555908, 0.7736999988555908, 0.7716000080108643, 0.6549000144004822, 0.6010000109672546, 0.2870999872684479, -0.4812000095844269, 0.5644999742507935, 0.08569999784231186, -0.6416000127792358, -1.777899980545044, 1.3207000494003296, 1.3207000494003296, 1.3207000494003296, 1.3207000494003296, 1.3207000494003296, 1.3207000494003296, 1.3207000494003296, 1.3207000494003296, 1.3207000494003296, 1.3207000494003296, 1.3207000494003296, 1.3207000494003296, 1.3207000494003296, 1.3207000494003296, 1.3207000494003296, 1.3207000494003296, 1.3207000494003296, 1.3206000328063965, 1.3206000328063965, 1.3206000328063965, 1.3206000328063965, 1.3206000328063965, 1.3206000328063965, 1.3206000328063965, 1.3206000328063965, 1.3206000328063965, 1.3206000328063965, 1.3206000328063965, 1.3206000328063965, 1.3206000328063965, 1.3205000162124634, 1.320099949836731, 1.320099949836731, 1.3206000328063965, 1.3198000192642212, 1.2359999418258667, 1.3164000511169434, 0.37860000133514404, 0.646399974822998, 0.41749998927116394, 0.7810999751091003, 1.0997999906539917]}, \"token.table\": {\"Topic\": [1, 2, 3, 2, 3, 1, 2, 3, 2, 3, 2, 3, 2, 2, 1, 2, 3, 2, 3, 2, 3, 1, 2, 3, 2, 3, 2, 1, 2, 2, 3, 2, 3, 1, 2, 2, 3, 1, 2, 2, 3, 2, 1, 2, 1, 2, 1, 2, 2, 3, 2, 3, 2, 3, 2, 2, 3, 1, 2, 3, 2, 2, 2, 3, 2, 2, 3, 1, 2, 1, 2, 2, 3, 2, 3, 1, 2, 2, 1, 2, 3, 1, 2, 2, 1, 2, 1, 2, 2, 2, 2, 3, 1, 2, 2, 3, 1, 2, 2, 2, 1, 2, 1, 2, 3, 2, 3, 2, 3, 2, 3, 2, 1, 2, 1, 2, 1, 2, 3, 1, 2, 3, 2, 3, 2, 3, 1, 2, 3, 1, 2, 2, 1, 2, 1, 2, 1, 2, 3, 1, 2, 2, 3, 1, 2, 3, 2, 3, 1, 2, 3, 1, 2, 2, 2, 1, 2, 1, 2, 3, 1, 2, 2, 1, 2, 3, 1, 2, 1, 2, 1, 2, 2, 3, 2, 2, 2, 3, 2, 3, 1, 2, 1, 2, 1, 2, 1, 2, 3, 2, 3, 2, 3, 2, 2, 1, 2, 2, 2, 3, 1, 2, 2, 3, 2, 3, 1, 2, 1, 2, 2, 3, 1, 2, 3, 1, 2, 3, 2, 2, 3], \"Freq\": [0.3251936733722687, 0.285031795501709, 0.3897746503353119, 0.00014267434016801417, 0.9998617768287659, 0.6452971696853638, 0.15460199117660522, 0.20007316768169403, 7.339800504269078e-06, 0.9999964237213135, 2.3683694507781183e-06, 0.9999966025352478, 0.9997890591621399, 0.9999997019767761, 0.003278274554759264, 0.07793184369802475, 0.9187907576560974, 1.2937188330397476e-05, 0.9999929070472717, 0.0005932513740845025, 0.999406099319458, 0.7337552309036255, 0.2341071516275406, 0.03217712417244911, 0.004263101611286402, 0.9956849813461304, 0.9997863173484802, 0.9999821782112122, 3.7855170376133174e-05, 0.8876742720603943, 0.11230166256427765, 6.913972174515948e-05, 0.9999678134918213, 0.9998825788497925, 0.00010900278721237555, 0.00011165174510097131, 0.9998413324356079, 0.002395924646407366, 0.9976027011871338, 0.00015950437227729708, 0.9999328851699829, 0.9998934268951416, 0.9999763369560242, 2.023915840254631e-05, 0.9999733567237854, 2.9134205760783516e-05, 0.9999259114265442, 7.267431647051126e-05, 0.00016362401947844774, 0.9999063611030579, 0.00014747193199582398, 0.9998597502708435, 2.7872634746017866e-05, 0.9999586343765259, 0.9999984502792358, 0.00010980103979818523, 0.9998482465744019, 0.00015881296712905169, 0.9997221827507019, 0.00012595510634128004, 0.9999768733978271, 0.9999992251396179, 0.8411374688148499, 0.15885432064533234, 0.9998510479927063, 0.0001468443952035159, 0.9998635053634644, 0.9998806715011597, 0.00013508250412996858, 0.99986732006073, 9.54253991949372e-05, 0.0001459242048440501, 0.9998564720153809, 6.708996806992218e-05, 0.9999089241027832, 0.9999326467514038, 9.659318311605603e-05, 0.999994695186615, 2.2127676857053302e-05, 6.63830287521705e-05, 0.9999275803565979, 0.9999719858169556, 3.054935223190114e-05, 0.9999542832374573, 0.9999598264694214, 4.099372017662972e-05, 0.9999183416366577, 7.355585694313049e-05, 0.9999898076057434, 0.9999984502792358, 9.23471015994437e-05, 0.9999344348907471, 0.9998559951782227, 0.00012986829096917063, 8.791904838290066e-05, 0.9999033212661743, 0.9999691247940063, 3.124220165773295e-05, 0.9999988675117493, 0.9999983310699463, 0.9999423027038574, 4.812041879631579e-05, 0.0006049308576621115, 8.641869499115273e-05, 0.9993457794189453, 0.00016143699758686125, 0.9997793436050415, 3.888446735800244e-05, 0.9999529719352722, 0.00013581277744378895, 0.9998537302017212, 0.9997855424880981, 0.9999182224273682, 6.64574108668603e-05, 0.9998942017555237, 8.715193689567968e-05, 0.11458038538694382, 0.8109971880912781, 0.07437536865472794, 0.3519675135612488, 0.24278634786605835, 0.40523746609687805, 0.0002050077309831977, 0.9997543692588806, 0.9999746680259705, 2.0610639694496058e-05, 0.9684211015701294, 7.249203190440312e-05, 0.03153403475880623, 0.9999791383743286, 3.446896516834386e-05, 0.9999598264694214, 0.9998863935470581, 0.00012027985212625936, 0.9998648166656494, 9.632608998799697e-05, 0.417035847902298, 4.3256495700916275e-05, 0.5829677581787109, 0.9999749660491943, 5.297600000631064e-05, 4.484918463276699e-05, 0.9999574422836304, 0.28062647581100464, 0.6145054697990417, 0.10486713796854019, 3.9628572267247364e-05, 0.999947726726532, 0.0008066999725997448, 0.0001344499905826524, 0.9990978837013245, 0.9998304843902588, 0.00013174733612686396, 0.9998728632926941, 0.9999952912330627, 0.9999967813491821, 5.0565922720124945e-06, 0.00012528803199529648, 0.00012528803199529648, 0.9997985363006592, 0.9999432563781738, 8.339810301549733e-05, 0.9999984502792358, 0.7950547337532043, 0.20464447140693665, 0.0002743223449215293, 0.9999982714653015, 9.371369742439128e-07, 0.9999356865882874, 6.480464799096808e-05, 0.999954104423523, 7.087349513312802e-05, 0.0001376167929265648, 0.999923586845398, 0.9999985694885254, 0.99998939037323, 8.20702116470784e-05, 0.9999434947967529, 0.9999879598617554, 8.72441341925878e-06, 0.9999415278434753, 5.702221460524015e-05, 0.9999122619628906, 7.733871461823583e-05, 0.9999176263809204, 7.257876131916419e-05, 0.23172840476036072, 0.5024095773696899, 0.26589488983154297, 8.286639967991505e-06, 0.9999902844429016, 2.207566922152182e-06, 0.9999969005584717, 0.9999697208404541, 0.9998375773429871, 2.0562149074976332e-05, 0.9999784827232361, 0.9999869465827942, 0.19819796085357666, 0.8017592430114746, 0.9999696016311646, 2.6912735847872682e-05, 8.068635361269116e-05, 0.9999459981918335, 0.00012116464495193213, 0.9998506903648376, 0.999955952167511, 3.524695057421923e-05, 0.874906599521637, 0.12506744265556335, 7.002364145591855e-05, 0.9999375939369202, 0.490500271320343, 2.1483958335011266e-05, 0.5094920992851257, 1.1208805517526343e-05, 0.9998983144760132, 8.967044414021075e-05, 0.9996206760406494, 0.00016282631258945912, 0.9999163746833801], \"Term\": [\"accid\", \"accid\", \"accid\", \"area\", \"area\", \"around\", \"around\", \"around\", \"aveexit\", \"aveexit\", \"avenu\", \"avenu\", \"beltway\", \"block\", \"blvd\", \"blvd\", \"blvd\", \"blvdexit\", \"blvdexit\", \"brg\", \"brg\", \"bridg\", \"bridg\", \"bridg\", \"broadway\", \"broadway\", \"bronx\", \"canyon\", \"canyon\", \"center\", \"center\", \"central\", \"central\", \"church\", \"church\", \"citi\", \"citi\", \"close\", \"close\", \"colleg\", \"colleg\", \"construct\", \"counti\", \"counti\", \"creek\", \"creek\", \"crexit\", \"crexit\", \"del\", \"del\", \"diego\", \"diego\", \"drexit\", \"drexit\", \"due\", \"east\", \"east\", \"eastbound\", \"eastbound\", \"eastbound\", \"entri\", \"exit\", \"expi\", \"expi\", \"express\", \"expyexit\", \"expyexit\", \"ferri\", \"ferri\", \"forest\", \"forest\", \"fwi\", \"fwi\", \"grand\", \"grand\", \"grove\", \"grove\", \"hand\", \"hard\", \"hard\", \"hard\", \"hill\", \"hill\", \"hov\", \"hwi\", \"hwi\", \"hwyexit\", \"hwyexit\", \"iexit\", \"interst\", \"isan\", \"isan\", \"iusexit\", \"iusexit\", \"king\", \"king\", \"lake\", \"lake\", \"lane\", \"left\", \"line\", \"line\", \"loop\", \"loop\", \"loop\", \"luther\", \"luther\", \"main\", \"main\", \"martin\", \"martin\", \"median\", \"mill\", \"mill\", \"mountain\", \"mountain\", \"multivehicl\", \"multivehicl\", \"multivehicl\", \"near\", \"near\", \"near\", \"north\", \"north\", \"northbound\", \"northbound\", \"oak\", \"oak\", \"oak\", \"old\", \"old\", \"one\", \"orexit\", \"orexit\", \"overturn\", \"overturn\", \"park\", \"park\", \"park\", \"pike\", \"pike\", \"pki\", \"pki\", \"pkwi\", \"pkwi\", \"pkwi\", \"pkyexit\", \"pkyexit\", \"plaza\", \"plaza\", \"plaza\", \"point\", \"point\", \"queue\", \"ramp\", \"rdexit\", \"rdexit\", \"reduc\", \"reduc\", \"reduc\", \"ridg\", \"ridg\", \"right\", \"river\", \"river\", \"river\", \"road\", \"road\", \"rtexit\", \"rtexit\", \"san\", \"san\", \"santa\", \"santa\", \"shoulder\", \"slow\", \"south\", \"south\", \"southbound\", \"southbound\", \"spring\", \"spring\", \"spun\", \"spun\", \"srexit\", \"srexit\", \"state\", \"state\", \"state\", \"stexit\", \"stexit\", \"street\", \"street\", \"three\", \"tollway\", \"traffic\", \"traffic\", \"two\", \"univers\", \"univers\", \"usexit\", \"usexit\", \"utexit\", \"utexit\", \"vaexit\", \"vaexit\", \"valley\", \"valley\", \"vehicl\", \"vehicl\", \"washington\", \"washington\", \"way\", \"way\", \"way\", \"westbound\", \"westbound\", \"westbound\", \"westchest\", \"western\", \"western\"]}, \"R\": 30, \"lambda.step\": 0.01, \"plot.opts\": {\"xlab\": \"PC1\", \"ylab\": \"PC2\"}, \"topic.order\": [1, 2, 3]};\n",
       "\n",
       "function LDAvis_load_lib(url, callback){\n",
       "  var s = document.createElement('script');\n",
       "  s.src = url;\n",
       "  s.async = true;\n",
       "  s.onreadystatechange = s.onload = callback;\n",
       "  s.onerror = function(){console.warn(\"failed to load library \" + url);};\n",
       "  document.getElementsByTagName(\"head\")[0].appendChild(s);\n",
       "}\n",
       "\n",
       "if(typeof(LDAvis) !== \"undefined\"){\n",
       "   // already loaded: just create the visualization\n",
       "   !function(LDAvis){\n",
       "       new LDAvis(\"#\" + \"ldavis_el2105625634310450406202563993\", ldavis_el2105625634310450406202563993_data);\n",
       "   }(LDAvis);\n",
       "}else if(typeof define === \"function\" && define.amd){\n",
       "   // require.js is available: use it to load d3/LDAvis\n",
       "   require.config({paths: {d3: \"https://cdnjs.cloudflare.com/ajax/libs/d3/3.5.5/d3.min\"}});\n",
       "   require([\"d3\"], function(d3){\n",
       "      window.d3 = d3;\n",
       "      LDAvis_load_lib(\"https://cdn.rawgit.com/bmabey/pyLDAvis/files/ldavis.v1.0.0.js\", function(){\n",
       "        new LDAvis(\"#\" + \"ldavis_el2105625634310450406202563993\", ldavis_el2105625634310450406202563993_data);\n",
       "      });\n",
       "    });\n",
       "}else{\n",
       "    // require.js not available: dynamically load d3 & LDAvis\n",
       "    LDAvis_load_lib(\"https://cdnjs.cloudflare.com/ajax/libs/d3/3.5.5/d3.min.js\", function(){\n",
       "         LDAvis_load_lib(\"https://cdn.rawgit.com/bmabey/pyLDAvis/files/ldavis.v1.0.0.js\", function(){\n",
       "                 new LDAvis(\"#\" + \"ldavis_el2105625634310450406202563993\", ldavis_el2105625634310450406202563993_data);\n",
       "            })\n",
       "         });\n",
       "}\n",
       "</script>"
      ],
      "text/plain": [
       "PreparedData(topic_coordinates=              x         y  topics  cluster       Freq\n",
       "topic                                                \n",
       "0      0.184183  0.228809       1        1  27.189579\n",
       "1     -0.330392  0.018231       2        1  46.116623\n",
       "2      0.146209 -0.247039       3        1  26.693806, topic_info=        Term          Freq         Total Category  logprob  loglift\n",
       "5       road  1.067079e+06  1.067079e+06  Default  30.0000  30.0000\n",
       "26     block  1.046162e+06  1.046162e+06  Default  29.0000  29.0000\n",
       "33      lane  9.619090e+05  9.619090e+05  Default  28.0000  28.0000\n",
       "27       due  8.021410e+05  8.021410e+05  Default  27.0000  27.0000\n",
       "18    street  4.529870e+05  4.529870e+05  Default  26.0000  26.0000\n",
       "..       ...           ...           ...      ...      ...      ...\n",
       "0      accid  1.358849e+06  3.486242e+06   Topic3  -1.3276   0.3786\n",
       "193      way  2.371464e+04  4.654636e+04   Topic3  -5.3759   0.6464\n",
       "15      near  2.731032e+04  6.739259e+04   Topic3  -5.2347   0.4175\n",
       "203     park  1.347654e+04  2.311792e+04   Topic3  -5.9410   0.7811\n",
       "940  univers  8.761649e+03  1.092847e+04   Topic3  -6.3716   1.0998\n",
       "\n",
       "[151 rows x 6 columns], token_table=       Topic      Freq       Term\n",
       "term                             \n",
       "0          1  0.325194      accid\n",
       "0          2  0.285032      accid\n",
       "0          3  0.389775      accid\n",
       "2364       2  0.000143       area\n",
       "2364       3  0.999862       area\n",
       "...      ...       ...        ...\n",
       "8          2  0.999898  westbound\n",
       "8          3  0.000090  westbound\n",
       "10679      2  0.999621  westchest\n",
       "975        2  0.000163    western\n",
       "975        3  0.999916    western\n",
       "\n",
       "[221 rows x 3 columns], R=30, lambda_step=0.01, plot_opts={'xlab': 'PC1', 'ylab': 'PC2'}, topic_order=[1, 2, 3])"
      ]
     },
     "execution_count": 130,
     "metadata": {},
     "output_type": "execute_result"
    }
   ],
   "source": [
    "import pyLDAvis\n",
    "from pyLDAvis import gensim\n",
    "\n",
    "t0 = time.time()\n",
    "pyLDAvis.enable_notebook()\n",
    "vis = gensim.prepare(lda_model, doc_term_matrix, dictionary, sort_topics = False)\n",
    "print(time.time()-t0)\n",
    "vis"
   ]
  },
  {
   "cell_type": "markdown",
   "metadata": {
    "id": "-QKgWp_RljSI"
   },
   "source": [
    "### Guardar la visualización en un archivo HTML"
   ]
  },
  {
   "cell_type": "code",
   "execution_count": 131,
   "metadata": {
    "colab": {
     "base_uri": "https://localhost:8080/"
    },
    "id": "fU3B4ZVi8vQJ",
    "outputId": "7d7fda84-444f-4455-9a3f-163a6436ba6c"
   },
   "outputs": [
    {
     "data": {
      "text/html": [
       "<div>\n",
       "<style scoped>\n",
       "    .dataframe tbody tr th:only-of-type {\n",
       "        vertical-align: middle;\n",
       "    }\n",
       "\n",
       "    .dataframe tbody tr th {\n",
       "        vertical-align: top;\n",
       "    }\n",
       "\n",
       "    .dataframe thead th {\n",
       "        text-align: right;\n",
       "    }\n",
       "</style>\n",
       "<table border=\"1\" class=\"dataframe\">\n",
       "  <thead>\n",
       "    <tr style=\"text-align: right;\">\n",
       "      <th></th>\n",
       "      <th>Severity</th>\n",
       "      <th>Description</th>\n",
       "      <th>tokens</th>\n",
       "      <th>topics</th>\n",
       "    </tr>\n",
       "  </thead>\n",
       "  <tbody>\n",
       "    <tr>\n",
       "      <th>0</th>\n",
       "      <td>0</td>\n",
       "      <td>Accident on OH-32 State Route 32 Westbound at ...</td>\n",
       "      <td>[accid, state, rout, westbound, dela, palma, r...</td>\n",
       "      <td>[(1, 0.5350446), (2, 0.2705823), (0, 0.19437303)]</td>\n",
       "    </tr>\n",
       "    <tr>\n",
       "      <th>1</th>\n",
       "      <td>1</td>\n",
       "      <td>Accident on I-75 Southbound at Exits 52 52B US...</td>\n",
       "      <td>[accid, interst, southbound, exit, expect, delay]</td>\n",
       "      <td>[(1, 0.8993658), (2, 0.050644066), (0, 0.04999...</td>\n",
       "    </tr>\n",
       "    <tr>\n",
       "      <th>2</th>\n",
       "      <td>0</td>\n",
       "      <td>Accident on McEwen Rd at OH-725 Miamisburg Cen...</td>\n",
       "      <td>[accid, mcewen, road, miamisburg, centervil, r...</td>\n",
       "      <td>[(0, 0.675949), (1, 0.28597477), (2, 0.0380762)]</td>\n",
       "    </tr>\n",
       "    <tr>\n",
       "      <th>3</th>\n",
       "      <td>1</td>\n",
       "      <td>Accident on I-270 Outerbelt Northbound near Ex...</td>\n",
       "      <td>[accid, interst, outerbelt, northbound, near, ...</td>\n",
       "      <td>[(1, 0.76498413), (2, 0.2025737), (0, 0.032442...</td>\n",
       "    </tr>\n",
       "    <tr>\n",
       "      <th>4</th>\n",
       "      <td>0</td>\n",
       "      <td>Accident on Oakridge Dr at Woodward Ave. Expec...</td>\n",
       "      <td>[accid, oakridg, woodward, avenu, expect, delay]</td>\n",
       "      <td>[(2, 0.42534015), (1, 0.3688788), (0, 0.2057811)]</td>\n",
       "    </tr>\n",
       "  </tbody>\n",
       "</table>\n",
       "</div>"
      ],
      "text/plain": [
       "   Severity                                        Description  \\\n",
       "0         0  Accident on OH-32 State Route 32 Westbound at ...   \n",
       "1         1  Accident on I-75 Southbound at Exits 52 52B US...   \n",
       "2         0  Accident on McEwen Rd at OH-725 Miamisburg Cen...   \n",
       "3         1  Accident on I-270 Outerbelt Northbound near Ex...   \n",
       "4         0  Accident on Oakridge Dr at Woodward Ave. Expec...   \n",
       "\n",
       "                                              tokens  \\\n",
       "0  [accid, state, rout, westbound, dela, palma, r...   \n",
       "1  [accid, interst, southbound, exit, expect, delay]   \n",
       "2  [accid, mcewen, road, miamisburg, centervil, r...   \n",
       "3  [accid, interst, outerbelt, northbound, near, ...   \n",
       "4   [accid, oakridg, woodward, avenu, expect, delay]   \n",
       "\n",
       "                                              topics  \n",
       "0  [(1, 0.5350446), (2, 0.2705823), (0, 0.19437303)]  \n",
       "1  [(1, 0.8993658), (2, 0.050644066), (0, 0.04999...  \n",
       "2   [(0, 0.675949), (1, 0.28597477), (2, 0.0380762)]  \n",
       "3  [(1, 0.76498413), (2, 0.2025737), (0, 0.032442...  \n",
       "4  [(2, 0.42534015), (1, 0.3688788), (0, 0.2057811)]  "
      ]
     },
     "execution_count": 131,
     "metadata": {},
     "output_type": "execute_result"
    }
   ],
   "source": [
    "df.head()"
   ]
  },
  {
   "cell_type": "code",
   "execution_count": 132,
   "metadata": {
    "id": "e_GRrjJkljSO"
   },
   "outputs": [],
   "source": [
    "path = 'C:\\\\Users\\\\josrenca\\\\Desktop\\\\Universidad\\\\Datos PI - ARI\\\\'\n",
    "archivo = 'ModeloNLP-v2.html'\n",
    "rutaArchivo = path + 'Modelo NLP\\\\'+ archivo\n",
    "pyLDAvis.save_html(vis, rutaArchivo)"
   ]
  },
  {
   "cell_type": "code",
   "execution_count": null,
   "metadata": {
    "id": "Ow5PaFpFlOgc"
   },
   "outputs": [],
   "source": [
    "path = 'C:\\\\Users\\\\josrenca\\\\Desktop\\\\Universidad\\\\Datos PI - ARI\\\\'\n",
    "archivo = 'datosNLP-v2.pkl'\n",
    "rutaArchivo = path + 'Modelo NLP\\\\'+ archivo\n",
    "df.to_pickle(rutaArchivo)"
   ]
  },
  {
   "cell_type": "code",
   "execution_count": null,
   "metadata": {
    "colab": {
     "base_uri": "https://localhost:8080/"
    },
    "id": "Sba0TeCrlOgc",
    "outputId": "9e2c480d-1078-4f2e-f1b0-1429b8bb96ed"
   },
   "outputs": [
    {
     "name": "stderr",
     "output_type": "stream",
     "text": [
      "/usr/local/lib/python3.6/dist-packages/smart_open/smart_open_lib.py:418: DeprecationWarning: This function is deprecated.  See https://github.com/RaRe-Technologies/smart_open/blob/develop/MIGRATING_FROM_OLDER_VERSIONS.rst for more information\n",
      "  warnings.warn(message, category=DeprecationWarning)\n",
      "/usr/local/lib/python3.6/dist-packages/smart_open/smart_open_lib.py:418: DeprecationWarning: This function is deprecated.  See https://github.com/RaRe-Technologies/smart_open/blob/develop/MIGRATING_FROM_OLDER_VERSIONS.rst for more information\n",
      "  warnings.warn(message, category=DeprecationWarning)\n",
      "/usr/local/lib/python3.6/dist-packages/smart_open/smart_open_lib.py:418: DeprecationWarning: This function is deprecated.  See https://github.com/RaRe-Technologies/smart_open/blob/develop/MIGRATING_FROM_OLDER_VERSIONS.rst for more information\n",
      "  warnings.warn(message, category=DeprecationWarning)\n"
     ]
    }
   ],
   "source": [
    "from gensim.test.utils import datapath\n",
    "\n",
    "temp_file = datapath(\"/content/gdrive/My Drive/taller3/modeltitle/ldamodel1/ldamodelv1\")\n",
    "lda_model.save(temp_file)\n",
    "\n",
    "#Load a potentially pretrained model from disk.\n",
    "#lda = LdaModel.load(temp_file)"
   ]
  },
  {
   "cell_type": "code",
   "execution_count": null,
   "metadata": {
    "id": "g7vEFZdnlOgc"
   },
   "outputs": [],
   "source": []
  },
  {
   "cell_type": "code",
   "execution_count": null,
   "metadata": {
    "id": "kdRbXjCWlOgc"
   },
   "outputs": [],
   "source": []
  },
  {
   "cell_type": "code",
   "execution_count": null,
   "metadata": {
    "id": "TXflybHplOgc"
   },
   "outputs": [],
   "source": []
  },
  {
   "cell_type": "code",
   "execution_count": null,
   "metadata": {
    "id": "C1CtJibIlOgc"
   },
   "outputs": [],
   "source": []
  },
  {
   "cell_type": "code",
   "execution_count": null,
   "metadata": {
    "id": "xxjtcadrlOgc"
   },
   "outputs": [],
   "source": []
  },
  {
   "cell_type": "code",
   "execution_count": null,
   "metadata": {
    "id": "kN3gdYMKlOgc"
   },
   "outputs": [],
   "source": []
  },
  {
   "cell_type": "code",
   "execution_count": null,
   "metadata": {
    "id": "WTJ239oolOgc"
   },
   "outputs": [],
   "source": []
  },
  {
   "cell_type": "code",
   "execution_count": null,
   "metadata": {
    "id": "sX63t458lOgc"
   },
   "outputs": [],
   "source": []
  }
 ],
 "metadata": {
  "colab": {
   "collapsed_sections": [
    "L1YBxN9JljRt",
    "G1cn3_YDljR4",
    "jvLoK1nNljR8",
    "u5OMIpCXljSA"
   ],
   "name": "lda-gensimtitle.ipynb",
   "provenance": []
  },
  "kernelspec": {
   "display_name": "Python 3",
   "language": "python",
   "name": "python3"
  },
  "language_info": {
   "codemirror_mode": {
    "name": "ipython",
    "version": 3
   },
   "file_extension": ".py",
   "mimetype": "text/x-python",
   "name": "python",
   "nbconvert_exporter": "python",
   "pygments_lexer": "ipython3",
   "version": "3.8.3"
  }
 },
 "nbformat": 4,
 "nbformat_minor": 1
}
