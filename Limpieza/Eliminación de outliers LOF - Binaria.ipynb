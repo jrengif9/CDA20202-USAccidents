{
 "cells": [
  {
   "cell_type": "code",
   "execution_count": 16,
   "metadata": {},
   "outputs": [],
   "source": [
    "from IPython.core.debugger import set_trace\n",
    "\n",
    "import os\n",
    "import sys\n",
    "import seaborn as sns\n",
    "\n",
    "import numpy as np\n",
    "import pandas as pd\n",
    "import matplotlib.pyplot as plt\n",
    "from sklearn.preprocessing import LabelEncoder    #tranforma variables categoricas a numericas\n",
    "from sklearn.preprocessing import StandardScaler  # Escala los datos\n",
    "from sklearn.ensemble import IsolationForest      # Algoritmo de recorte\n",
    "from sklearn.decomposition import PCA             # Reduccion de dimensionalidad\n",
    "from sklearn.model_selection import train_test_split  # divide de manera aleatoria en sub conjuntos de datos de prueba y entrenamiento\n",
    "from sklearn.linear_model import LogisticRegression\n",
    "from sklearn import metrics \n",
    "from sklearn.metrics import confusion_matrix      # genera la matriz de confusion\n",
    "from sklearn.preprocessing import LabelEncoder    #tranforma variables categoricas a numericas\n",
    "from sklearn.preprocessing import StandardScaler  # Escala los datos\n",
    "from numpy import linalg as LA\n",
    "from sklearn.ensemble import IsolationForest\n",
    "import pickle\n",
    "\n",
    "module_path = os.path.abspath(os.path.join(\"..\"))\n",
    "if module_path not in sys.path:\n",
    "    sys.path.append(module_path)\n",
    "    \n",
    "from sklearn.neighbors import LocalOutlierFactor"
   ]
  },
  {
   "cell_type": "code",
   "execution_count": 17,
   "metadata": {},
   "outputs": [],
   "source": [
    "path = 'C:\\\\Users\\\\josrenca\\\\Desktop\\\\Universidad\\\\Datos PI - ARI\\\\'\n",
    "archivo = 'cleanedVariables-standarized-respuestaBinaria.pkl'\n",
    "rutaArchivo = path + archivo\n",
    "df = pd.read_pickle(rutaArchivo)"
   ]
  },
  {
   "cell_type": "code",
   "execution_count": 18,
   "metadata": {},
   "outputs": [
    {
     "data": {
      "text/plain": [
       "(3027853, 36)"
      ]
     },
     "execution_count": 18,
     "metadata": {},
     "output_type": "execute_result"
    }
   ],
   "source": [
    "df.shape"
   ]
  },
  {
   "cell_type": "code",
   "execution_count": 19,
   "metadata": {},
   "outputs": [
    {
     "data": {
      "text/plain": [
       "Index(['Amenity', 'Astronomical_Twilight', 'Bump', 'City', 'Civil_Twilight',\n",
       "       'County', 'Crossing', 'Give_Way', 'Hour', 'Junction',\n",
       "       'Nautical_Twilight', 'No_Exit', 'Railway', 'Roundabout', 'Severity',\n",
       "       'Start_Lat', 'Start_Lng', 'State', 'Station', 'Stop', 'Street',\n",
       "       'Sunrise_Sunset', 'Traffic_Calming', 'Traffic_Signal', 'Turning_Loop',\n",
       "       'Weather_Condition', 'Wind_Direction', 'dayOfWeek', 'month',\n",
       "       'newSeverity', 'Temperature(F)', 'Humidity(%)', 'Pressure(in)',\n",
       "       'Visibility(mi)', 'Wind_Speed(mph)', 'Description'],\n",
       "      dtype='object')"
      ]
     },
     "execution_count": 19,
     "metadata": {},
     "output_type": "execute_result"
    }
   ],
   "source": [
    "df.columns"
   ]
  },
  {
   "cell_type": "code",
   "execution_count": 20,
   "metadata": {},
   "outputs": [],
   "source": [
    "newSeverity =  df['newSeverity']\n",
    "Severity = df['Severity']"
   ]
  },
  {
   "cell_type": "code",
   "execution_count": 21,
   "metadata": {},
   "outputs": [],
   "source": [
    "df = df[df.columns.difference(['newSeverity','Severity'])]"
   ]
  },
  {
   "cell_type": "code",
   "execution_count": 22,
   "metadata": {},
   "outputs": [
    {
     "data": {
      "text/plain": [
       "Index(['Amenity', 'Astronomical_Twilight', 'Bump', 'City', 'Civil_Twilight',\n",
       "       'County', 'Crossing', 'Description', 'Give_Way', 'Hour', 'Humidity(%)',\n",
       "       'Junction', 'Nautical_Twilight', 'No_Exit', 'Pressure(in)', 'Railway',\n",
       "       'Roundabout', 'Start_Lat', 'Start_Lng', 'State', 'Station', 'Stop',\n",
       "       'Street', 'Sunrise_Sunset', 'Temperature(F)', 'Traffic_Calming',\n",
       "       'Traffic_Signal', 'Turning_Loop', 'Visibility(mi)', 'Weather_Condition',\n",
       "       'Wind_Direction', 'Wind_Speed(mph)', 'dayOfWeek', 'month'],\n",
       "      dtype='object')"
      ]
     },
     "execution_count": 22,
     "metadata": {},
     "output_type": "execute_result"
    }
   ],
   "source": [
    "df.columns"
   ]
  },
  {
   "cell_type": "code",
   "execution_count": 23,
   "metadata": {},
   "outputs": [
    {
     "data": {
      "text/plain": [
       "(3027853, 34)"
      ]
     },
     "execution_count": 23,
     "metadata": {},
     "output_type": "execute_result"
    }
   ],
   "source": [
    "df.shape"
   ]
  },
  {
   "cell_type": "code",
   "execution_count": 24,
   "metadata": {},
   "outputs": [
    {
     "data": {
      "image/png": "[encoded data removed]",
      "text/plain": [
       "<Figure size 1152x432 with 2 Axes>"
      ]
     },
     "metadata": {
      "needs_background": "light"
     },
     "output_type": "display_data"
    }
   ],
   "source": [
    "x = newSeverity.value_counts().index\n",
    "y = newSeverity.value_counts().values\n",
    "\n",
    "f = plt.figure(1, figsize=(16, 6))\n",
    "ax1 = f.add_subplot(1, 2, 1)\n",
    "ax1.title.set_text(\"newSeverity\")\n",
    "_ = ax1.bar(x, y)\n",
    "\n",
    "x = Severity.value_counts().index\n",
    "y = Severity.value_counts().values\n",
    "\n",
    "f = plt.figure(1, figsize=(16, 6))\n",
    "ax2 = f.add_subplot(1, 2, 2)\n",
    "ax2.title.set_text(\"Severity\")\n",
    "_ = ax2.bar(x, y)"
   ]
  },
  {
   "cell_type": "code",
   "execution_count": 27,
   "metadata": {},
   "outputs": [],
   "source": [
    "numericData_lst = ['Temperature(F)', 'Humidity(%)', 'Pressure(in)', 'Visibility(mi)', 'Wind_Speed(mph)']"
   ]
  },
  {
   "cell_type": "code",
   "execution_count": 30,
   "metadata": {},
   "outputs": [],
   "source": [
    "import time\n",
    "\n",
    "def recorteModel(dfOriginal, variableObjetivo, contInicial, rango, numModelos):\n",
    "    \n",
    "    print(\"Preparando los datos...\")\n",
    "    \n",
    "    dfOriginal = pd.concat([dfOriginal.reset_index(drop=True),variableObjetivo.reset_index(drop=True)], join=\"outer\",axis=1)\n",
    "    dfCopy = dfOriginal.copy()[dfOriginal.columns.difference(['Description'])].reset_index(drop=True)\n",
    "    numsCond = []\n",
    "    tiemposRecorte = []\n",
    "    nombreVariableObj = variableObjetivo.name\n",
    "    contaminacionVec = []\n",
    "    \n",
    "    numCondActual = LA.cond(dfCopy[numericData_lst].cov().to_numpy())\n",
    "    \n",
    "    tiemposRecorte.append(0)\n",
    "    numsCond.append(numCondActual)\n",
    "    contaminacionVec.append(0)\n",
    "    \n",
    "    print(\"Dimensiones matriz Original: \" + str(dfOriginal.shape))\n",
    "    print(\"Dimensiones matriz Copia: \" + str(dfCopy.shape))\n",
    "    \n",
    "    contaminacion = contInicial\n",
    "    for i in range(1,numModelos+1):\n",
    "        \n",
    "        start_time = time.time()\n",
    "        \n",
    "        print(\"\\n<<<<<<<<<<<<<<<<<<<<<<<< Modelo: \" + str(i) + \" >>>>>>>>>>>>>>>>>>>>>>>>\")\n",
    "        print(\"Contaminacion: \" + str(contaminacion))\n",
    "        \n",
    "        model = LocalOutlierFactor(contamination=contaminacion, novelty=True)\n",
    "        model.fit(dfCopy.values)\n",
    "        \n",
    "        archivoModelo = \"cleanedModel-LOF-\" + str(contaminacion) + \"p-\" + nombreVariableObj +\".pkl\"\n",
    "        rutaArchivo = path + \"ModeloRecorteLOFBinaria\\\\\" + archivoModelo  \n",
    "        modelfile = open(rutaArchivo, \"wb\")\n",
    "        pickle.dump(model, modelfile)\n",
    "        modelfile.close()\n",
    "        \n",
    "        dfOriginal[\"iforest\"] = pd.Series(model.predict(dfCopy.values))\n",
    "        print(dfOriginal[\"iforest\"].value_counts())\n",
    "        dfCopy = dfOriginal[dfOriginal[\"iforest\"] != -1]\n",
    "        dfOriginal = dfOriginal.drop('iforest', axis=1)\n",
    "        dfCopy = dfCopy.drop('iforest', axis=1)\n",
    "        \n",
    "        archivoDatos = \"cleanedData-LOF-\" + str(contaminacion) + \"p-\" + nombreVariableObj +\".pkl\"\n",
    "        rutaArchivo = path + \"DatosRecorteLOFBinaria\\\\\" + archivoDatos  \n",
    "        dfCopy.reset_index(drop=True).to_pickle(rutaArchivo)\n",
    "        \n",
    "        numCondActual = LA.cond(dfCopy[numericData_lst].cov().to_numpy())\n",
    "        tiempoEjecucion = time.time() - start_time\n",
    "        \n",
    "        print(\"Nombre Modelo: \" + archivoModelo)\n",
    "        print(\"Nombre Dataset Limpio: \" + archivoDatos + \" | Dimensiones : \" + str(dfCopy.shape))\n",
    "        print(\"Numero condicion actual: \" + str(numCondActual))\n",
    "        print(\"-------- %s segundos --------\" % (tiempoEjecucion))\n",
    "        \n",
    "        dfCopy = dfOriginal.copy()[dfOriginal.columns.difference(['Description'])]\n",
    "        \n",
    "        tiemposRecorte.append(tiempoEjecucion)\n",
    "        numsCond.append(numCondActual)\n",
    "        contaminacionVec.append(contaminacion)\n",
    "        \n",
    "        if i == 1 and contaminacion == 0.01:\n",
    "            contaminacion = 0\n",
    "        \n",
    "        contaminacion=round(round(contaminacion,2)+round(rango,2),2)\n",
    "        \n",
    "    return contaminacionVec, tiemposRecorte, numsCond"
   ]
  },
  {
   "cell_type": "code",
   "execution_count": 32,
   "metadata": {},
   "outputs": [
    {
     "name": "stdout",
     "output_type": "stream",
     "text": [
      "Preparando los datos...\n",
      "Dimensiones matriz Original: (3027853, 35)\n",
      "Dimensiones matriz Copia: (3027853, 34)\n",
      "\n",
      "<<<<<<<<<<<<<<<<<<<<<<<< Modelo: 1 >>>>>>>>>>>>>>>>>>>>>>>>\n",
      "Contaminacion: 0.1\n",
      " 1    2752438\n",
      "-1     275415\n",
      "Name: iforest, dtype: int64\n",
      "Nombre Modelo: cleanedModel-LOF-0.1p-Severity.pkl\n",
      "Nombre Dataset Limpio: cleanedData-LOF-0.1p-Severity.pkl | Dimensiones : (2752438, 35)\n",
      "Numero condicion actual: 3.0823253127320105\n",
      "-------- 740.7145690917969 segundos --------\n",
      "\n",
      "<<<<<<<<<<<<<<<<<<<<<<<< Modelo: 2 >>>>>>>>>>>>>>>>>>>>>>>>\n",
      "Contaminacion: 0.2\n",
      " 1    2470681\n",
      "-1     557172\n",
      "Name: iforest, dtype: int64\n",
      "Nombre Modelo: cleanedModel-LOF-0.2p-Severity.pkl\n",
      "Nombre Dataset Limpio: cleanedData-LOF-0.2p-Severity.pkl | Dimensiones : (2470681, 35)\n",
      "Numero condicion actual: 3.022391427139746\n",
      "-------- 672.718921661377 segundos --------\n",
      "\n",
      "<<<<<<<<<<<<<<<<<<<<<<<< Modelo: 3 >>>>>>>>>>>>>>>>>>>>>>>>\n",
      "Contaminacion: 0.3\n",
      " 1    2182302\n",
      "-1     845551\n",
      "Name: iforest, dtype: int64\n",
      "Nombre Modelo: cleanedModel-LOF-0.3p-Severity.pkl\n",
      "Nombre Dataset Limpio: cleanedData-LOF-0.3p-Severity.pkl | Dimensiones : (2182302, 35)\n",
      "Numero condicion actual: 3.020750243181876\n",
      "-------- 741.1532456874847 segundos --------\n",
      "\n",
      "<<<<<<<<<<<<<<<<<<<<<<<< Modelo: 4 >>>>>>>>>>>>>>>>>>>>>>>>\n",
      "Contaminacion: 0.4\n",
      " 1    1888710\n",
      "-1    1139143\n",
      "Name: iforest, dtype: int64\n",
      "Nombre Modelo: cleanedModel-LOF-0.4p-Severity.pkl\n",
      "Nombre Dataset Limpio: cleanedData-LOF-0.4p-Severity.pkl | Dimensiones : (1888710, 35)\n",
      "Numero condicion actual: 3.0454107783093276\n",
      "-------- 933.6320433616638 segundos --------\n",
      "Wall time: 51min 46s\n"
     ]
    }
   ],
   "source": [
    "%%time\n",
    "contaminacionVec, tiemposRecorte, numsCond = recorteModel(df, Severity, 0.1, 0.1, 4)"
   ]
  },
  {
   "cell_type": "code",
   "execution_count": 34,
   "metadata": {},
   "outputs": [
    {
     "data": {
      "text/plain": [
       "[<matplotlib.lines.Line2D at 0x17881883af0>]"
      ]
     },
     "execution_count": 34,
     "metadata": {},
     "output_type": "execute_result"
    },
    {
     "data": {
      "image/png": "[encoded data removed]",
      "text/plain": [
       "<Figure size 432x288 with 1 Axes>"
      ]
     },
     "metadata": {
      "needs_background": "light"
     },
     "output_type": "display_data"
    }
   ],
   "source": [
    "plt.title(\"Porcentaje recortado Vs Numero condición\")\n",
    "plt.ylabel(\"Numero Condición\")\n",
    "plt.xlabel(\"Porcentaje recortado\")\n",
    "plt.plot(contaminacionVec,numsCond)"
   ]
  },
  {
   "cell_type": "code",
   "execution_count": 35,
   "metadata": {},
   "outputs": [
    {
     "data": {
      "text/plain": [
       "[<matplotlib.lines.Line2D at 0x178818dc730>]"
      ]
     },
     "execution_count": 35,
     "metadata": {},
     "output_type": "execute_result"
    },
    {
     "data": {
      "image/png": "[encoded data removed]",
      "text/plain": [
       "<Figure size 432x288 with 1 Axes>"
      ]
     },
     "metadata": {
      "needs_background": "light"
     },
     "output_type": "display_data"
    }
   ],
   "source": [
    "plt.title(\"Porcentaje recortado Vs Tiempo de ejecución\")\n",
    "plt.ylabel(\"Tiempo de Ejecución\")\n",
    "plt.xlabel(\"Porcentaje recortado\")\n",
    "plt.plot(contaminacionVec,tiemposRecorte)"
   ]
  },
  {
   "cell_type": "code",
   "execution_count": null,
   "metadata": {},
   "outputs": [],
   "source": []
  }
 ],
 "metadata": {
  "kernelspec": {
   "display_name": "Python 3",
   "language": "python",
   "name": "python3"
  },
  "language_info": {
   "codemirror_mode": {
    "name": "ipython",
    "version": 3
   },
   "file_extension": ".py",
   "mimetype": "text/x-python",
   "name": "python",
   "nbconvert_exporter": "python",
   "pygments_lexer": "ipython3",
   "version": "3.8.3"
  }
 },
 "nbformat": 4,
 "nbformat_minor": 4
}
