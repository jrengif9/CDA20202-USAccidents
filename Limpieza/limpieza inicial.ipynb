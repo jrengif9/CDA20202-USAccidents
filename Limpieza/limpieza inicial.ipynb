{
 "cells": [
  {
   "cell_type": "code",
   "execution_count": 1,
   "metadata": {},
   "outputs": [],
   "source": [
    "%matplotlib inline\n",
    "import numpy as np\n",
    "import pandas as pd\n",
    "import matplotlib.pyplot as plt\n",
    "import seaborn as sns\n",
    "\n",
    "from sklearn.preprocessing import LabelEncoder    #tranforma variables categoricas a numericas\n",
    "from sklearn.preprocessing import StandardScaler  # Escala los datos\n",
    "import pickle"
   ]
  },
  {
   "cell_type": "code",
   "execution_count": 2,
   "metadata": {},
   "outputs": [
    {
     "data": {
      "text/plain": [
       "'C:\\\\Users\\\\USER\\\\OneDrive - Universidad EAFIT\\\\Semestre 1 2020-2\\\\Proyecto Integrados Semestre 1\\\\GIT HUB\\\\NoteBooks\\\\2. Limpieza de datos'"
      ]
     },
     "execution_count": 2,
     "metadata": {},
     "output_type": "execute_result"
    }
   ],
   "source": [
    "pwd"
   ]
  },
  {
   "cell_type": "code",
   "execution_count": 3,
   "metadata": {},
   "outputs": [],
   "source": [
    "path = 'C:\\\\Users\\\\USER\\\\OneDrive - Universidad EAFIT\\\\Semestre 1 2020-2\\\\Proyecto Integrados Semestre 1\\\\'\n",
    "archivo = 'US_Accidents_June20.csv'\n",
    "rutaArchivo = path + archivo\n",
    "df = pd.read_csv(rutaArchivo)"
   ]
  },
  {
   "cell_type": "code",
   "execution_count": 4,
   "metadata": {},
   "outputs": [
    {
     "data": {
      "text/plain": [
       "(3513617, 49)"
      ]
     },
     "execution_count": 4,
     "metadata": {},
     "output_type": "execute_result"
    }
   ],
   "source": [
    "df.shape"
   ]
  },
  {
   "cell_type": "code",
   "execution_count": 5,
   "metadata": {},
   "outputs": [
    {
     "name": "stdout",
     "output_type": "stream",
     "text": [
      "<class 'pandas.core.frame.DataFrame'>\n",
      "RangeIndex: 3513617 entries, 0 to 3513616\n",
      "Data columns (total 49 columns):\n",
      " #   Column                 Dtype  \n",
      "---  ------                 -----  \n",
      " 0   ID                     object \n",
      " 1   Source                 object \n",
      " 2   TMC                    float64\n",
      " 3   Severity               int64  \n",
      " 4   Start_Time             object \n",
      " 5   End_Time               object \n",
      " 6   Start_Lat              float64\n",
      " 7   Start_Lng              float64\n",
      " 8   End_Lat                float64\n",
      " 9   End_Lng                float64\n",
      " 10  Distance(mi)           float64\n",
      " 11  Description            object \n",
      " 12  Number                 float64\n",
      " 13  Street                 object \n",
      " 14  Side                   object \n",
      " 15  City                   object \n",
      " 16  County                 object \n",
      " 17  State                  object \n",
      " 18  Zipcode                object \n",
      " 19  Country                object \n",
      " 20  Timezone               object \n",
      " 21  Airport_Code           object \n",
      " 22  Weather_Timestamp      object \n",
      " 23  Temperature(F)         float64\n",
      " 24  Wind_Chill(F)          float64\n",
      " 25  Humidity(%)            float64\n",
      " 26  Pressure(in)           float64\n",
      " 27  Visibility(mi)         float64\n",
      " 28  Wind_Direction         object \n",
      " 29  Wind_Speed(mph)        float64\n",
      " 30  Precipitation(in)      float64\n",
      " 31  Weather_Condition      object \n",
      " 32  Amenity                bool   \n",
      " 33  Bump                   bool   \n",
      " 34  Crossing               bool   \n",
      " 35  Give_Way               bool   \n",
      " 36  Junction               bool   \n",
      " 37  No_Exit                bool   \n",
      " 38  Railway                bool   \n",
      " 39  Roundabout             bool   \n",
      " 40  Station                bool   \n",
      " 41  Stop                   bool   \n",
      " 42  Traffic_Calming        bool   \n",
      " 43  Traffic_Signal         bool   \n",
      " 44  Turning_Loop           bool   \n",
      " 45  Sunrise_Sunset         object \n",
      " 46  Civil_Twilight         object \n",
      " 47  Nautical_Twilight      object \n",
      " 48  Astronomical_Twilight  object \n",
      "dtypes: bool(13), float64(14), int64(1), object(21)\n",
      "memory usage: 1008.6+ MB\n"
     ]
    }
   ],
   "source": [
    "df.info()"
   ]
  },
  {
   "cell_type": "code",
   "execution_count": 6,
   "metadata": {},
   "outputs": [
    {
     "name": "stdout",
     "output_type": "stream",
     "text": [
      "\n",
      "Missing values    : 13061803\n",
      "\n",
      "Unique values :  \n",
      " ID                       3513617\n",
      "Source                         3\n",
      "TMC                           21\n",
      "Severity                       4\n",
      "Start_Time               3200042\n",
      "End_Time                 3246120\n",
      "Start_Lat                1124695\n",
      "Start_Lng                1113407\n",
      "End_Lat                   375074\n",
      "End_Lng                   383569\n",
      "Distance(mi)               13476\n",
      "Description              1780092\n",
      "Number                     40365\n",
      "Street                    176262\n",
      "Side                           3\n",
      "City                       11895\n",
      "County                      1724\n",
      "State                         49\n",
      "Zipcode                   418780\n",
      "Country                        1\n",
      "Timezone                       4\n",
      "Airport_Code                2001\n",
      "Weather_Timestamp         546086\n",
      "Temperature(F)               831\n",
      "Wind_Chill(F)                974\n",
      "Humidity(%)                  100\n",
      "Pressure(in)                1022\n",
      "Visibility(mi)                85\n",
      "Wind_Direction                24\n",
      "Wind_Speed(mph)              160\n",
      "Precipitation(in)            261\n",
      "Weather_Condition            127\n",
      "Amenity                        2\n",
      "Bump                           2\n",
      "Crossing                       2\n",
      "Give_Way                       2\n",
      "Junction                       2\n",
      "No_Exit                        2\n",
      "Railway                        2\n",
      "Roundabout                     2\n",
      "Station                        2\n",
      "Stop                           2\n",
      "Traffic_Calming                2\n",
      "Traffic_Signal                 2\n",
      "Turning_Loop                   1\n",
      "Sunrise_Sunset                 2\n",
      "Civil_Twilight                 2\n",
      "Nautical_Twilight              2\n",
      "Astronomical_Twilight          2\n",
      "dtype: int64\n"
     ]
    }
   ],
   "source": [
    "print('\\nMissing values    :',df.isnull().values.sum())\n",
    "print('\\nUnique values :  \\n',df.nunique())"
   ]
  },
  {
   "cell_type": "code",
   "execution_count": 7,
   "metadata": {},
   "outputs": [
    {
     "data": {
      "text/plain": [
       "ID                             0\n",
       "Source                         0\n",
       "TMC                      1034799\n",
       "Severity                       0\n",
       "Start_Time                     0\n",
       "End_Time                       0\n",
       "Start_Lat                      0\n",
       "Start_Lng                      0\n",
       "End_Lat                  2478818\n",
       "End_Lng                  2478818\n",
       "Distance(mi)                   0\n",
       "Description                    1\n",
       "Number                   2262864\n",
       "Street                         0\n",
       "Side                           0\n",
       "City                         112\n",
       "County                         0\n",
       "State                          0\n",
       "Zipcode                     1069\n",
       "Country                        0\n",
       "Timezone                    3880\n",
       "Airport_Code                6758\n",
       "Weather_Timestamp          43323\n",
       "Temperature(F)             65732\n",
       "Wind_Chill(F)            1868249\n",
       "Humidity(%)                69687\n",
       "Pressure(in)               55882\n",
       "Visibility(mi)             75856\n",
       "Wind_Direction             58874\n",
       "Wind_Speed(mph)           454609\n",
       "Precipitation(in)        2025874\n",
       "Weather_Condition          76138\n",
       "Amenity                        0\n",
       "Bump                           0\n",
       "Crossing                       0\n",
       "Give_Way                       0\n",
       "Junction                       0\n",
       "No_Exit                        0\n",
       "Railway                        0\n",
       "Roundabout                     0\n",
       "Station                        0\n",
       "Stop                           0\n",
       "Traffic_Calming                0\n",
       "Traffic_Signal                 0\n",
       "Turning_Loop                   0\n",
       "Sunrise_Sunset               115\n",
       "Civil_Twilight               115\n",
       "Nautical_Twilight            115\n",
       "Astronomical_Twilight        115\n",
       "dtype: int64"
      ]
     },
     "execution_count": 7,
     "metadata": {},
     "output_type": "execute_result"
    }
   ],
   "source": [
    "# Check missing values\n",
    "df.isnull().sum()"
   ]
  },
  {
   "cell_type": "code",
   "execution_count": 8,
   "metadata": {},
   "outputs": [
    {
     "data": {
      "text/plain": [
       "ID                       0.000000e+00\n",
       "Source                   0.000000e+00\n",
       "TMC                      2.945110e-01\n",
       "Severity                 0.000000e+00\n",
       "Start_Time               0.000000e+00\n",
       "End_Time                 0.000000e+00\n",
       "Start_Lat                0.000000e+00\n",
       "Start_Lng                0.000000e+00\n",
       "End_Lat                  7.054890e-01\n",
       "End_Lng                  7.054890e-01\n",
       "Distance(mi)             0.000000e+00\n",
       "Description              2.846070e-07\n",
       "Number                   6.440269e-01\n",
       "Street                   0.000000e+00\n",
       "Side                     0.000000e+00\n",
       "City                     3.187598e-05\n",
       "County                   0.000000e+00\n",
       "State                    0.000000e+00\n",
       "Zipcode                  3.042449e-04\n",
       "Country                  0.000000e+00\n",
       "Timezone                 1.104275e-03\n",
       "Airport_Code             1.923374e-03\n",
       "Weather_Timestamp        1.233003e-02\n",
       "Temperature(F)           1.870779e-02\n",
       "Wind_Chill(F)            5.317167e-01\n",
       "Humidity(%)              1.983341e-02\n",
       "Pressure(in)             1.590441e-02\n",
       "Visibility(mi)           2.158915e-02\n",
       "Wind_Direction           1.675595e-02\n",
       "Wind_Speed(mph)          1.293849e-01\n",
       "Precipitation(in)        5.765779e-01\n",
       "Weather_Condition        2.166941e-02\n",
       "Amenity                  0.000000e+00\n",
       "Bump                     0.000000e+00\n",
       "Crossing                 0.000000e+00\n",
       "Give_Way                 0.000000e+00\n",
       "Junction                 0.000000e+00\n",
       "No_Exit                  0.000000e+00\n",
       "Railway                  0.000000e+00\n",
       "Roundabout               0.000000e+00\n",
       "Station                  0.000000e+00\n",
       "Stop                     0.000000e+00\n",
       "Traffic_Calming          0.000000e+00\n",
       "Traffic_Signal           0.000000e+00\n",
       "Turning_Loop             0.000000e+00\n",
       "Sunrise_Sunset           3.272981e-05\n",
       "Civil_Twilight           3.272981e-05\n",
       "Nautical_Twilight        3.272981e-05\n",
       "Astronomical_Twilight    3.272981e-05\n",
       "dtype: float64"
      ]
     },
     "execution_count": 8,
     "metadata": {},
     "output_type": "execute_result"
    }
   ],
   "source": [
    "df.isnull().mean()"
   ]
  },
  {
   "cell_type": "code",
   "execution_count": 9,
   "metadata": {},
   "outputs": [
    {
     "data": {
      "text/plain": [
       "14"
      ]
     },
     "execution_count": 9,
     "metadata": {},
     "output_type": "execute_result"
    }
   ],
   "source": [
    "dropColumns = ['ID','TMC','Source','Country','End_Lat','End_Lng','Number','Side','Zipcode','Timezone','Airport_Code','Wind_Chill(F)','Precipitation(in)'\n",
    "              ,'Weather_Timestamp']\n",
    "len(dropColumns)"
   ]
  },
  {
   "cell_type": "code",
   "execution_count": 10,
   "metadata": {},
   "outputs": [],
   "source": [
    "df = df.drop(dropColumns, axis=1)"
   ]
  },
  {
   "cell_type": "code",
   "execution_count": 11,
   "metadata": {},
   "outputs": [],
   "source": [
    "df.dropna(inplace=True)"
   ]
  },
  {
   "cell_type": "code",
   "execution_count": 12,
   "metadata": {},
   "outputs": [
    {
     "data": {
      "text/plain": [
       "(3027864, 35)"
      ]
     },
     "execution_count": 12,
     "metadata": {},
     "output_type": "execute_result"
    }
   ],
   "source": [
    "df.shape"
   ]
  },
  {
   "cell_type": "code",
   "execution_count": 13,
   "metadata": {},
   "outputs": [
    {
     "data": {
      "text/plain": [
       "Severity                 0\n",
       "Start_Time               0\n",
       "End_Time                 0\n",
       "Start_Lat                0\n",
       "Start_Lng                0\n",
       "Distance(mi)             0\n",
       "Description              0\n",
       "Street                   0\n",
       "City                     0\n",
       "County                   0\n",
       "State                    0\n",
       "Temperature(F)           0\n",
       "Humidity(%)              0\n",
       "Pressure(in)             0\n",
       "Visibility(mi)           0\n",
       "Wind_Direction           0\n",
       "Wind_Speed(mph)          0\n",
       "Weather_Condition        0\n",
       "Amenity                  0\n",
       "Bump                     0\n",
       "Crossing                 0\n",
       "Give_Way                 0\n",
       "Junction                 0\n",
       "No_Exit                  0\n",
       "Railway                  0\n",
       "Roundabout               0\n",
       "Station                  0\n",
       "Stop                     0\n",
       "Traffic_Calming          0\n",
       "Traffic_Signal           0\n",
       "Turning_Loop             0\n",
       "Sunrise_Sunset           0\n",
       "Civil_Twilight           0\n",
       "Nautical_Twilight        0\n",
       "Astronomical_Twilight    0\n",
       "dtype: int64"
      ]
     },
     "execution_count": 13,
     "metadata": {},
     "output_type": "execute_result"
    }
   ],
   "source": [
    "# Verificando que no haya valores nulos\n",
    "df.isnull().sum()"
   ]
  },
  {
   "cell_type": "code",
   "execution_count": 14,
   "metadata": {},
   "outputs": [
    {
     "name": "stderr",
     "output_type": "stream",
     "text": [
      "C:\\Users\\USER\\miniconda3\\lib\\site-packages\\seaborn\\_decorators.py:36: FutureWarning: Pass the following variable as a keyword arg: x. From version 0.12, the only valid positional argument will be `data`, and passing other arguments without an explicit keyword will result in an error or misinterpretation.\n",
      "  warnings.warn(\n"
     ]
    },
    {
     "data": {
      "text/plain": [
       "<AxesSubplot:xlabel='Severity', ylabel='count'>"
      ]
     },
     "execution_count": 14,
     "metadata": {},
     "output_type": "execute_result"
    },
    {
     "data": {
      "image/png": "[encoded data removed]",
      "text/plain": [
       "<Figure size 432x288 with 1 Axes>"
      ]
     },
     "metadata": {
      "needs_background": "light"
     },
     "output_type": "display_data"
    }
   ],
   "source": [
    "sns.countplot(df['Severity']) "
   ]
  },
  {
   "cell_type": "code",
   "execution_count": 15,
   "metadata": {},
   "outputs": [
    {
     "data": {
      "text/html": [
       "<div>\n",
       "<style scoped>\n",
       "    .dataframe tbody tr th:only-of-type {\n",
       "        vertical-align: middle;\n",
       "    }\n",
       "\n",
       "    .dataframe tbody tr th {\n",
       "        vertical-align: top;\n",
       "    }\n",
       "\n",
       "    .dataframe thead th {\n",
       "        text-align: right;\n",
       "    }\n",
       "</style>\n",
       "<table border=\"1\" class=\"dataframe\">\n",
       "  <thead>\n",
       "    <tr style=\"text-align: right;\">\n",
       "      <th></th>\n",
       "      <th>durationt</th>\n",
       "    </tr>\n",
       "  </thead>\n",
       "  <tbody>\n",
       "    <tr>\n",
       "      <th>2</th>\n",
       "      <td>30.0</td>\n",
       "    </tr>\n",
       "    <tr>\n",
       "      <th>3</th>\n",
       "      <td>30.0</td>\n",
       "    </tr>\n",
       "    <tr>\n",
       "      <th>4</th>\n",
       "      <td>30.0</td>\n",
       "    </tr>\n",
       "    <tr>\n",
       "      <th>5</th>\n",
       "      <td>30.0</td>\n",
       "    </tr>\n",
       "    <tr>\n",
       "      <th>6</th>\n",
       "      <td>30.0</td>\n",
       "    </tr>\n",
       "  </tbody>\n",
       "</table>\n",
       "</div>"
      ],
      "text/plain": [
       "   durationt\n",
       "2       30.0\n",
       "3       30.0\n",
       "4       30.0\n",
       "5       30.0\n",
       "6       30.0"
      ]
     },
     "execution_count": 15,
     "metadata": {},
     "output_type": "execute_result"
    }
   ],
   "source": [
    "# Convert Start_Time and End_Time to datetypes\n",
    "df['Start_Time'] = pd.to_datetime(df['Start_Time'], errors='coerce')\n",
    "df['End_Time'] = pd.to_datetime(df['End_Time'], errors='coerce')\n",
    "td='durationt'\n",
    "df[td]=round((df['End_Time']-df['Start_Time'])/np.timedelta64(1,'m'))\n",
    "df[['durationt']].head()"
   ]
  },
  {
   "cell_type": "code",
   "execution_count": 16,
   "metadata": {},
   "outputs": [
    {
     "data": {
      "image/png": "[encoded data removed]",
      "text/plain": [
       "<Figure size 1080x1080 with 1 Axes>"
      ]
     },
     "metadata": {
      "needs_background": "light"
     },
     "output_type": "display_data"
    }
   ],
   "source": [
    "boxplot = df[['durationt']].boxplot(figsize= (15,15))"
   ]
  },
  {
   "cell_type": "code",
   "execution_count": 17,
   "metadata": {},
   "outputs": [
    {
     "data": {
      "text/html": [
       "<div>\n",
       "<style scoped>\n",
       "    .dataframe tbody tr th:only-of-type {\n",
       "        vertical-align: middle;\n",
       "    }\n",
       "\n",
       "    .dataframe tbody tr th {\n",
       "        vertical-align: top;\n",
       "    }\n",
       "\n",
       "    .dataframe thead th {\n",
       "        text-align: right;\n",
       "    }\n",
       "</style>\n",
       "<table border=\"1\" class=\"dataframe\">\n",
       "  <thead>\n",
       "    <tr style=\"text-align: right;\">\n",
       "      <th></th>\n",
       "      <th>durationt</th>\n",
       "    </tr>\n",
       "  </thead>\n",
       "  <tbody>\n",
       "    <tr>\n",
       "      <th>count</th>\n",
       "      <td>3.027864e+06</td>\n",
       "    </tr>\n",
       "    <tr>\n",
       "      <th>mean</th>\n",
       "      <td>1.141076e+02</td>\n",
       "    </tr>\n",
       "    <tr>\n",
       "      <th>std</th>\n",
       "      <td>3.235723e+03</td>\n",
       "    </tr>\n",
       "    <tr>\n",
       "      <th>min</th>\n",
       "      <td>-3.400000e+01</td>\n",
       "    </tr>\n",
       "    <tr>\n",
       "      <th>25%</th>\n",
       "      <td>3.000000e+01</td>\n",
       "    </tr>\n",
       "    <tr>\n",
       "      <th>50%</th>\n",
       "      <td>4.500000e+01</td>\n",
       "    </tr>\n",
       "    <tr>\n",
       "      <th>75%</th>\n",
       "      <td>7.600000e+01</td>\n",
       "    </tr>\n",
       "    <tr>\n",
       "      <th>max</th>\n",
       "      <td>1.157083e+06</td>\n",
       "    </tr>\n",
       "  </tbody>\n",
       "</table>\n",
       "</div>"
      ],
      "text/plain": [
       "          durationt\n",
       "count  3.027864e+06\n",
       "mean   1.141076e+02\n",
       "std    3.235723e+03\n",
       "min   -3.400000e+01\n",
       "25%    3.000000e+01\n",
       "50%    4.500000e+01\n",
       "75%    7.600000e+01\n",
       "max    1.157083e+06"
      ]
     },
     "execution_count": 17,
     "metadata": {},
     "output_type": "execute_result"
    }
   ],
   "source": [
    "df[['durationt']].describe()"
   ]
  },
  {
   "cell_type": "code",
   "execution_count": 18,
   "metadata": {},
   "outputs": [
    {
     "data": {
      "text/plain": [
       "(11,)"
      ]
     },
     "execution_count": 18,
     "metadata": {},
     "output_type": "execute_result"
    }
   ],
   "source": [
    "# Obteniendo indices de filas para valores negativos\n",
    "indices =df.query('durationt < 0').index \n",
    "indices.shape"
   ]
  },
  {
   "cell_type": "code",
   "execution_count": 19,
   "metadata": {},
   "outputs": [
    {
     "data": {
      "text/plain": [
       "(1984,)"
      ]
     },
     "execution_count": 19,
     "metadata": {},
     "output_type": "execute_result"
    }
   ],
   "source": [
    "# Obteniendo indices de filas para valores mayores a un dia\n",
    "df.query('durationt > 1440').index.shape"
   ]
  },
  {
   "cell_type": "code",
   "execution_count": 20,
   "metadata": {},
   "outputs": [
    {
     "data": {
      "text/plain": [
       "0.0005646602916595634"
      ]
     },
     "execution_count": 20,
     "metadata": {},
     "output_type": "execute_result"
    }
   ],
   "source": [
    "1984/3513617"
   ]
  },
  {
   "cell_type": "code",
   "execution_count": 21,
   "metadata": {},
   "outputs": [],
   "source": [
    "df.drop(indices, inplace=True)"
   ]
  },
  {
   "cell_type": "code",
   "execution_count": 22,
   "metadata": {},
   "outputs": [],
   "source": [
    "# Creando nueva categoria de datos basada en los cuartiles de la duracion\n",
    "criteria = [(df['durationt'] >= 0) & (df['durationt'] < 30),\n",
    "(df['durationt'] >= 30) & (df['durationt'] < 45),\n",
    "(df['durationt'] >= 45) & (df['durationt'] < 60),\n",
    "(df['durationt'] >= 60)]\n",
    "values = [1, 2, 3, 4]\n",
    " \n",
    "df['newSeverity'] = np.select(criteria, values, 0)"
   ]
  },
  {
   "cell_type": "code",
   "execution_count": 23,
   "metadata": {},
   "outputs": [
    {
     "name": "stderr",
     "output_type": "stream",
     "text": [
      "C:\\Users\\USER\\miniconda3\\lib\\site-packages\\seaborn\\_decorators.py:36: FutureWarning: Pass the following variable as a keyword arg: x. From version 0.12, the only valid positional argument will be `data`, and passing other arguments without an explicit keyword will result in an error or misinterpretation.\n",
      "  warnings.warn(\n"
     ]
    },
    {
     "data": {
      "text/plain": [
       "<AxesSubplot:xlabel='newSeverity', ylabel='count'>"
      ]
     },
     "execution_count": 23,
     "metadata": {},
     "output_type": "execute_result"
    },
    {
     "data": {
      "image/png": "[encoded data removed]",
      "text/plain": [
       "<Figure size 432x288 with 1 Axes>"
      ]
     },
     "metadata": {
      "needs_background": "light"
     },
     "output_type": "display_data"
    }
   ],
   "source": [
    "sns.countplot(df['newSeverity'])"
   ]
  },
  {
   "cell_type": "code",
   "execution_count": 24,
   "metadata": {},
   "outputs": [
    {
     "data": {
      "text/plain": [
       "(3027853, 37)"
      ]
     },
     "execution_count": 24,
     "metadata": {},
     "output_type": "execute_result"
    }
   ],
   "source": [
    "df.shape"
   ]
  },
  {
   "cell_type": "code",
   "execution_count": 25,
   "metadata": {},
   "outputs": [
    {
     "data": {
      "text/plain": [
       "4    1165351\n",
       "2    1006664\n",
       "3     494148\n",
       "1     361690\n",
       "Name: newSeverity, dtype: int64"
      ]
     },
     "execution_count": 25,
     "metadata": {},
     "output_type": "execute_result"
    }
   ],
   "source": [
    "df['newSeverity'].value_counts()"
   ]
  },
  {
   "cell_type": "code",
   "execution_count": 26,
   "metadata": {},
   "outputs": [],
   "source": [
    "df['newDate'] = pd.to_datetime(df['Start_Time'])\n",
    "df['month'] = df['newDate'].dt.month\n",
    "df['dayOfWeek'] = df['newDate'].dt.dayofweek\n",
    "df['Hour'] = df['newDate'].dt.hour"
   ]
  },
  {
   "cell_type": "code",
   "execution_count": 27,
   "metadata": {},
   "outputs": [
    {
     "name": "stderr",
     "output_type": "stream",
     "text": [
      "C:\\Users\\USER\\miniconda3\\lib\\site-packages\\seaborn\\_decorators.py:36: FutureWarning: Pass the following variable as a keyword arg: x. From version 0.12, the only valid positional argument will be `data`, and passing other arguments without an explicit keyword will result in an error or misinterpretation.\n",
      "  warnings.warn(\n"
     ]
    },
    {
     "data": {
      "text/plain": [
       "<AxesSubplot:xlabel='Hour', ylabel='count'>"
      ]
     },
     "execution_count": 27,
     "metadata": {},
     "output_type": "execute_result"
    },
    {
     "data": {
      "image/png": "[encoded data removed]",
      "text/plain": [
       "<Figure size 432x288 with 1 Axes>"
      ]
     },
     "metadata": {
      "needs_background": "light"
     },
     "output_type": "display_data"
    }
   ],
   "source": [
    "sns.countplot(df['Hour'])"
   ]
  },
  {
   "cell_type": "code",
   "execution_count": 28,
   "metadata": {},
   "outputs": [
    {
     "name": "stderr",
     "output_type": "stream",
     "text": [
      "C:\\Users\\USER\\miniconda3\\lib\\site-packages\\seaborn\\_decorators.py:36: FutureWarning: Pass the following variable as a keyword arg: x. From version 0.12, the only valid positional argument will be `data`, and passing other arguments without an explicit keyword will result in an error or misinterpretation.\n",
      "  warnings.warn(\n"
     ]
    },
    {
     "data": {
      "text/plain": [
       "<AxesSubplot:xlabel='month', ylabel='count'>"
      ]
     },
     "execution_count": 28,
     "metadata": {},
     "output_type": "execute_result"
    },
    {
     "data": {
      "image/png": "[encoded data removed]",
      "text/plain": [
       "<Figure size 432x288 with 1 Axes>"
      ]
     },
     "metadata": {
      "needs_background": "light"
     },
     "output_type": "display_data"
    }
   ],
   "source": [
    "sns.countplot(df['month'])"
   ]
  },
  {
   "cell_type": "code",
   "execution_count": 29,
   "metadata": {},
   "outputs": [
    {
     "name": "stderr",
     "output_type": "stream",
     "text": [
      "C:\\Users\\USER\\miniconda3\\lib\\site-packages\\seaborn\\_decorators.py:36: FutureWarning: Pass the following variable as a keyword arg: x. From version 0.12, the only valid positional argument will be `data`, and passing other arguments without an explicit keyword will result in an error or misinterpretation.\n",
      "  warnings.warn(\n"
     ]
    },
    {
     "data": {
      "text/plain": [
       "<AxesSubplot:xlabel='dayOfWeek', ylabel='count'>"
      ]
     },
     "execution_count": 29,
     "metadata": {},
     "output_type": "execute_result"
    },
    {
     "data": {
      "image/png": "[encoded data removed]",
      "text/plain": [
       "<Figure size 432x288 with 1 Axes>"
      ]
     },
     "metadata": {
      "needs_background": "light"
     },
     "output_type": "display_data"
    }
   ],
   "source": [
    "sns.countplot(df['dayOfWeek'])"
   ]
  },
  {
   "cell_type": "code",
   "execution_count": 30,
   "metadata": {},
   "outputs": [],
   "source": [
    "df = df.drop(['newDate'], axis=1)"
   ]
  },
  {
   "cell_type": "code",
   "execution_count": 31,
   "metadata": {},
   "outputs": [
    {
     "data": {
      "text/plain": [
       "(3027853, 40)"
      ]
     },
     "execution_count": 31,
     "metadata": {},
     "output_type": "execute_result"
    }
   ],
   "source": [
    "df.shape"
   ]
  },
  {
   "cell_type": "code",
   "execution_count": 32,
   "metadata": {},
   "outputs": [
    {
     "data": {
      "text/plain": [
       "Index(['Severity', 'Start_Time', 'End_Time', 'Start_Lat', 'Start_Lng',\n",
       "       'Distance(mi)', 'Description', 'Street', 'City', 'County', 'State',\n",
       "       'Temperature(F)', 'Humidity(%)', 'Pressure(in)', 'Visibility(mi)',\n",
       "       'Wind_Direction', 'Wind_Speed(mph)', 'Weather_Condition', 'Amenity',\n",
       "       'Bump', 'Crossing', 'Give_Way', 'Junction', 'No_Exit', 'Railway',\n",
       "       'Roundabout', 'Station', 'Stop', 'Traffic_Calming', 'Traffic_Signal',\n",
       "       'Turning_Loop', 'Sunrise_Sunset', 'Civil_Twilight', 'Nautical_Twilight',\n",
       "       'Astronomical_Twilight', 'durationt', 'newSeverity', 'month',\n",
       "       'dayOfWeek', 'Hour'],\n",
       "      dtype='object')"
      ]
     },
     "execution_count": 32,
     "metadata": {},
     "output_type": "execute_result"
    }
   ],
   "source": [
    "df.columns"
   ]
  },
  {
   "cell_type": "code",
   "execution_count": 33,
   "metadata": {
    "scrolled": true
   },
   "outputs": [
    {
     "data": {
      "text/html": [
       "<div>\n",
       "<style scoped>\n",
       "    .dataframe tbody tr th:only-of-type {\n",
       "        vertical-align: middle;\n",
       "    }\n",
       "\n",
       "    .dataframe tbody tr th {\n",
       "        vertical-align: top;\n",
       "    }\n",
       "\n",
       "    .dataframe thead th {\n",
       "        text-align: right;\n",
       "    }\n",
       "</style>\n",
       "<table border=\"1\" class=\"dataframe\">\n",
       "  <thead>\n",
       "    <tr style=\"text-align: right;\">\n",
       "      <th></th>\n",
       "      <th>Start_Time</th>\n",
       "      <th>End_Time</th>\n",
       "      <th>City</th>\n",
       "      <th>Description</th>\n",
       "      <th>durationt</th>\n",
       "    </tr>\n",
       "  </thead>\n",
       "  <tbody>\n",
       "    <tr>\n",
       "      <th>2740837</th>\n",
       "      <td>2018-02-16 12:39:19</td>\n",
       "      <td>2020-04-30 01:22:43</td>\n",
       "      <td>Claysville</td>\n",
       "      <td>At Reed Rd - Fuel spillage accident.</td>\n",
       "      <td>1157083.0</td>\n",
       "    </tr>\n",
       "    <tr>\n",
       "      <th>2740845</th>\n",
       "      <td>2018-02-16 12:39:19</td>\n",
       "      <td>2020-04-30 01:22:43</td>\n",
       "      <td>Claysville</td>\n",
       "      <td>At N Sunset Beach Rd - Fuel spillage accident.</td>\n",
       "      <td>1157083.0</td>\n",
       "    </tr>\n",
       "    <tr>\n",
       "      <th>2586086</th>\n",
       "      <td>2016-05-05 14:47:55</td>\n",
       "      <td>2018-04-27 16:00:00</td>\n",
       "      <td>Newark</td>\n",
       "      <td>Closed between Roanoke Ave and US-1-9-TRUCK/To...</td>\n",
       "      <td>1039752.0</td>\n",
       "    </tr>\n",
       "    <tr>\n",
       "      <th>2740850</th>\n",
       "      <td>2018-05-10 09:17:18</td>\n",
       "      <td>2020-04-30 01:22:43</td>\n",
       "      <td>Claysville</td>\n",
       "      <td>At Grimes Rd - Fuel spillage accident.</td>\n",
       "      <td>1037765.0</td>\n",
       "    </tr>\n",
       "    <tr>\n",
       "      <th>2740840</th>\n",
       "      <td>2018-05-10 09:17:18</td>\n",
       "      <td>2020-04-30 01:22:43</td>\n",
       "      <td>Claysville</td>\n",
       "      <td>At Lake Rd - Fuel spillage accident.</td>\n",
       "      <td>1037765.0</td>\n",
       "    </tr>\n",
       "    <tr>\n",
       "      <th>2571905</th>\n",
       "      <td>2016-07-01 12:51:02</td>\n",
       "      <td>2018-04-27 16:00:00</td>\n",
       "      <td>Newark</td>\n",
       "      <td>Closed between Roanoke Ave and US-1-9-TRUCK/To...</td>\n",
       "      <td>957789.0</td>\n",
       "    </tr>\n",
       "    <tr>\n",
       "      <th>3380860</th>\n",
       "      <td>2017-02-04 07:00:00</td>\n",
       "      <td>2018-11-30 19:00:00</td>\n",
       "      <td>Detroit</td>\n",
       "      <td>Closed between Livernois Ave/Exit 46 and Allen...</td>\n",
       "      <td>956880.0</td>\n",
       "    </tr>\n",
       "    <tr>\n",
       "      <th>2643270</th>\n",
       "      <td>2017-02-04 07:00:00</td>\n",
       "      <td>2018-11-30 19:00:00</td>\n",
       "      <td>Detroit</td>\n",
       "      <td>Closed between Livernois Ave/Exit 46 and North...</td>\n",
       "      <td>956880.0</td>\n",
       "    </tr>\n",
       "    <tr>\n",
       "      <th>3320342</th>\n",
       "      <td>2017-02-04 07:00:00</td>\n",
       "      <td>2018-11-30 19:00:00</td>\n",
       "      <td>Detroit</td>\n",
       "      <td>Closed between Livernois Ave/Exit 46 and Allen...</td>\n",
       "      <td>956880.0</td>\n",
       "    </tr>\n",
       "    <tr>\n",
       "      <th>3382352</th>\n",
       "      <td>2017-02-04 07:00:00</td>\n",
       "      <td>2018-11-30 19:00:00</td>\n",
       "      <td>Detroit</td>\n",
       "      <td>Closed between Livernois Ave/Exit 46 and Allen...</td>\n",
       "      <td>956880.0</td>\n",
       "    </tr>\n",
       "  </tbody>\n",
       "</table>\n",
       "</div>"
      ],
      "text/plain": [
       "                 Start_Time            End_Time        City  \\\n",
       "2740837 2018-02-16 12:39:19 2020-04-30 01:22:43  Claysville   \n",
       "2740845 2018-02-16 12:39:19 2020-04-30 01:22:43  Claysville   \n",
       "2586086 2016-05-05 14:47:55 2018-04-27 16:00:00      Newark   \n",
       "2740850 2018-05-10 09:17:18 2020-04-30 01:22:43  Claysville   \n",
       "2740840 2018-05-10 09:17:18 2020-04-30 01:22:43  Claysville   \n",
       "2571905 2016-07-01 12:51:02 2018-04-27 16:00:00      Newark   \n",
       "3380860 2017-02-04 07:00:00 2018-11-30 19:00:00     Detroit   \n",
       "2643270 2017-02-04 07:00:00 2018-11-30 19:00:00     Detroit   \n",
       "3320342 2017-02-04 07:00:00 2018-11-30 19:00:00     Detroit   \n",
       "3382352 2017-02-04 07:00:00 2018-11-30 19:00:00     Detroit   \n",
       "\n",
       "                                               Description  durationt  \n",
       "2740837               At Reed Rd - Fuel spillage accident.  1157083.0  \n",
       "2740845     At N Sunset Beach Rd - Fuel spillage accident.  1157083.0  \n",
       "2586086  Closed between Roanoke Ave and US-1-9-TRUCK/To...  1039752.0  \n",
       "2740850             At Grimes Rd - Fuel spillage accident.  1037765.0  \n",
       "2740840               At Lake Rd - Fuel spillage accident.  1037765.0  \n",
       "2571905  Closed between Roanoke Ave and US-1-9-TRUCK/To...   957789.0  \n",
       "3380860  Closed between Livernois Ave/Exit 46 and Allen...   956880.0  \n",
       "2643270  Closed between Livernois Ave/Exit 46 and North...   956880.0  \n",
       "3320342  Closed between Livernois Ave/Exit 46 and Allen...   956880.0  \n",
       "3382352  Closed between Livernois Ave/Exit 46 and Allen...   956880.0  "
      ]
     },
     "execution_count": 33,
     "metadata": {},
     "output_type": "execute_result"
    }
   ],
   "source": [
    "# Top 10 de las duraciones de accidente mas altas\n",
    "df[['Start_Time', 'End_Time','City','Description','durationt']].sort_values(by=['durationt'],ascending=False).head(10)"
   ]
  },
  {
   "cell_type": "code",
   "execution_count": 34,
   "metadata": {},
   "outputs": [
    {
     "data": {
      "text/plain": [
       "Clear               614958\n",
       "Fair                538439\n",
       "Mostly Cloudy       447118\n",
       "Overcast            321547\n",
       "Partly Cloudy       314808\n",
       "Cloudy              210325\n",
       "Scattered Clouds    176040\n",
       "Light Rain          163975\n",
       "Light Snow           47118\n",
       "Rain                 38524\n",
       "Haze                 29740\n",
       "Fog                  24985\n",
       "Heavy Rain           14390\n",
       "Light Drizzle        11267\n",
       "Fair / Windy          7882\n",
       "Name: Weather_Condition, dtype: int64"
      ]
     },
     "execution_count": 34,
     "metadata": {},
     "output_type": "execute_result"
    }
   ],
   "source": [
    "df['Weather_Condition'].value_counts().head(15)"
   ]
  },
  {
   "cell_type": "code",
   "execution_count": 35,
   "metadata": {},
   "outputs": [],
   "source": [
    "# Listado de variables a eliminar, se eliminaran variables a posteriori\n",
    "dropColumns =  ['Start_Time', 'End_Time','durationt','Description','Distance(mi)']\n",
    "# Columnas numericas a ser escaladas\n",
    "numDataCol = ['Temperature(F)', 'Humidity(%)', 'Pressure(in)', 'Visibility(mi)', 'Wind_Speed(mph)']\n",
    "len(dropColumns)\n",
    "descripcion = df['Description'].reset_index(drop=True)"
   ]
  },
  {
   "cell_type": "code",
   "execution_count": 36,
   "metadata": {},
   "outputs": [],
   "source": [
    "def preparandoDatos(df, dropColumns, numDataCol):\n",
    "    df=df.drop(dropColumns, axis=1)\n",
    "    data = df.copy()\n",
    "    mapping = {}\n",
    "    \n",
    "    for col in data.columns:\n",
    "        if (data[col].dtype == \"object\" or data[col].dtype == \"bool\"):\n",
    "            le = LabelEncoder()\n",
    "            data[col].fillna(\"None\", inplace=True)\n",
    "            le.fit(list(data[col].astype(str).values))\n",
    "            data[col] = le.transform(list(data[col].astype(str).values))\n",
    "            mapping.update({col: dict(zip(le.classes_, range(len(le.classes_))))})\n",
    "        else:\n",
    "            data[col].fillna(-999, inplace=True)\n",
    "            \n",
    "    archivo = 'DiccionarioDeCategorias.pkl'\n",
    "    rutaArchivo = path + archivo        \n",
    "    a_file = open(rutaArchivo, \"wb\")\n",
    "    pickle.dump(mapping, a_file)\n",
    "    a_file.close()\n",
    "    \n",
    "    colDescriptoras = data.columns\n",
    "    \n",
    "    scaler = StandardScaler().fit(data[numDataCol])\n",
    "    numDataScaled = scaler.transform(data[numDataCol])\n",
    "\n",
    "    otherDataDF = data[data.columns.difference(numDataCol)].reset_index(drop=True)\n",
    "    numDataDF = pd.DataFrame(data = numDataScaled, columns = numDataCol).reset_index(drop=True)\n",
    "    # pd.concat([otherDataDF,numDataDF])\n",
    "    return pd.concat([otherDataDF,numDataDF], join=\"outer\",axis=1), mapping"
   ]
  },
  {
   "cell_type": "code",
   "execution_count": 37,
   "metadata": {},
   "outputs": [
    {
     "name": "stdout",
     "output_type": "stream",
     "text": [
      "Wall time: 1min 45s\n"
     ]
    }
   ],
   "source": [
    "%%time\n",
    "df, diccionario = preparandoDatos(df, dropColumns, numDataCol) "
   ]
  },
  {
   "cell_type": "code",
   "execution_count": 38,
   "metadata": {},
   "outputs": [],
   "source": [
    "def busquedaDict(categoria, valor):\n",
    "    print([k for k,v in diccionario[categoria].items() if v == valor])"
   ]
  },
  {
   "cell_type": "code",
   "execution_count": 39,
   "metadata": {},
   "outputs": [
    {
     "name": "stdout",
     "output_type": "stream",
     "text": [
      "['Abbottstown']\n"
     ]
    }
   ],
   "source": [
    "busquedaDict('City',4)"
   ]
  },
  {
   "cell_type": "code",
   "execution_count": 40,
   "metadata": {},
   "outputs": [],
   "source": [
    "# concatenating the DataFrames \n",
    "df = pd.concat([df,descripcion], join=\"outer\",axis=1)"
   ]
  },
  {
   "cell_type": "code",
   "execution_count": 41,
   "metadata": {
    "scrolled": true
   },
   "outputs": [
    {
     "data": {
      "text/plain": [
       "Index(['Amenity', 'Astronomical_Twilight', 'Bump', 'City', 'Civil_Twilight',\n",
       "       'County', 'Crossing', 'Give_Way', 'Hour', 'Junction',\n",
       "       'Nautical_Twilight', 'No_Exit', 'Railway', 'Roundabout', 'Severity',\n",
       "       'Start_Lat', 'Start_Lng', 'State', 'Station', 'Stop', 'Street',\n",
       "       'Sunrise_Sunset', 'Traffic_Calming', 'Traffic_Signal', 'Turning_Loop',\n",
       "       'Weather_Condition', 'Wind_Direction', 'dayOfWeek', 'month',\n",
       "       'newSeverity', 'Temperature(F)', 'Humidity(%)', 'Pressure(in)',\n",
       "       'Visibility(mi)', 'Wind_Speed(mph)', 'Description'],\n",
       "      dtype='object')"
      ]
     },
     "execution_count": 41,
     "metadata": {},
     "output_type": "execute_result"
    }
   ],
   "source": [
    "df.columns"
   ]
  },
  {
   "cell_type": "code",
   "execution_count": 42,
   "metadata": {},
   "outputs": [
    {
     "data": {
      "text/plain": [
       "(3027853, 36)"
      ]
     },
     "execution_count": 42,
     "metadata": {},
     "output_type": "execute_result"
    }
   ],
   "source": [
    "df.shape"
   ]
  },
  {
   "cell_type": "code",
   "execution_count": 43,
   "metadata": {},
   "outputs": [],
   "source": [
    "archivo = 'cleanedVariables-standarized.pkl'\n",
    "rutaArchivo = path + archivo    \n",
    "df.to_pickle(rutaArchivo)"
   ]
  },
  {
   "cell_type": "code",
   "execution_count": 44,
   "metadata": {},
   "outputs": [
    {
     "data": {
      "text/html": [
       "<div>\n",
       "<style scoped>\n",
       "    .dataframe tbody tr th:only-of-type {\n",
       "        vertical-align: middle;\n",
       "    }\n",
       "\n",
       "    .dataframe tbody tr th {\n",
       "        vertical-align: top;\n",
       "    }\n",
       "\n",
       "    .dataframe thead th {\n",
       "        text-align: right;\n",
       "    }\n",
       "</style>\n",
       "<table border=\"1\" class=\"dataframe\">\n",
       "  <thead>\n",
       "    <tr style=\"text-align: right;\">\n",
       "      <th></th>\n",
       "      <th>Amenity</th>\n",
       "      <th>Astronomical_Twilight</th>\n",
       "      <th>Bump</th>\n",
       "      <th>City</th>\n",
       "      <th>Civil_Twilight</th>\n",
       "      <th>County</th>\n",
       "      <th>Crossing</th>\n",
       "      <th>Give_Way</th>\n",
       "      <th>Hour</th>\n",
       "      <th>Junction</th>\n",
       "      <th>...</th>\n",
       "      <th>Wind_Direction</th>\n",
       "      <th>dayOfWeek</th>\n",
       "      <th>month</th>\n",
       "      <th>newSeverity</th>\n",
       "      <th>Temperature(F)</th>\n",
       "      <th>Humidity(%)</th>\n",
       "      <th>Pressure(in)</th>\n",
       "      <th>Visibility(mi)</th>\n",
       "      <th>Wind_Speed(mph)</th>\n",
       "      <th>Description</th>\n",
       "    </tr>\n",
       "  </thead>\n",
       "  <tbody>\n",
       "    <tr>\n",
       "      <th>0</th>\n",
       "      <td>0</td>\n",
       "      <td>0</td>\n",
       "      <td>0</td>\n",
       "      <td>11194</td>\n",
       "      <td>1</td>\n",
       "      <td>317</td>\n",
       "      <td>0</td>\n",
       "      <td>0</td>\n",
       "      <td>6</td>\n",
       "      <td>0</td>\n",
       "      <td>...</td>\n",
       "      <td>15</td>\n",
       "      <td>0</td>\n",
       "      <td>2</td>\n",
       "      <td>2</td>\n",
       "      <td>-1.413528</td>\n",
       "      <td>1.584296</td>\n",
       "      <td>-0.040193</td>\n",
       "      <td>0.298707</td>\n",
       "      <td>-0.899846</td>\n",
       "      <td>Accident on OH-32 State Route 32 Westbound at ...</td>\n",
       "    </tr>\n",
       "    <tr>\n",
       "      <th>1</th>\n",
       "      <td>0</td>\n",
       "      <td>0</td>\n",
       "      <td>0</td>\n",
       "      <td>2467</td>\n",
       "      <td>0</td>\n",
       "      <td>1037</td>\n",
       "      <td>0</td>\n",
       "      <td>0</td>\n",
       "      <td>7</td>\n",
       "      <td>0</td>\n",
       "      <td>...</td>\n",
       "      <td>15</td>\n",
       "      <td>0</td>\n",
       "      <td>2</td>\n",
       "      <td>2</td>\n",
       "      <td>-1.461671</td>\n",
       "      <td>1.407576</td>\n",
       "      <td>-0.074852</td>\n",
       "      <td>-0.056635</td>\n",
       "      <td>-0.690152</td>\n",
       "      <td>Accident on I-75 Southbound at Exits 52 52B US...</td>\n",
       "    </tr>\n",
       "    <tr>\n",
       "      <th>2</th>\n",
       "      <td>0</td>\n",
       "      <td>0</td>\n",
       "      <td>0</td>\n",
       "      <td>2467</td>\n",
       "      <td>0</td>\n",
       "      <td>1037</td>\n",
       "      <td>0</td>\n",
       "      <td>0</td>\n",
       "      <td>7</td>\n",
       "      <td>0</td>\n",
       "      <td>...</td>\n",
       "      <td>15</td>\n",
       "      <td>0</td>\n",
       "      <td>2</td>\n",
       "      <td>2</td>\n",
       "      <td>-1.413528</td>\n",
       "      <td>1.098315</td>\n",
       "      <td>-0.063299</td>\n",
       "      <td>-1.122663</td>\n",
       "      <td>-0.899846</td>\n",
       "      <td>Accident on McEwen Rd at OH-725 Miamisburg Cen...</td>\n",
       "    </tr>\n",
       "    <tr>\n",
       "      <th>3</th>\n",
       "      <td>0</td>\n",
       "      <td>0</td>\n",
       "      <td>0</td>\n",
       "      <td>11058</td>\n",
       "      <td>0</td>\n",
       "      <td>545</td>\n",
       "      <td>0</td>\n",
       "      <td>0</td>\n",
       "      <td>7</td>\n",
       "      <td>0</td>\n",
       "      <td>...</td>\n",
       "      <td>14</td>\n",
       "      <td>0</td>\n",
       "      <td>2</td>\n",
       "      <td>2</td>\n",
       "      <td>-1.311892</td>\n",
       "      <td>1.451756</td>\n",
       "      <td>-0.086405</td>\n",
       "      <td>-0.767321</td>\n",
       "      <td>-0.899846</td>\n",
       "      <td>Accident on I-270 Outerbelt Northbound near Ex...</td>\n",
       "    </tr>\n",
       "    <tr>\n",
       "      <th>4</th>\n",
       "      <td>0</td>\n",
       "      <td>0</td>\n",
       "      <td>0</td>\n",
       "      <td>2467</td>\n",
       "      <td>0</td>\n",
       "      <td>1037</td>\n",
       "      <td>0</td>\n",
       "      <td>0</td>\n",
       "      <td>7</td>\n",
       "      <td>0</td>\n",
       "      <td>...</td>\n",
       "      <td>21</td>\n",
       "      <td>0</td>\n",
       "      <td>2</td>\n",
       "      <td>2</td>\n",
       "      <td>-1.520513</td>\n",
       "      <td>1.584296</td>\n",
       "      <td>-0.051746</td>\n",
       "      <td>-0.767321</td>\n",
       "      <td>-0.899846</td>\n",
       "      <td>Accident on Oakridge Dr at Woodward Ave. Expec...</td>\n",
       "    </tr>\n",
       "  </tbody>\n",
       "</table>\n",
       "<p>5 rows × 36 columns</p>\n",
       "</div>"
      ],
      "text/plain": [
       "   Amenity  Astronomical_Twilight  Bump   City  Civil_Twilight  County  \\\n",
       "0        0                      0     0  11194               1     317   \n",
       "1        0                      0     0   2467               0    1037   \n",
       "2        0                      0     0   2467               0    1037   \n",
       "3        0                      0     0  11058               0     545   \n",
       "4        0                      0     0   2467               0    1037   \n",
       "\n",
       "   Crossing  Give_Way  Hour  Junction  ...  Wind_Direction  dayOfWeek  month  \\\n",
       "0         0         0     6         0  ...              15          0      2   \n",
       "1         0         0     7         0  ...              15          0      2   \n",
       "2         0         0     7         0  ...              15          0      2   \n",
       "3         0         0     7         0  ...              14          0      2   \n",
       "4         0         0     7         0  ...              21          0      2   \n",
       "\n",
       "   newSeverity  Temperature(F)  Humidity(%)  Pressure(in)  Visibility(mi)  \\\n",
       "0            2       -1.413528     1.584296     -0.040193        0.298707   \n",
       "1            2       -1.461671     1.407576     -0.074852       -0.056635   \n",
       "2            2       -1.413528     1.098315     -0.063299       -1.122663   \n",
       "3            2       -1.311892     1.451756     -0.086405       -0.767321   \n",
       "4            2       -1.520513     1.584296     -0.051746       -0.767321   \n",
       "\n",
       "   Wind_Speed(mph)                                        Description  \n",
       "0        -0.899846  Accident on OH-32 State Route 32 Westbound at ...  \n",
       "1        -0.690152  Accident on I-75 Southbound at Exits 52 52B US...  \n",
       "2        -0.899846  Accident on McEwen Rd at OH-725 Miamisburg Cen...  \n",
       "3        -0.899846  Accident on I-270 Outerbelt Northbound near Ex...  \n",
       "4        -0.899846  Accident on Oakridge Dr at Woodward Ave. Expec...  \n",
       "\n",
       "[5 rows x 36 columns]"
      ]
     },
     "execution_count": 44,
     "metadata": {},
     "output_type": "execute_result"
    }
   ],
   "source": [
    "df.head()"
   ]
  }
 ],
 "metadata": {
  "kernelspec": {
   "display_name": "Python 3",
   "language": "python",
   "name": "python3"
  },
  "language_info": {
   "codemirror_mode": {
    "name": "ipython",
    "version": 3
   },
   "file_extension": ".py",
   "mimetype": "text/x-python",
   "name": "python",
   "nbconvert_exporter": "python",
   "pygments_lexer": "ipython3",
   "version": "3.8.3"
  }
 },
 "nbformat": 4,
 "nbformat_minor": 4
}
