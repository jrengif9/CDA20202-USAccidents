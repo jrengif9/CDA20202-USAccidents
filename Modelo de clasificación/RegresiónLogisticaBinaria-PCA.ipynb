{
 "cells": [
  {
   "cell_type": "code",
   "execution_count": 38,
   "metadata": {},
   "outputs": [],
   "source": [
    "from IPython.core.debugger import set_trace\n",
    "\n",
    "import os\n",
    "import sys\n",
    "import seaborn as sns\n",
    "\n",
    "import numpy as np\n",
    "import pandas as pd\n",
    "import matplotlib.pyplot as plt\n",
    "from sklearn.preprocessing import LabelEncoder    #tranforma variables categoricas a numericas\n",
    "from sklearn.preprocessing import StandardScaler  # Escala los datos\n",
    "from sklearn.ensemble import IsolationForest      # Algoritmo de recorte\n",
    "from sklearn.decomposition import PCA             # Reduccion de dimensionalidad\n",
    "from sklearn.model_selection import train_test_split  # divide de manera aleatoria en sub conjuntos de datos de prueba y entrenamiento\n",
    "from sklearn.linear_model import LogisticRegression\n",
    "from sklearn import metrics \n",
    "from sklearn.metrics import confusion_matrix      # genera la matriz de confusion\n",
    "from sklearn.preprocessing import LabelEncoder    #tranforma variables categoricas a numericas\n",
    "from sklearn.preprocessing import StandardScaler  # Escala los datos\n",
    "import pickle\n",
    "from numpy import linalg as LA\n",
    "\n",
    "import statsmodels.api as sm\n",
    "from sklearn.metrics import classification_report\n",
    "\n",
    "module_path = os.path.abspath(os.path.join(\"..\"))\n",
    "if module_path not in sys.path:\n",
    "    sys.path.append(module_path)"
   ]
  },
  {
   "cell_type": "code",
   "execution_count": 39,
   "metadata": {},
   "outputs": [
    {
     "data": {
      "text/plain": [
       "'C:\\\\Users\\\\josrenca\\\\Desktop\\\\Universidad\\\\ARI-PI1-US-CarAccidentsAnalysis\\\\NoteBooks\\\\5. Modelos'"
      ]
     },
     "execution_count": 39,
     "metadata": {},
     "output_type": "execute_result"
    }
   ],
   "source": [
    "pwd"
   ]
  },
  {
   "cell_type": "code",
   "execution_count": 40,
   "metadata": {},
   "outputs": [],
   "source": [
    "path = 'C:\\\\Users\\\\josrenca\\\\Desktop\\\\Universidad\\\\Datos PI - ARI\\\\'\n",
    "archivo = 'cleanedVariables-standarized-respuestaBinaria.pkl'\n",
    "rutaArvhivo = path + archivo\n",
    "df = pd.read_pickle(rutaArvhivo)"
   ]
  },
  {
   "cell_type": "code",
   "execution_count": 41,
   "metadata": {},
   "outputs": [
    {
     "data": {
      "text/plain": [
       "(3027853, 36)"
      ]
     },
     "execution_count": 41,
     "metadata": {},
     "output_type": "execute_result"
    }
   ],
   "source": [
    "df.shape"
   ]
  },
  {
   "cell_type": "code",
   "execution_count": 42,
   "metadata": {},
   "outputs": [
    {
     "data": {
      "text/plain": [
       "Index(['Amenity', 'Astronomical_Twilight', 'Bump', 'City', 'Civil_Twilight',\n",
       "       'County', 'Crossing', 'Give_Way', 'Hour', 'Junction',\n",
       "       'Nautical_Twilight', 'No_Exit', 'Railway', 'Roundabout', 'Severity',\n",
       "       'Start_Lat', 'Start_Lng', 'State', 'Station', 'Stop', 'Street',\n",
       "       'Sunrise_Sunset', 'Traffic_Calming', 'Traffic_Signal', 'Turning_Loop',\n",
       "       'Weather_Condition', 'Wind_Direction', 'dayOfWeek', 'month',\n",
       "       'newSeverity', 'Temperature(F)', 'Humidity(%)', 'Pressure(in)',\n",
       "       'Visibility(mi)', 'Wind_Speed(mph)', 'Description'],\n",
       "      dtype='object')"
      ]
     },
     "execution_count": 42,
     "metadata": {},
     "output_type": "execute_result"
    }
   ],
   "source": [
    "df.columns"
   ]
  },
  {
   "cell_type": "code",
   "execution_count": 43,
   "metadata": {},
   "outputs": [],
   "source": [
    "y1=df['Severity']\n",
    "y2=df['newSeverity']"
   ]
  },
  {
   "cell_type": "code",
   "execution_count": 44,
   "metadata": {},
   "outputs": [],
   "source": [
    "X = df[df.columns.difference(['Description', 'Severity', 'newSeverity'])]"
   ]
  },
  {
   "cell_type": "code",
   "execution_count": 45,
   "metadata": {},
   "outputs": [
    {
     "data": {
      "text/plain": [
       "Index(['Amenity', 'Astronomical_Twilight', 'Bump', 'City', 'Civil_Twilight',\n",
       "       'County', 'Crossing', 'Give_Way', 'Hour', 'Humidity(%)', 'Junction',\n",
       "       'Nautical_Twilight', 'No_Exit', 'Pressure(in)', 'Railway', 'Roundabout',\n",
       "       'Start_Lat', 'Start_Lng', 'State', 'Station', 'Stop', 'Street',\n",
       "       'Sunrise_Sunset', 'Temperature(F)', 'Traffic_Calming', 'Traffic_Signal',\n",
       "       'Turning_Loop', 'Visibility(mi)', 'Weather_Condition', 'Wind_Direction',\n",
       "       'Wind_Speed(mph)', 'dayOfWeek', 'month'],\n",
       "      dtype='object')"
      ]
     },
     "execution_count": 45,
     "metadata": {},
     "output_type": "execute_result"
    }
   ],
   "source": [
    "# Mostrand listado final de variables predictoras\n",
    "X.columns"
   ]
  },
  {
   "cell_type": "markdown",
   "metadata": {},
   "source": [
    "# PCA"
   ]
  },
  {
   "cell_type": "code",
   "execution_count": 46,
   "metadata": {},
   "outputs": [
    {
     "data": {
      "text/plain": [
       "33"
      ]
     },
     "execution_count": 46,
     "metadata": {},
     "output_type": "execute_result"
    }
   ],
   "source": [
    "numComp = X.shape[1]\n",
    "numComp"
   ]
  },
  {
   "cell_type": "code",
   "execution_count": 47,
   "metadata": {},
   "outputs": [
    {
     "name": "stdout",
     "output_type": "stream",
     "text": [
      "Wall time: 13 s\n"
     ]
    }
   ],
   "source": [
    "%%time\n",
    "pca = PCA(n_components=numComp)\n",
    "principalComponents = pca.fit_transform(X)"
   ]
  },
  {
   "cell_type": "code",
   "execution_count": 48,
   "metadata": {},
   "outputs": [],
   "source": [
    "columns = []\n",
    "for i in range(1, numComp+1):\n",
    "    columns.append(\"PC\" + str(i))"
   ]
  },
  {
   "cell_type": "code",
   "execution_count": 49,
   "metadata": {},
   "outputs": [],
   "source": [
    "principalDf = pd.DataFrame(data = principalComponents, columns = columns)"
   ]
  },
  {
   "cell_type": "code",
   "execution_count": 50,
   "metadata": {},
   "outputs": [
    {
     "data": {
      "text/html": [
       "<div>\n",
       "<style scoped>\n",
       "    .dataframe tbody tr th:only-of-type {\n",
       "        vertical-align: middle;\n",
       "    }\n",
       "\n",
       "    .dataframe tbody tr th {\n",
       "        vertical-align: top;\n",
       "    }\n",
       "\n",
       "    .dataframe thead th {\n",
       "        text-align: right;\n",
       "    }\n",
       "</style>\n",
       "<table border=\"1\" class=\"dataframe\">\n",
       "  <thead>\n",
       "    <tr style=\"text-align: right;\">\n",
       "      <th></th>\n",
       "      <th>PC1</th>\n",
       "      <th>PC2</th>\n",
       "      <th>PC3</th>\n",
       "      <th>PC4</th>\n",
       "      <th>PC5</th>\n",
       "      <th>PC6</th>\n",
       "      <th>PC7</th>\n",
       "      <th>PC8</th>\n",
       "      <th>PC9</th>\n",
       "      <th>PC10</th>\n",
       "      <th>...</th>\n",
       "      <th>PC24</th>\n",
       "      <th>PC25</th>\n",
       "      <th>PC26</th>\n",
       "      <th>PC27</th>\n",
       "      <th>PC28</th>\n",
       "      <th>PC29</th>\n",
       "      <th>PC30</th>\n",
       "      <th>PC31</th>\n",
       "      <th>PC32</th>\n",
       "      <th>PC33</th>\n",
       "    </tr>\n",
       "  </thead>\n",
       "  <tbody>\n",
       "    <tr>\n",
       "      <th>0</th>\n",
       "      <td>-53513.356555</td>\n",
       "      <td>5657.678916</td>\n",
       "      <td>714.892099</td>\n",
       "      <td>32.136627</td>\n",
       "      <td>12.415160</td>\n",
       "      <td>2.555412</td>\n",
       "      <td>-2.624287</td>\n",
       "      <td>6.679212</td>\n",
       "      <td>-1.037164</td>\n",
       "      <td>4.294069</td>\n",
       "      <td>...</td>\n",
       "      <td>0.024441</td>\n",
       "      <td>0.333598</td>\n",
       "      <td>-0.017555</td>\n",
       "      <td>0.023501</td>\n",
       "      <td>-0.006530</td>\n",
       "      <td>-0.000827</td>\n",
       "      <td>-0.000048</td>\n",
       "      <td>-0.000144</td>\n",
       "      <td>-0.000081</td>\n",
       "      <td>-4.307617e-13</td>\n",
       "    </tr>\n",
       "    <tr>\n",
       "      <th>1</th>\n",
       "      <td>3696.824517</td>\n",
       "      <td>-3074.277140</td>\n",
       "      <td>-217.232489</td>\n",
       "      <td>31.712166</td>\n",
       "      <td>11.405099</td>\n",
       "      <td>3.529207</td>\n",
       "      <td>-2.706586</td>\n",
       "      <td>6.589221</td>\n",
       "      <td>0.414711</td>\n",
       "      <td>4.224529</td>\n",
       "      <td>...</td>\n",
       "      <td>-0.015193</td>\n",
       "      <td>-0.189991</td>\n",
       "      <td>-0.004301</td>\n",
       "      <td>-0.003852</td>\n",
       "      <td>-0.001905</td>\n",
       "      <td>-0.000285</td>\n",
       "      <td>-0.000230</td>\n",
       "      <td>-0.000079</td>\n",
       "      <td>-0.000082</td>\n",
       "      <td>-1.406934e-12</td>\n",
       "    </tr>\n",
       "    <tr>\n",
       "      <th>2</th>\n",
       "      <td>-10636.173628</td>\n",
       "      <td>-3067.679987</td>\n",
       "      <td>-220.196033</td>\n",
       "      <td>31.138624</td>\n",
       "      <td>10.694989</td>\n",
       "      <td>3.396502</td>\n",
       "      <td>-2.671732</td>\n",
       "      <td>6.549568</td>\n",
       "      <td>0.452535</td>\n",
       "      <td>4.273427</td>\n",
       "      <td>...</td>\n",
       "      <td>0.026239</td>\n",
       "      <td>0.006805</td>\n",
       "      <td>-0.018917</td>\n",
       "      <td>0.020650</td>\n",
       "      <td>-0.005733</td>\n",
       "      <td>0.000208</td>\n",
       "      <td>0.000314</td>\n",
       "      <td>-0.000171</td>\n",
       "      <td>-0.000029</td>\n",
       "      <td>-6.499336e-14</td>\n",
       "    </tr>\n",
       "    <tr>\n",
       "      <th>3</th>\n",
       "      <td>-70733.365644</td>\n",
       "      <td>5535.512399</td>\n",
       "      <td>479.837460</td>\n",
       "      <td>9.553011</td>\n",
       "      <td>15.638272</td>\n",
       "      <td>1.550957</td>\n",
       "      <td>-2.165722</td>\n",
       "      <td>6.026566</td>\n",
       "      <td>0.615244</td>\n",
       "      <td>4.422409</td>\n",
       "      <td>...</td>\n",
       "      <td>-0.019248</td>\n",
       "      <td>0.008022</td>\n",
       "      <td>-0.003018</td>\n",
       "      <td>0.000002</td>\n",
       "      <td>-0.002751</td>\n",
       "      <td>-0.000808</td>\n",
       "      <td>-0.000498</td>\n",
       "      <td>-0.000081</td>\n",
       "      <td>-0.000077</td>\n",
       "      <td>3.639643e-12</td>\n",
       "    </tr>\n",
       "    <tr>\n",
       "      <th>4</th>\n",
       "      <td>-19656.172574</td>\n",
       "      <td>-3063.529154</td>\n",
       "      <td>-222.051758</td>\n",
       "      <td>33.808380</td>\n",
       "      <td>9.730481</td>\n",
       "      <td>3.460336</td>\n",
       "      <td>-8.498991</td>\n",
       "      <td>7.376717</td>\n",
       "      <td>-0.267387</td>\n",
       "      <td>4.185571</td>\n",
       "      <td>...</td>\n",
       "      <td>-0.014026</td>\n",
       "      <td>0.008214</td>\n",
       "      <td>-0.007174</td>\n",
       "      <td>-0.004429</td>\n",
       "      <td>-0.002239</td>\n",
       "      <td>-0.000106</td>\n",
       "      <td>-0.000226</td>\n",
       "      <td>-0.000089</td>\n",
       "      <td>-0.000061</td>\n",
       "      <td>-1.333972e-12</td>\n",
       "    </tr>\n",
       "    <tr>\n",
       "      <th>...</th>\n",
       "      <td>...</td>\n",
       "      <td>...</td>\n",
       "      <td>...</td>\n",
       "      <td>...</td>\n",
       "      <td>...</td>\n",
       "      <td>...</td>\n",
       "      <td>...</td>\n",
       "      <td>...</td>\n",
       "      <td>...</td>\n",
       "      <td>...</td>\n",
       "      <td>...</td>\n",
       "      <td>...</td>\n",
       "      <td>...</td>\n",
       "      <td>...</td>\n",
       "      <td>...</td>\n",
       "      <td>...</td>\n",
       "      <td>...</td>\n",
       "      <td>...</td>\n",
       "      <td>...</td>\n",
       "      <td>...</td>\n",
       "      <td>...</td>\n",
       "    </tr>\n",
       "    <tr>\n",
       "      <th>3027848</th>\n",
       "      <td>-31499.298332</td>\n",
       "      <td>3131.433509</td>\n",
       "      <td>-318.906400</td>\n",
       "      <td>-32.485912</td>\n",
       "      <td>-23.026071</td>\n",
       "      <td>-2.141960</td>\n",
       "      <td>-7.754118</td>\n",
       "      <td>-4.834386</td>\n",
       "      <td>-1.075854</td>\n",
       "      <td>-1.423424</td>\n",
       "      <td>...</td>\n",
       "      <td>-0.022321</td>\n",
       "      <td>-0.000177</td>\n",
       "      <td>0.006372</td>\n",
       "      <td>0.000305</td>\n",
       "      <td>0.000345</td>\n",
       "      <td>-0.000882</td>\n",
       "      <td>-0.000261</td>\n",
       "      <td>0.000160</td>\n",
       "      <td>0.000027</td>\n",
       "      <td>6.028794e-15</td>\n",
       "    </tr>\n",
       "    <tr>\n",
       "      <th>3027849</th>\n",
       "      <td>3675.877808</td>\n",
       "      <td>3486.584693</td>\n",
       "      <td>-359.107798</td>\n",
       "      <td>-30.754039</td>\n",
       "      <td>-20.573412</td>\n",
       "      <td>-2.263989</td>\n",
       "      <td>-3.816235</td>\n",
       "      <td>-6.517816</td>\n",
       "      <td>-1.673821</td>\n",
       "      <td>-1.397842</td>\n",
       "      <td>...</td>\n",
       "      <td>-0.020170</td>\n",
       "      <td>0.002126</td>\n",
       "      <td>0.005364</td>\n",
       "      <td>-0.002057</td>\n",
       "      <td>-0.000293</td>\n",
       "      <td>-0.000341</td>\n",
       "      <td>-0.000344</td>\n",
       "      <td>0.000083</td>\n",
       "      <td>0.000013</td>\n",
       "      <td>3.116488e-15</td>\n",
       "    </tr>\n",
       "    <tr>\n",
       "      <th>3027850</th>\n",
       "      <td>13946.163961</td>\n",
       "      <td>2017.823060</td>\n",
       "      <td>-180.301111</td>\n",
       "      <td>34.884685</td>\n",
       "      <td>-29.781570</td>\n",
       "      <td>-0.911821</td>\n",
       "      <td>-2.222952</td>\n",
       "      <td>-6.306266</td>\n",
       "      <td>-0.474998</td>\n",
       "      <td>-1.497763</td>\n",
       "      <td>...</td>\n",
       "      <td>-0.000635</td>\n",
       "      <td>-0.000458</td>\n",
       "      <td>0.003926</td>\n",
       "      <td>-0.002739</td>\n",
       "      <td>-0.000414</td>\n",
       "      <td>-0.000957</td>\n",
       "      <td>-0.000460</td>\n",
       "      <td>0.000086</td>\n",
       "      <td>-0.000493</td>\n",
       "      <td>4.302291e-15</td>\n",
       "    </tr>\n",
       "    <tr>\n",
       "      <th>3027851</th>\n",
       "      <td>-47023.242311</td>\n",
       "      <td>-3160.360223</td>\n",
       "      <td>-93.862085</td>\n",
       "      <td>-36.611351</td>\n",
       "      <td>-30.197338</td>\n",
       "      <td>-0.772624</td>\n",
       "      <td>-3.897191</td>\n",
       "      <td>-5.867796</td>\n",
       "      <td>0.899067</td>\n",
       "      <td>-1.261642</td>\n",
       "      <td>...</td>\n",
       "      <td>-0.016766</td>\n",
       "      <td>0.002172</td>\n",
       "      <td>0.004432</td>\n",
       "      <td>-0.008711</td>\n",
       "      <td>-0.000334</td>\n",
       "      <td>-0.000441</td>\n",
       "      <td>-0.000360</td>\n",
       "      <td>0.000147</td>\n",
       "      <td>0.000009</td>\n",
       "      <td>1.123128e-15</td>\n",
       "    </tr>\n",
       "    <tr>\n",
       "      <th>3027852</th>\n",
       "      <td>40193.823693</td>\n",
       "      <td>-1034.761189</td>\n",
       "      <td>-466.312629</td>\n",
       "      <td>-30.624106</td>\n",
       "      <td>-21.988178</td>\n",
       "      <td>-1.328383</td>\n",
       "      <td>-3.798758</td>\n",
       "      <td>-4.978208</td>\n",
       "      <td>-0.524219</td>\n",
       "      <td>-1.517417</td>\n",
       "      <td>...</td>\n",
       "      <td>-0.017920</td>\n",
       "      <td>0.000410</td>\n",
       "      <td>0.003697</td>\n",
       "      <td>-0.002967</td>\n",
       "      <td>0.000939</td>\n",
       "      <td>-0.000280</td>\n",
       "      <td>-0.000117</td>\n",
       "      <td>0.000113</td>\n",
       "      <td>0.000052</td>\n",
       "      <td>3.073343e-15</td>\n",
       "    </tr>\n",
       "  </tbody>\n",
       "</table>\n",
       "<p>3027853 rows × 33 columns</p>\n",
       "</div>"
      ],
      "text/plain": [
       "                  PC1          PC2         PC3        PC4        PC5  \\\n",
       "0       -53513.356555  5657.678916  714.892099  32.136627  12.415160   \n",
       "1         3696.824517 -3074.277140 -217.232489  31.712166  11.405099   \n",
       "2       -10636.173628 -3067.679987 -220.196033  31.138624  10.694989   \n",
       "3       -70733.365644  5535.512399  479.837460   9.553011  15.638272   \n",
       "4       -19656.172574 -3063.529154 -222.051758  33.808380   9.730481   \n",
       "...               ...          ...         ...        ...        ...   \n",
       "3027848 -31499.298332  3131.433509 -318.906400 -32.485912 -23.026071   \n",
       "3027849   3675.877808  3486.584693 -359.107798 -30.754039 -20.573412   \n",
       "3027850  13946.163961  2017.823060 -180.301111  34.884685 -29.781570   \n",
       "3027851 -47023.242311 -3160.360223  -93.862085 -36.611351 -30.197338   \n",
       "3027852  40193.823693 -1034.761189 -466.312629 -30.624106 -21.988178   \n",
       "\n",
       "              PC6       PC7       PC8       PC9      PC10  ...      PC24  \\\n",
       "0        2.555412 -2.624287  6.679212 -1.037164  4.294069  ...  0.024441   \n",
       "1        3.529207 -2.706586  6.589221  0.414711  4.224529  ... -0.015193   \n",
       "2        3.396502 -2.671732  6.549568  0.452535  4.273427  ...  0.026239   \n",
       "3        1.550957 -2.165722  6.026566  0.615244  4.422409  ... -0.019248   \n",
       "4        3.460336 -8.498991  7.376717 -0.267387  4.185571  ... -0.014026   \n",
       "...           ...       ...       ...       ...       ...  ...       ...   \n",
       "3027848 -2.141960 -7.754118 -4.834386 -1.075854 -1.423424  ... -0.022321   \n",
       "3027849 -2.263989 -3.816235 -6.517816 -1.673821 -1.397842  ... -0.020170   \n",
       "3027850 -0.911821 -2.222952 -6.306266 -0.474998 -1.497763  ... -0.000635   \n",
       "3027851 -0.772624 -3.897191 -5.867796  0.899067 -1.261642  ... -0.016766   \n",
       "3027852 -1.328383 -3.798758 -4.978208 -0.524219 -1.517417  ... -0.017920   \n",
       "\n",
       "             PC25      PC26      PC27      PC28      PC29      PC30      PC31  \\\n",
       "0        0.333598 -0.017555  0.023501 -0.006530 -0.000827 -0.000048 -0.000144   \n",
       "1       -0.189991 -0.004301 -0.003852 -0.001905 -0.000285 -0.000230 -0.000079   \n",
       "2        0.006805 -0.018917  0.020650 -0.005733  0.000208  0.000314 -0.000171   \n",
       "3        0.008022 -0.003018  0.000002 -0.002751 -0.000808 -0.000498 -0.000081   \n",
       "4        0.008214 -0.007174 -0.004429 -0.002239 -0.000106 -0.000226 -0.000089   \n",
       "...           ...       ...       ...       ...       ...       ...       ...   \n",
       "3027848 -0.000177  0.006372  0.000305  0.000345 -0.000882 -0.000261  0.000160   \n",
       "3027849  0.002126  0.005364 -0.002057 -0.000293 -0.000341 -0.000344  0.000083   \n",
       "3027850 -0.000458  0.003926 -0.002739 -0.000414 -0.000957 -0.000460  0.000086   \n",
       "3027851  0.002172  0.004432 -0.008711 -0.000334 -0.000441 -0.000360  0.000147   \n",
       "3027852  0.000410  0.003697 -0.002967  0.000939 -0.000280 -0.000117  0.000113   \n",
       "\n",
       "             PC32          PC33  \n",
       "0       -0.000081 -4.307617e-13  \n",
       "1       -0.000082 -1.406934e-12  \n",
       "2       -0.000029 -6.499336e-14  \n",
       "3       -0.000077  3.639643e-12  \n",
       "4       -0.000061 -1.333972e-12  \n",
       "...           ...           ...  \n",
       "3027848  0.000027  6.028794e-15  \n",
       "3027849  0.000013  3.116488e-15  \n",
       "3027850 -0.000493  4.302291e-15  \n",
       "3027851  0.000009  1.123128e-15  \n",
       "3027852  0.000052  3.073343e-15  \n",
       "\n",
       "[3027853 rows x 33 columns]"
      ]
     },
     "execution_count": 50,
     "metadata": {},
     "output_type": "execute_result"
    }
   ],
   "source": [
    "principalDf"
   ]
  },
  {
   "cell_type": "code",
   "execution_count": 51,
   "metadata": {},
   "outputs": [
    {
     "data": {
      "text/plain": [
       "array([9.92938252e-01, 6.93845680e-03, 1.22091944e-04, 7.89604800e-07,\n",
       "       2.29332442e-07, 1.06338578e-07, 2.99862875e-08, 1.64554747e-08,\n",
       "       1.45696218e-08, 7.92631344e-09, 1.96090636e-09, 9.33362266e-10,\n",
       "       6.33861195e-10, 5.98751416e-10, 4.90100764e-10, 3.15779149e-10,\n",
       "       2.36972853e-10, 1.11920284e-10, 4.71090155e-11, 3.84727502e-11,\n",
       "       3.37787468e-11, 1.33678041e-11, 1.31106779e-11, 9.44099017e-12,\n",
       "       8.39322909e-12, 7.13024636e-12, 5.20957805e-12, 1.73761228e-12,\n",
       "       8.36904110e-13, 3.23014702e-13, 5.12330701e-14, 3.46896543e-14,\n",
       "       9.90700660e-33])"
      ]
     },
     "execution_count": 51,
     "metadata": {},
     "output_type": "execute_result"
    }
   ],
   "source": [
    "# Percentage of variance explained by each of the selected components.\n",
    "explainedVar = pca.explained_variance_ratio_\n",
    "explainedVar"
   ]
  },
  {
   "cell_type": "code",
   "execution_count": 52,
   "metadata": {},
   "outputs": [],
   "source": [
    "acumulated = []\n",
    "iteracion = 1\n",
    "running = True\n",
    "actual = 0\n",
    "while(running==True):\n",
    "    for i in range(0, iteracion):\n",
    "        actual += explainedVar[i]\n",
    "    if iteracion == numComp:\n",
    "        running = False\n",
    "    else: \n",
    "        acumulated.append(actual)\n",
    "        actual = 0\n",
    "        iteracion +=1"
   ]
  },
  {
   "cell_type": "code",
   "execution_count": 53,
   "metadata": {},
   "outputs": [
    {
     "data": {
      "image/png": "[encoded data removed]",
      "text/plain": [
       "<Figure size 432x288 with 1 Axes>"
      ]
     },
     "metadata": {
      "needs_background": "light"
     },
     "output_type": "display_data"
    }
   ],
   "source": [
    "plt.plot(acumulated)\n",
    "plt.ylabel('Varianza explicada')\n",
    "plt.show()"
   ]
  },
  {
   "cell_type": "code",
   "execution_count": 54,
   "metadata": {},
   "outputs": [
    {
     "name": "stdout",
     "output_type": "stream",
     "text": [
      "['PC1', 'PC2']\n"
     ]
    }
   ],
   "source": [
    "columns = []\n",
    "for i in range(1, 3):\n",
    "    columns.append(\"PC\" + str(i))\n",
    "print(columns)"
   ]
  },
  {
   "cell_type": "code",
   "execution_count": 55,
   "metadata": {},
   "outputs": [
    {
     "data": {
      "text/html": [
       "<div>\n",
       "<style scoped>\n",
       "    .dataframe tbody tr th:only-of-type {\n",
       "        vertical-align: middle;\n",
       "    }\n",
       "\n",
       "    .dataframe tbody tr th {\n",
       "        vertical-align: top;\n",
       "    }\n",
       "\n",
       "    .dataframe thead th {\n",
       "        text-align: right;\n",
       "    }\n",
       "</style>\n",
       "<table border=\"1\" class=\"dataframe\">\n",
       "  <thead>\n",
       "    <tr style=\"text-align: right;\">\n",
       "      <th></th>\n",
       "      <th>PC1</th>\n",
       "      <th>PC2</th>\n",
       "    </tr>\n",
       "  </thead>\n",
       "  <tbody>\n",
       "    <tr>\n",
       "      <th>0</th>\n",
       "      <td>-53513.356555</td>\n",
       "      <td>5657.678916</td>\n",
       "    </tr>\n",
       "    <tr>\n",
       "      <th>1</th>\n",
       "      <td>3696.824517</td>\n",
       "      <td>-3074.277140</td>\n",
       "    </tr>\n",
       "    <tr>\n",
       "      <th>2</th>\n",
       "      <td>-10636.173628</td>\n",
       "      <td>-3067.679987</td>\n",
       "    </tr>\n",
       "    <tr>\n",
       "      <th>3</th>\n",
       "      <td>-70733.365644</td>\n",
       "      <td>5535.512399</td>\n",
       "    </tr>\n",
       "    <tr>\n",
       "      <th>4</th>\n",
       "      <td>-19656.172574</td>\n",
       "      <td>-3063.529154</td>\n",
       "    </tr>\n",
       "  </tbody>\n",
       "</table>\n",
       "</div>"
      ],
      "text/plain": [
       "            PC1          PC2\n",
       "0 -53513.356555  5657.678916\n",
       "1   3696.824517 -3074.277140\n",
       "2 -10636.173628 -3067.679987\n",
       "3 -70733.365644  5535.512399\n",
       "4 -19656.172574 -3063.529154"
      ]
     },
     "execution_count": 55,
     "metadata": {},
     "output_type": "execute_result"
    }
   ],
   "source": [
    "X = principalDf[columns]\n",
    "X.head()"
   ]
  },
  {
   "cell_type": "markdown",
   "metadata": {},
   "source": [
    "# Modelo con Outliers"
   ]
  },
  {
   "cell_type": "code",
   "execution_count": 56,
   "metadata": {},
   "outputs": [
    {
     "name": "stdout",
     "output_type": "stream",
     "text": [
      "<<<Modelo 1>>>\n",
      "(2422282, 2)\n",
      "(605571, 2)\n",
      "(2422282,)\n",
      "(605571,)\n",
      "\n",
      "<<<Modelo 2>>>\n",
      "(2422282, 2)\n",
      "(605571, 2)\n",
      "(2422282,)\n",
      "(605571,)\n"
     ]
    }
   ],
   "source": [
    "print('<<<Modelo 1>>>')\n",
    "X_train1, X_test1, y_train1, y_test1 = train_test_split(X, y1, test_size = 0.20, random_state = 5)\n",
    "print(X_train1.shape)\n",
    "print(X_test1.shape)\n",
    "print(y_train1.shape)\n",
    "print(y_test1.shape)\n",
    "\n",
    "print('\\n<<<Modelo 2>>>')\n",
    "X_train2, X_test2, y_train2, y_test2 = train_test_split(X, y2, test_size = 0.20, random_state = 5)\n",
    "print(X_train2.shape)\n",
    "print(X_test2.shape)\n",
    "print(y_train2.shape)\n",
    "print(y_test2.shape)"
   ]
  },
  {
   "cell_type": "markdown",
   "metadata": {},
   "source": [
    "https://stackoverflow.com/questions/20894671/speeding-up-sklearn-logistic-regression"
   ]
  },
  {
   "cell_type": "markdown",
   "metadata": {},
   "source": [
    "## Modelo de regresion con variable Severity"
   ]
  },
  {
   "cell_type": "code",
   "execution_count": 57,
   "metadata": {},
   "outputs": [
    {
     "name": "stdout",
     "output_type": "stream",
     "text": [
      "Wall time: 13 s\n"
     ]
    }
   ],
   "source": [
    "%%time\n",
    "model1 = LogisticRegression(max_iter=10000).fit(X_train1, y_train1)"
   ]
  },
  {
   "cell_type": "code",
   "execution_count": 58,
   "metadata": {},
   "outputs": [],
   "source": [
    "archivoModelo = \"model-LR-\" + str(0) + \"p-Severity.pkl\"\n",
    "rutaArchivo = path + \"ModeloRLBinariaPCA\\\\\" + archivoModelo  \n",
    "modelfile = open(rutaArchivo, \"wb\")\n",
    "pickle.dump(model1, modelfile)\n",
    "modelfile.close()"
   ]
  },
  {
   "cell_type": "code",
   "execution_count": 59,
   "metadata": {},
   "outputs": [],
   "source": [
    "predTest1 = model1.predict(X_test1)\n",
    "predTrain1 = model1.predict(X_train1)"
   ]
  },
  {
   "cell_type": "code",
   "execution_count": 60,
   "metadata": {},
   "outputs": [
    {
     "name": "stdout",
     "output_type": "stream",
     "text": [
      "<<<Modelo 1>>>\n",
      "Accuracy Score Test: 0.6884510651930161\n",
      "Accuracy Score Train: 0.6893511985805121\n"
     ]
    }
   ],
   "source": [
    "#Accuracy statistics\n",
    "print('<<<Modelo 1>>>')\n",
    "print('Accuracy Score Test:', metrics.accuracy_score(y_test1, predTest1))\n",
    "print('Accuracy Score Train:', metrics.accuracy_score(y_train1, predTrain1))"
   ]
  },
  {
   "cell_type": "code",
   "execution_count": 61,
   "metadata": {},
   "outputs": [
    {
     "name": "stdout",
     "output_type": "stream",
     "text": [
      "[[416906      0]\n",
      " [188665      0]]\n"
     ]
    }
   ],
   "source": [
    "#Get the confusion matrix\n",
    "cf_matrix = confusion_matrix(y_test1, predTest1)\n",
    "print(cf_matrix)"
   ]
  },
  {
   "cell_type": "code",
   "execution_count": 62,
   "metadata": {},
   "outputs": [
    {
     "data": {
      "text/plain": [
       "<matplotlib.axes._subplots.AxesSubplot at 0x1ef16ee83a0>"
      ]
     },
     "execution_count": 62,
     "metadata": {},
     "output_type": "execute_result"
    },
    {
     "data": {
      "image/png": "[encoded data removed]",
      "text/plain": [
       "<Figure size 432x288 with 2 Axes>"
      ]
     },
     "metadata": {
      "needs_background": "light"
     },
     "output_type": "display_data"
    }
   ],
   "source": [
    "sns.heatmap(cf_matrix, annot=True)"
   ]
  },
  {
   "cell_type": "code",
   "execution_count": 63,
   "metadata": {},
   "outputs": [
    {
     "name": "stdout",
     "output_type": "stream",
     "text": [
      "[[1669803       0]\n",
      " [ 752479       0]]\n"
     ]
    }
   ],
   "source": [
    "#Get the confusion matrix\n",
    "cf_matrix = confusion_matrix(y_train1, predTrain1)\n",
    "print(cf_matrix)"
   ]
  },
  {
   "cell_type": "code",
   "execution_count": 64,
   "metadata": {},
   "outputs": [
    {
     "data": {
      "text/plain": [
       "<matplotlib.axes._subplots.AxesSubplot at 0x1ef16e9f310>"
      ]
     },
     "execution_count": 64,
     "metadata": {},
     "output_type": "execute_result"
    },
    {
     "data": {
      "image/png": "[encoded data removed]",
      "text/plain": [
       "<Figure size 432x288 with 2 Axes>"
      ]
     },
     "metadata": {
      "needs_background": "light"
     },
     "output_type": "display_data"
    }
   ],
   "source": [
    "sns.heatmap(cf_matrix, annot=True)"
   ]
  },
  {
   "cell_type": "code",
   "execution_count": 65,
   "metadata": {},
   "outputs": [
    {
     "name": "stderr",
     "output_type": "stream",
     "text": [
      "C:\\Users\\josrenca\\Anaconda3\\lib\\site-packages\\sklearn\\metrics\\_classification.py:1221: UndefinedMetricWarning: Precision and F-score are ill-defined and being set to 0.0 in labels with no predicted samples. Use `zero_division` parameter to control this behavior.\n",
      "  _warn_prf(average, modifier, msg_start, len(result))\n"
     ]
    },
    {
     "name": "stdout",
     "output_type": "stream",
     "text": [
      "              precision    recall  f1-score   support\n",
      "\n",
      "           0       0.69      1.00      0.82    416906\n",
      "           1       0.00      0.00      0.00    188665\n",
      "\n",
      "    accuracy                           0.69    605571\n",
      "   macro avg       0.34      0.50      0.41    605571\n",
      "weighted avg       0.47      0.69      0.56    605571\n",
      "\n"
     ]
    }
   ],
   "source": [
    "print(classification_report(y_test1, predTest1))"
   ]
  },
  {
   "cell_type": "code",
   "execution_count": 66,
   "metadata": {},
   "outputs": [
    {
     "name": "stdout",
     "output_type": "stream",
     "text": [
      "              precision    recall  f1-score   support\n",
      "\n",
      "           0       0.69      1.00      0.82   1669803\n",
      "           1       0.00      0.00      0.00    752479\n",
      "\n",
      "    accuracy                           0.69   2422282\n",
      "   macro avg       0.34      0.50      0.41   2422282\n",
      "weighted avg       0.48      0.69      0.56   2422282\n",
      "\n"
     ]
    }
   ],
   "source": [
    "print(classification_report(y_train1, predTrain1))"
   ]
  },
  {
   "cell_type": "markdown",
   "metadata": {},
   "source": [
    "# Modelo eliminando outliers"
   ]
  },
  {
   "cell_type": "code",
   "execution_count": 67,
   "metadata": {},
   "outputs": [],
   "source": [
    "def obtainPCA(X,numComp):\n",
    "    \n",
    "    pca = PCA(n_components=X.shape[1])\n",
    "    principalComponents = pca.fit_transform(X)\n",
    "    \n",
    "    print(principalComponents.shape)\n",
    "    \n",
    "    columns = []\n",
    "    for i in range(1, X.shape[1]+1):\n",
    "        columns.append(\"PC\" + str(i))\n",
    "    \n",
    "    principalDf = pd.DataFrame(data = principalComponents, columns = columns)\n",
    "    \n",
    "    # Percentage of variance explained by each of the selected components.\n",
    "    explainedVar = pca.explained_variance_ratio_\n",
    "    explainedVar = explainedVar[0:2].sum()\n",
    "    \n",
    "    columns = []\n",
    "    for i in range(1, numComp+1):\n",
    "        columns.append(\"PC\" + str(i))\n",
    "        \n",
    "    X = principalDf[columns]\n",
    "    \n",
    "    return X, explainedVar"
   ]
  },
  {
   "cell_type": "code",
   "execution_count": 68,
   "metadata": {},
   "outputs": [],
   "source": [
    "import time\n",
    "\n",
    "def simulaciónModelo(variableObjetivo, contInicial, rango, numModelos, splitTest):\n",
    "    \n",
    "    print(\"Preparando los datos...\")\n",
    "    numsCond = []\n",
    "    tiemposRecorte = []\n",
    "    nombreVariableObj = variableObjetivo\n",
    "    contaminacionVec = []\n",
    "    \n",
    "    contaminacion = contInicial\n",
    "    for i in range(1,numModelos+1):\n",
    "        \n",
    "        start_time = time.time()\n",
    "        \n",
    "        print(\"\\n\\n<<<<<<<<<<<<<<<<<<<<<<<<<<<<< Modelo: \" + str(i) + \" >>>>>>>>>>>>>>>>>>>>>>>>>>>>>\")\n",
    "        \n",
    "\n",
    "        path = 'C:\\\\Users\\\\josrenca\\\\Desktop\\\\Universidad\\\\Datos PI - ARI\\\\'\n",
    "        archivo = \"cleanedData-IF-\" + str(contaminacion) + \"p-\" + nombreVariableObj +\".pkl\"\n",
    "        rutaArchivo = path + \"DatosRecorteIFBinaria\\\\\" + archivo\n",
    "        df = pd.read_pickle(rutaArchivo)\n",
    "        \n",
    "        y = df[variableObjetivo]\n",
    "        X = df[df.columns.difference(['Description', 'Severity', 'newSeverity'])]\n",
    "        \n",
    "        print(\"Contaminacion: \" + str(contaminacion))\n",
    "        print(\"Ruta archivo de datos: \" + rutaArchivo)\n",
    "        print(\"Nombre archivo datos: \" + archivo)\n",
    "        \n",
    "        print('<<<Split entranimiento y testing>>>')\n",
    "        X_train, X_test, y_train, y_test = train_test_split(X, y, test_size = splitTest, random_state = 5)\n",
    "        print(X_train.shape)\n",
    "        print(X_test.shape)\n",
    "        print(y_train.shape)\n",
    "        print(y_test.shape)\n",
    "        \n",
    "        X_train, explainedVar = obtainPCA(X_train,2)\n",
    "        print(\"Varianza explicada train 2comp: \" + str(explainedVar))\n",
    "              \n",
    "        X_test, explainedVar = obtainPCA(X_test,2)\n",
    "        print(\"Varianza explicada test 2comp: \" + str(explainedVar))\n",
    "        \n",
    "        print(\"\\nAjustando modelo...\")\n",
    "        model = LogisticRegression(max_iter=10000).fit(X_train, y_train)\n",
    "        \n",
    "        \n",
    "        archivoModelo = \"model-LR-\" + str(contaminacion) + \"p-\" + nombreVariableObj +\".pkl\"\n",
    "        rutaArchivo = path + \"ModeloRLBinariaPCA\\\\\" + archivoModelo  \n",
    "        modelfile = open(rutaArchivo, \"wb\")\n",
    "        pickle.dump(model, modelfile)\n",
    "        modelfile.close()\n",
    "        \n",
    "        print(\"\\nRuta: \" + rutaArchivo)\n",
    "        print(\"Modelo guardado con nombre: \" + archivoModelo)\n",
    "        \n",
    "        print(\"Prediciendo ...\")\n",
    "        predTest = model.predict(X_test)\n",
    "        predTrain = model.predict(X_train)\n",
    "        \n",
    "        print(\"\\nMetricas datos de prueba: \")\n",
    "        print(classification_report(y_test, predTest))\n",
    "        \n",
    "        print(\"\\nMetricas datos de entrenamiento: \")\n",
    "        print(classification_report(y_train, predTrain))\n",
    "        \n",
    "        \n",
    "\n",
    "        numCondActual = LA.cond(X_train)\n",
    "        tiempoEjecucion = time.time() - start_time\n",
    "        \n",
    "        \n",
    "        print(\"Numero condicion actual: \" + str(numCondActual))\n",
    "        print(\"-------- %s segundos --------\" % (tiempoEjecucion))\n",
    "        \n",
    "        tiemposRecorte.append(tiempoEjecucion)\n",
    "        numsCond.append(numCondActual)\n",
    "        contaminacionVec.append(contaminacion)\n",
    "\n",
    "        if i == 1 and contaminacion == 0.01:\n",
    "            contaminacion = 0\n",
    "        \n",
    "        contaminacion=round(round(contaminacion,2)+round(rango,2),2)\n",
    "        \n",
    "    return contaminacionVec, tiemposRecorte, numsCond"
   ]
  },
  {
   "cell_type": "code",
   "execution_count": 69,
   "metadata": {
    "scrolled": false
   },
   "outputs": [
    {
     "name": "stdout",
     "output_type": "stream",
     "text": [
      "Preparando los datos...\n",
      "\n",
      "\n",
      "<<<<<<<<<<<<<<<<<<<<<<<<<<<<< Modelo: 1 >>>>>>>>>>>>>>>>>>>>>>>>>>>>>\n",
      "Contaminacion: 0.1\n",
      "Ruta archivo de datos: C:\\Users\\josrenca\\Desktop\\Universidad\\Datos PI - ARI\\DatosRecorteIFBinaria\\cleanedData-IF-0.1p-Severity.pkl\n",
      "Nombre archivo datos: cleanedData-IF-0.1p-Severity.pkl\n",
      "<<<Split entranimiento y testing>>>\n",
      "(2180053, 33)\n",
      "(545014, 33)\n",
      "(2180053,)\n",
      "(545014,)\n",
      "(2180053, 33)\n",
      "Varianza explicada train 2comp: 0.9998760298458265\n",
      "(545014, 33)\n",
      "Varianza explicada test 2comp: 0.999876108173157\n",
      "\n",
      "Ajustando modelo...\n",
      "\n",
      "Ruta: C:\\Users\\josrenca\\Desktop\\Universidad\\Datos PI - ARI\\ModeloRLBinariaPCA\\model-LR-0.1p-Severity.pkl\n",
      "Modelo guardado con nombre: model-LR-0.1p-Severity.pkl\n",
      "Prediciendo ...\n",
      "\n",
      "Metricas datos de prueba: \n",
      "              precision    recall  f1-score   support\n",
      "\n",
      "           0       0.71      0.51      0.59    379463\n",
      "           1       0.32      0.52      0.39    165551\n",
      "\n",
      "    accuracy                           0.51    545014\n",
      "   macro avg       0.51      0.52      0.49    545014\n",
      "weighted avg       0.59      0.51      0.53    545014\n",
      "\n",
      "\n",
      "Metricas datos de entrenamiento: \n",
      "              precision    recall  f1-score   support\n",
      "\n",
      "           0       0.71      0.51      0.59   1520441\n",
      "           1       0.32      0.52      0.39    659612\n",
      "\n",
      "    accuracy                           0.51   2180053\n",
      "   macro avg       0.51      0.51      0.49   2180053\n",
      "weighted avg       0.59      0.51      0.53   2180053\n",
      "\n",
      "Numero condicion actual: 11.836952157307147\n",
      "-------- 32.18518376350403 segundos --------\n",
      "\n",
      "\n",
      "<<<<<<<<<<<<<<<<<<<<<<<<<<<<< Modelo: 2 >>>>>>>>>>>>>>>>>>>>>>>>>>>>>\n",
      "Contaminacion: 0.2\n",
      "Ruta archivo de datos: C:\\Users\\josrenca\\Desktop\\Universidad\\Datos PI - ARI\\DatosRecorteIFBinaria\\cleanedData-IF-0.2p-Severity.pkl\n",
      "Nombre archivo datos: cleanedData-IF-0.2p-Severity.pkl\n",
      "<<<Split entranimiento y testing>>>\n",
      "(1937825, 33)\n",
      "(484457, 33)\n",
      "(1937825,)\n",
      "(484457,)\n",
      "(1937825, 33)\n",
      "Varianza explicada train 2comp: 0.9998744083374543\n",
      "(484457, 33)\n",
      "Varianza explicada test 2comp: 0.999874625030946\n",
      "\n",
      "Ajustando modelo...\n",
      "\n",
      "Ruta: C:\\Users\\josrenca\\Desktop\\Universidad\\Datos PI - ARI\\ModeloRLBinariaPCA\\model-LR-0.2p-Severity.pkl\n",
      "Modelo guardado con nombre: model-LR-0.2p-Severity.pkl\n",
      "Prediciendo ...\n",
      "\n",
      "Metricas datos de prueba: \n",
      "              precision    recall  f1-score   support\n",
      "\n",
      "           0       0.71      0.51      0.59    339517\n",
      "           1       0.31      0.52      0.39    144940\n",
      "\n",
      "    accuracy                           0.51    484457\n",
      "   macro avg       0.51      0.51      0.49    484457\n",
      "weighted avg       0.59      0.51      0.53    484457\n",
      "\n",
      "\n",
      "Metricas datos de entrenamiento: \n",
      "              precision    recall  f1-score   support\n",
      "\n",
      "           0       0.71      0.51      0.59   1355875\n",
      "           1       0.31      0.52      0.39    581950\n",
      "\n",
      "    accuracy                           0.51   1937825\n",
      "   macro avg       0.51      0.51      0.49   1937825\n",
      "weighted avg       0.59      0.51      0.53   1937825\n",
      "\n",
      "Numero condicion actual: 11.803780695458052\n",
      "-------- 29.052510976791382 segundos --------\n",
      "\n",
      "\n",
      "<<<<<<<<<<<<<<<<<<<<<<<<<<<<< Modelo: 3 >>>>>>>>>>>>>>>>>>>>>>>>>>>>>\n",
      "Contaminacion: 0.3\n",
      "Ruta archivo de datos: C:\\Users\\josrenca\\Desktop\\Universidad\\Datos PI - ARI\\DatosRecorteIFBinaria\\cleanedData-IF-0.3p-Severity.pkl\n",
      "Nombre archivo datos: cleanedData-IF-0.3p-Severity.pkl\n",
      "<<<Split entranimiento y testing>>>\n",
      "(1695597, 33)\n",
      "(423900, 33)\n",
      "(1695597,)\n",
      "(423900,)\n",
      "(1695597, 33)\n",
      "Varianza explicada train 2comp: 0.9998736727748456\n",
      "(423900, 33)\n",
      "Varianza explicada test 2comp: 0.9998736241627568\n",
      "\n",
      "Ajustando modelo...\n",
      "\n",
      "Ruta: C:\\Users\\josrenca\\Desktop\\Universidad\\Datos PI - ARI\\ModeloRLBinariaPCA\\model-LR-0.3p-Severity.pkl\n",
      "Modelo guardado con nombre: model-LR-0.3p-Severity.pkl\n",
      "Prediciendo ...\n",
      "\n",
      "Metricas datos de prueba: \n"
     ]
    },
    {
     "name": "stderr",
     "output_type": "stream",
     "text": [
      "C:\\Users\\josrenca\\Anaconda3\\lib\\site-packages\\sklearn\\metrics\\_classification.py:1221: UndefinedMetricWarning: Precision and F-score are ill-defined and being set to 0.0 in labels with no predicted samples. Use `zero_division` parameter to control this behavior.\n",
      "  _warn_prf(average, modifier, msg_start, len(result))\n"
     ]
    },
    {
     "name": "stdout",
     "output_type": "stream",
     "text": [
      "              precision    recall  f1-score   support\n",
      "\n",
      "           0       0.70      1.00      0.82    297339\n",
      "           1       0.00      0.00      0.00    126561\n",
      "\n",
      "    accuracy                           0.70    423900\n",
      "   macro avg       0.35      0.50      0.41    423900\n",
      "weighted avg       0.49      0.70      0.58    423900\n",
      "\n",
      "\n",
      "Metricas datos de entrenamiento: \n",
      "              precision    recall  f1-score   support\n",
      "\n",
      "           0       0.70      1.00      0.82   1189278\n",
      "           1       0.00      0.00      0.00    506319\n",
      "\n",
      "    accuracy                           0.70   1695597\n",
      "   macro avg       0.35      0.50      0.41   1695597\n",
      "weighted avg       0.49      0.70      0.58   1695597\n",
      "\n",
      "Numero condicion actual: 11.760989756894022\n",
      "-------- 31.03270936012268 segundos --------\n",
      "\n",
      "\n",
      "<<<<<<<<<<<<<<<<<<<<<<<<<<<<< Modelo: 4 >>>>>>>>>>>>>>>>>>>>>>>>>>>>>\n",
      "Contaminacion: 0.4\n",
      "Ruta archivo de datos: C:\\Users\\josrenca\\Desktop\\Universidad\\Datos PI - ARI\\DatosRecorteIFBinaria\\cleanedData-IF-0.4p-Severity.pkl\n",
      "Nombre archivo datos: cleanedData-IF-0.4p-Severity.pkl\n",
      "<<<Split entranimiento y testing>>>\n",
      "(1453369, 33)\n",
      "(363343, 33)\n",
      "(1453369,)\n",
      "(363343,)\n",
      "(1453369, 33)\n",
      "Varianza explicada train 2comp: 0.9998704332459663\n",
      "(363343, 33)\n",
      "Varianza explicada test 2comp: 0.9998704305440627\n",
      "\n",
      "Ajustando modelo...\n",
      "\n",
      "Ruta: C:\\Users\\josrenca\\Desktop\\Universidad\\Datos PI - ARI\\ModeloRLBinariaPCA\\model-LR-0.4p-Severity.pkl\n",
      "Modelo guardado con nombre: model-LR-0.4p-Severity.pkl\n",
      "Prediciendo ...\n",
      "\n",
      "Metricas datos de prueba: \n",
      "              precision    recall  f1-score   support\n",
      "\n",
      "           0       0.72      0.50      0.59    256454\n",
      "           1       0.31      0.53      0.39    106889\n",
      "\n",
      "    accuracy                           0.51    363343\n",
      "   macro avg       0.51      0.51      0.49    363343\n",
      "weighted avg       0.60      0.51      0.53    363343\n",
      "\n",
      "\n",
      "Metricas datos de entrenamiento: \n",
      "              precision    recall  f1-score   support\n",
      "\n",
      "           0       0.72      0.50      0.59   1026224\n",
      "           1       0.31      0.53      0.39    427145\n",
      "\n",
      "    accuracy                           0.51   1453369\n",
      "   macro avg       0.51      0.51      0.49   1453369\n",
      "weighted avg       0.60      0.51      0.53   1453369\n",
      "\n",
      "Numero condicion actual: 11.50872283836953\n",
      "-------- 22.583510637283325 segundos --------\n",
      "Wall time: 1min 55s\n"
     ]
    }
   ],
   "source": [
    "%%time\n",
    "contaminacionVec, tiemposRecorte, numsCond = simulaciónModelo(\"Severity\", 0.1, 0.1, 4, 0.2)"
   ]
  },
  {
   "cell_type": "code",
   "execution_count": 70,
   "metadata": {},
   "outputs": [
    {
     "data": {
      "text/plain": [
       "[<matplotlib.lines.Line2D at 0x1ef7d7530d0>]"
      ]
     },
     "execution_count": 70,
     "metadata": {},
     "output_type": "execute_result"
    },
    {
     "data": {
      "image/png": "[encoded data removed]",
      "text/plain": [
       "<Figure size 432x288 with 1 Axes>"
      ]
     },
     "metadata": {
      "needs_background": "light"
     },
     "output_type": "display_data"
    }
   ],
   "source": [
    "plt.title(\"Porcentaje recortado Vs Numero condición\")\n",
    "plt.ylabel(\"Numero Condición\")\n",
    "plt.xlabel(\"Porcentaje recortado\")\n",
    "plt.plot(contaminacionVec,numsCond)"
   ]
  },
  {
   "cell_type": "code",
   "execution_count": 71,
   "metadata": {},
   "outputs": [
    {
     "data": {
      "text/plain": [
       "[<matplotlib.lines.Line2D at 0x1ef6a80e910>]"
      ]
     },
     "execution_count": 71,
     "metadata": {},
     "output_type": "execute_result"
    },
    {
     "data": {
      "image/png": "[encoded data removed]",
      "text/plain": [
       "<Figure size 432x288 with 1 Axes>"
      ]
     },
     "metadata": {
      "needs_background": "light"
     },
     "output_type": "display_data"
    }
   ],
   "source": [
    "plt.title(\"Porcentaje recortado Vs Tiempo de ejecución\")\n",
    "plt.ylabel(\"Tiempo de Ejecución\")\n",
    "plt.xlabel(\"Porcentaje recortado\")\n",
    "plt.plot(contaminacionVec,tiemposRecorte)"
   ]
  },
  {
   "cell_type": "code",
   "execution_count": null,
   "metadata": {},
   "outputs": [],
   "source": []
  }
 ],
 "metadata": {
  "kernelspec": {
   "display_name": "Python 3",
   "language": "python",
   "name": "python3"
  },
  "language_info": {
   "codemirror_mode": {
    "name": "ipython",
    "version": 3
   },
   "file_extension": ".py",
   "mimetype": "text/x-python",
   "name": "python",
   "nbconvert_exporter": "python",
   "pygments_lexer": "ipython3",
   "version": "3.8.3"
  }
 },
 "nbformat": 4,
 "nbformat_minor": 4
}
