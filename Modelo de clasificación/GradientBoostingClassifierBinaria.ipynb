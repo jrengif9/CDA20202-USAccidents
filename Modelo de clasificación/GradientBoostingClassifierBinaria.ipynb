{
 "cells": [
  {
   "cell_type": "code",
   "execution_count": 28,
   "metadata": {},
   "outputs": [],
   "source": [
    "from IPython.core.debugger import set_trace\n",
    "\n",
    "import os\n",
    "import sys\n",
    "import seaborn as sns\n",
    "\n",
    "import numpy as np\n",
    "import pandas as pd\n",
    "import matplotlib.pyplot as plt\n",
    "from sklearn.preprocessing import LabelEncoder    #tranforma variables categoricas a numericas\n",
    "from sklearn.preprocessing import StandardScaler  # Escala los datos\n",
    "from sklearn.ensemble import IsolationForest      # Algoritmo de recorte\n",
    "from sklearn.decomposition import PCA             # Reduccion de dimensionalidad\n",
    "from sklearn.model_selection import train_test_split  # divide de manera aleatoria en sub conjuntos de datos de prueba y entrenamiento\n",
    "from sklearn.ensemble import GradientBoostingClassifier\n",
    "from sklearn import metrics \n",
    "from sklearn.metrics import confusion_matrix      # genera la matriz de confusion\n",
    "from sklearn.preprocessing import LabelEncoder    #tranforma variables categoricas a numericas\n",
    "from sklearn.preprocessing import StandardScaler  # Escala los datos\n",
    "import pickle\n",
    "from numpy import linalg as LA\n",
    "\n",
    "import statsmodels.api as sm\n",
    "from sklearn.metrics import classification_report\n",
    "\n",
    "module_path = os.path.abspath(os.path.join(\"..\"))\n",
    "if module_path not in sys.path:\n",
    "    sys.path.append(module_path)\n",
    "    \n",
    "from sklearn.metrics import roc_curve, auc"
   ]
  },
  {
   "cell_type": "code",
   "execution_count": 2,
   "metadata": {},
   "outputs": [
    {
     "data": {
      "text/plain": [
       "'C:\\\\Users\\\\josrenca\\\\Desktop\\\\Universidad\\\\ARI-PI1-US-CarAccidentsAnalysis\\\\NoteBooks\\\\5. Modelos'"
      ]
     },
     "execution_count": 2,
     "metadata": {},
     "output_type": "execute_result"
    }
   ],
   "source": [
    "pwd"
   ]
  },
  {
   "cell_type": "code",
   "execution_count": 3,
   "metadata": {},
   "outputs": [],
   "source": [
    "path = 'C:\\\\Users\\\\josrenca\\\\Desktop\\\\Universidad\\\\Datos PI - ARI\\\\'\n",
    "archivo = 'cleanedVariables-standarized-respuestaBinaria.pkl'\n",
    "rutaArvhivo = path + archivo\n",
    "df = pd.read_pickle(rutaArvhivo)"
   ]
  },
  {
   "cell_type": "code",
   "execution_count": 4,
   "metadata": {},
   "outputs": [
    {
     "data": {
      "text/plain": [
       "(3027853, 36)"
      ]
     },
     "execution_count": 4,
     "metadata": {},
     "output_type": "execute_result"
    }
   ],
   "source": [
    "df.shape"
   ]
  },
  {
   "cell_type": "code",
   "execution_count": 5,
   "metadata": {},
   "outputs": [
    {
     "data": {
      "text/plain": [
       "Index(['Amenity', 'Astronomical_Twilight', 'Bump', 'City', 'Civil_Twilight',\n",
       "       'County', 'Crossing', 'Give_Way', 'Hour', 'Junction',\n",
       "       'Nautical_Twilight', 'No_Exit', 'Railway', 'Roundabout', 'Severity',\n",
       "       'Start_Lat', 'Start_Lng', 'State', 'Station', 'Stop', 'Street',\n",
       "       'Sunrise_Sunset', 'Traffic_Calming', 'Traffic_Signal', 'Turning_Loop',\n",
       "       'Weather_Condition', 'Wind_Direction', 'dayOfWeek', 'month',\n",
       "       'newSeverity', 'Temperature(F)', 'Humidity(%)', 'Pressure(in)',\n",
       "       'Visibility(mi)', 'Wind_Speed(mph)', 'Description'],\n",
       "      dtype='object')"
      ]
     },
     "execution_count": 5,
     "metadata": {},
     "output_type": "execute_result"
    }
   ],
   "source": [
    "df.columns"
   ]
  },
  {
   "cell_type": "code",
   "execution_count": 6,
   "metadata": {},
   "outputs": [],
   "source": [
    "y1=df['Severity']\n",
    "y2=df['newSeverity']"
   ]
  },
  {
   "cell_type": "code",
   "execution_count": 7,
   "metadata": {},
   "outputs": [],
   "source": [
    "X = df[df.columns.difference(['Description', 'Severity', 'newSeverity'])]"
   ]
  },
  {
   "cell_type": "code",
   "execution_count": 8,
   "metadata": {},
   "outputs": [
    {
     "data": {
      "text/plain": [
       "Index(['Amenity', 'Astronomical_Twilight', 'Bump', 'City', 'Civil_Twilight',\n",
       "       'County', 'Crossing', 'Give_Way', 'Hour', 'Humidity(%)', 'Junction',\n",
       "       'Nautical_Twilight', 'No_Exit', 'Pressure(in)', 'Railway', 'Roundabout',\n",
       "       'Start_Lat', 'Start_Lng', 'State', 'Station', 'Stop', 'Street',\n",
       "       'Sunrise_Sunset', 'Temperature(F)', 'Traffic_Calming', 'Traffic_Signal',\n",
       "       'Turning_Loop', 'Visibility(mi)', 'Weather_Condition', 'Wind_Direction',\n",
       "       'Wind_Speed(mph)', 'dayOfWeek', 'month'],\n",
       "      dtype='object')"
      ]
     },
     "execution_count": 8,
     "metadata": {},
     "output_type": "execute_result"
    }
   ],
   "source": [
    "# Mostrand listado final de variables predictoras\n",
    "X.columns"
   ]
  },
  {
   "cell_type": "markdown",
   "metadata": {},
   "source": [
    "# Modelo con Outliers"
   ]
  },
  {
   "cell_type": "code",
   "execution_count": 9,
   "metadata": {},
   "outputs": [
    {
     "name": "stdout",
     "output_type": "stream",
     "text": [
      "<<<Modelo 1>>>\n",
      "(2422282, 33)\n",
      "(605571, 33)\n",
      "(2422282,)\n",
      "(605571,)\n",
      "\n",
      "<<<Modelo 2>>>\n",
      "(2422282, 33)\n",
      "(605571, 33)\n",
      "(2422282,)\n",
      "(605571,)\n"
     ]
    }
   ],
   "source": [
    "print('<<<Modelo 1>>>')\n",
    "X_train1, X_test1, y_train1, y_test1 = train_test_split(X, y1, test_size = 0.20, random_state = 5)\n",
    "print(X_train1.shape)\n",
    "print(X_test1.shape)\n",
    "print(y_train1.shape)\n",
    "print(y_test1.shape)\n",
    "\n",
    "print('\\n<<<Modelo 2>>>')\n",
    "X_train2, X_test2, y_train2, y_test2 = train_test_split(X, y2, test_size = 0.20, random_state = 5)\n",
    "print(X_train2.shape)\n",
    "print(X_test2.shape)\n",
    "print(y_train2.shape)\n",
    "print(y_test2.shape)"
   ]
  },
  {
   "cell_type": "code",
   "execution_count": 10,
   "metadata": {},
   "outputs": [
    {
     "name": "stdout",
     "output_type": "stream",
     "text": [
      "Wall time: 22min 28s\n"
     ]
    }
   ],
   "source": [
    "%%time\n",
    "gbc = GradientBoostingClassifier().fit(X_train1, y_train1)"
   ]
  },
  {
   "cell_type": "code",
   "execution_count": 11,
   "metadata": {},
   "outputs": [],
   "source": [
    "archivoModelo = \"model-GBC-\" + str(0) + \"p-Severity.pkl\"\n",
    "rutaArchivo = path + \"ModeloGBCBinaria\\\\\" + archivoModelo  \n",
    "modelfile = open(rutaArchivo, \"wb\")\n",
    "pickle.dump(gbc, modelfile)\n",
    "modelfile.close()"
   ]
  },
  {
   "cell_type": "code",
   "execution_count": 14,
   "metadata": {},
   "outputs": [
    {
     "data": {
      "text/plain": [
       "Text(0, 0.5, 'Feature Importance Score')"
      ]
     },
     "execution_count": 14,
     "metadata": {},
     "output_type": "execute_result"
    },
    {
     "data": {
      "image/png": "[encoded data removed]",
      "text/plain": [
       "<Figure size 432x288 with 1 Axes>"
      ]
     },
     "metadata": {
      "needs_background": "light"
     },
     "output_type": "display_data"
    }
   ],
   "source": [
    "predictors=list(X_train1)\n",
    "feat_imp = pd.Series(gbc.feature_importances_, predictors).sort_values(ascending=False)\n",
    "feat_imp.plot(kind='bar', title='Importance of Features')\n",
    "plt.ylabel('Feature Importance Score')"
   ]
  },
  {
   "cell_type": "code",
   "execution_count": 23,
   "metadata": {},
   "outputs": [
    {
     "data": {
      "text/plain": [
       "array([0.06716532, 0.05378715, 0.14059687, ..., 0.51837054, 0.47281509,\n",
       "       0.45187753])"
      ]
     },
     "execution_count": 23,
     "metadata": {},
     "output_type": "execute_result"
    }
   ],
   "source": [
    "y_prob = gbc.predict_proba(X_test1)[:,1] # This will give you positive class prediction probabilities  \n",
    "y_prob"
   ]
  },
  {
   "cell_type": "code",
   "execution_count": 25,
   "metadata": {},
   "outputs": [
    {
     "data": {
      "text/plain": [
       "1.0"
      ]
     },
     "execution_count": 25,
     "metadata": {},
     "output_type": "execute_result"
    }
   ],
   "source": [
    "y_pred = np.where(y_prob > 0.5, 1, 0) # This will threshold the probabilities to give class predictions.\n",
    "gbc.score(X_test1, y_pred)"
   ]
  },
  {
   "cell_type": "code",
   "execution_count": 26,
   "metadata": {},
   "outputs": [
    {
     "data": {
      "text/plain": [
       "0.6865828749200392"
      ]
     },
     "execution_count": 26,
     "metadata": {},
     "output_type": "execute_result"
    }
   ],
   "source": [
    "auc_roc=metrics.roc_auc_score(y_test1,y_pred)\n",
    "auc_roc"
   ]
  },
  {
   "cell_type": "code",
   "execution_count": 29,
   "metadata": {},
   "outputs": [
    {
     "data": {
      "text/plain": [
       "0.8108557695174121"
      ]
     },
     "execution_count": 29,
     "metadata": {},
     "output_type": "execute_result"
    }
   ],
   "source": [
    "false_positive_rate, true_positive_rate, thresholds = roc_curve(y_test1, y_prob)\n",
    "roc_auc = auc(false_positive_rate, true_positive_rate)\n",
    "roc_auc"
   ]
  },
  {
   "cell_type": "code",
   "execution_count": 15,
   "metadata": {},
   "outputs": [],
   "source": [
    "predTest1 = gbc.predict(X_test1)\n",
    "predTrain1 = gbc.predict(X_train1)"
   ]
  },
  {
   "cell_type": "code",
   "execution_count": 30,
   "metadata": {},
   "outputs": [
    {
     "data": {
      "text/plain": [
       "Text(0.5, 0, 'False Positive Rate')"
      ]
     },
     "execution_count": 30,
     "metadata": {},
     "output_type": "execute_result"
    },
    {
     "data": {
      "image/png": "[encoded data removed]",
      "text/plain": [
       "<Figure size 720x720 with 1 Axes>"
      ]
     },
     "metadata": {
      "needs_background": "light"
     },
     "output_type": "display_data"
    }
   ],
   "source": [
    "import matplotlib.pyplot as plt\n",
    "plt.figure(figsize=(10,10))\n",
    "plt.title('Receiver Operating Characteristic')\n",
    "plt.plot(false_positive_rate,true_positive_rate, color='red',label = 'AUC = %0.2f' % roc_auc)\n",
    "plt.legend(loc = 'lower right')\n",
    "plt.plot([0, 1], [0, 1],linestyle='--')\n",
    "plt.axis('tight')\n",
    "plt.ylabel('True Positive Rate')\n",
    "plt.xlabel('False Positive Rate')"
   ]
  },
  {
   "cell_type": "code",
   "execution_count": 31,
   "metadata": {},
   "outputs": [
    {
     "name": "stdout",
     "output_type": "stream",
     "text": [
      "<<<Modelo 1>>>\n",
      "Accuracy Score Test: 0.7664485254412777\n",
      "Accuracy Score Train: 0.766965200583582\n"
     ]
    }
   ],
   "source": [
    "#Accuracy statistics\n",
    "print('<<<Modelo 1>>>')\n",
    "print('Accuracy Score Test:', metrics.accuracy_score(y_test1, predTest1))\n",
    "print('Accuracy Score Train:', metrics.accuracy_score(y_train1, predTrain1))"
   ]
  },
  {
   "cell_type": "code",
   "execution_count": 32,
   "metadata": {},
   "outputs": [
    {
     "name": "stdout",
     "output_type": "stream",
     "text": [
      "[[374583  42323]\n",
      " [ 99109  89556]]\n"
     ]
    }
   ],
   "source": [
    "#Get the confusion matrix\n",
    "cf_matrix = confusion_matrix(y_test1, predTest1)\n",
    "print(cf_matrix)"
   ]
  },
  {
   "cell_type": "code",
   "execution_count": 33,
   "metadata": {},
   "outputs": [
    {
     "data": {
      "text/plain": [
       "<matplotlib.axes._subplots.AxesSubplot at 0x163a0774880>"
      ]
     },
     "execution_count": 33,
     "metadata": {},
     "output_type": "execute_result"
    },
    {
     "data": {
      "image/png": "[encoded data removed]",
      "text/plain": [
       "<Figure size 432x288 with 2 Axes>"
      ]
     },
     "metadata": {
      "needs_background": "light"
     },
     "output_type": "display_data"
    }
   ],
   "source": [
    "sns.heatmap(cf_matrix, annot=True)"
   ]
  },
  {
   "cell_type": "code",
   "execution_count": 34,
   "metadata": {},
   "outputs": [
    {
     "name": "stdout",
     "output_type": "stream",
     "text": [
      "[[1499745  170058]\n",
      " [ 394418  358061]]\n"
     ]
    }
   ],
   "source": [
    "#Get the confusion matrix\n",
    "cf_matrix = confusion_matrix(y_train1, predTrain1)\n",
    "print(cf_matrix)"
   ]
  },
  {
   "cell_type": "code",
   "execution_count": 35,
   "metadata": {},
   "outputs": [
    {
     "data": {
      "text/plain": [
       "<matplotlib.axes._subplots.AxesSubplot at 0x163a07fff10>"
      ]
     },
     "execution_count": 35,
     "metadata": {},
     "output_type": "execute_result"
    },
    {
     "data": {
      "image/png": "[encoded data removed]",
      "text/plain": [
       "<Figure size 432x288 with 2 Axes>"
      ]
     },
     "metadata": {
      "needs_background": "light"
     },
     "output_type": "display_data"
    }
   ],
   "source": [
    "sns.heatmap(cf_matrix, annot=True)"
   ]
  },
  {
   "cell_type": "code",
   "execution_count": 36,
   "metadata": {},
   "outputs": [
    {
     "name": "stdout",
     "output_type": "stream",
     "text": [
      "              precision    recall  f1-score   support\n",
      "\n",
      "           0       0.79      0.90      0.84    416906\n",
      "           1       0.68      0.47      0.56    188665\n",
      "\n",
      "    accuracy                           0.77    605571\n",
      "   macro avg       0.73      0.69      0.70    605571\n",
      "weighted avg       0.76      0.77      0.75    605571\n",
      "\n"
     ]
    }
   ],
   "source": [
    "print(classification_report(y_test1, predTest1))"
   ]
  },
  {
   "cell_type": "code",
   "execution_count": 37,
   "metadata": {},
   "outputs": [
    {
     "name": "stdout",
     "output_type": "stream",
     "text": [
      "              precision    recall  f1-score   support\n",
      "\n",
      "           0       0.79      0.90      0.84   1669803\n",
      "           1       0.68      0.48      0.56    752479\n",
      "\n",
      "    accuracy                           0.77   2422282\n",
      "   macro avg       0.73      0.69      0.70   2422282\n",
      "weighted avg       0.76      0.77      0.75   2422282\n",
      "\n"
     ]
    }
   ],
   "source": [
    "print(classification_report(y_train1, predTrain1))"
   ]
  },
  {
   "cell_type": "markdown",
   "metadata": {},
   "source": [
    "# Modelo eliminando outliers"
   ]
  },
  {
   "cell_type": "code",
   "execution_count": 23,
   "metadata": {},
   "outputs": [],
   "source": [
    "numericData_lst = ['Temperature(F)', 'Humidity(%)', 'Pressure(in)', 'Visibility(mi)', 'Wind_Speed(mph)']"
   ]
  },
  {
   "cell_type": "code",
   "execution_count": 24,
   "metadata": {},
   "outputs": [],
   "source": [
    "import time\n",
    "\n",
    "def simulaciónModelo(variableObjetivo, contInicial, rango, numModelos, splitTest):\n",
    "    \n",
    "    print(\"Preparando los datos...\")\n",
    "    numsCond = []\n",
    "    tiemposRecorte = []\n",
    "    nombreVariableObj = variableObjetivo\n",
    "    contaminacionVec = []\n",
    "    \n",
    "    contaminacion = contInicial\n",
    "    for i in range(1,numModelos+1):\n",
    "        \n",
    "        start_time = time.time()\n",
    "        \n",
    "        print(\"\\n\\n<<<<<<<<<<<<<<<<<<<<<<<<<<<<< Modelo: \" + str(i) + \" >>>>>>>>>>>>>>>>>>>>>>>>>>>>>\")\n",
    "        \n",
    "\n",
    "        path = 'C:\\\\Users\\\\josrenca\\\\Desktop\\\\Universidad\\\\Datos PI - ARI\\\\'\n",
    "        archivo = \"cleanedData-IF-\" + str(contaminacion) + \"p-\" + nombreVariableObj +\".pkl\"\n",
    "        rutaArchivo = path + \"DatosRecorteIFBinaria\\\\\" + archivo\n",
    "        df = pd.read_pickle(rutaArchivo)\n",
    "        \n",
    "        y = df[variableObjetivo]\n",
    "        X = df[df.columns.difference(['Description', 'Severity', 'newSeverity'])]\n",
    "        \n",
    "        print(\"Contaminacion: \" + str(contaminacion))\n",
    "        print(\"Ruta archivo de datos: \" + rutaArchivo)\n",
    "        print(\"Nombre archivo datos: \" + archivo)\n",
    "        \n",
    "        print('<<<Split entranimiento y testing>>>')\n",
    "        X_train, X_test, y_train, y_test = train_test_split(X, y, test_size = splitTest, random_state = 5)\n",
    "        print(X_train.shape)\n",
    "        print(X_test.shape)\n",
    "        print(y_train.shape)\n",
    "        print(y_test.shape)\n",
    "        \n",
    "        print(\"\\nAjustando modelo...\")\n",
    "        model = GradientBoostingClassifier().fit(X_train, y_train)\n",
    "        \n",
    "        \n",
    "        archivoModelo = \"model-GBC-\" + str(contaminacion) + \"p-\" + nombreVariableObj +\".pkl\"\n",
    "        rutaArchivo = path + \"ModeloGBCBinaria\\\\\" + archivoModelo  \n",
    "        modelfile = open(rutaArchivo, \"wb\")\n",
    "        pickle.dump(model, modelfile)\n",
    "        modelfile.close()\n",
    "        \n",
    "        print(\"\\nRuta: \" + rutaArchivo)\n",
    "        print(\"Modelo guardado con nombre: \" + archivoModelo)\n",
    "        \n",
    "        print(\"Prediciendo ...\")\n",
    "        predTest = model.predict(X_test)\n",
    "        predTrain = model.predict(X_train)\n",
    "        \n",
    "        print(\"\\nMetricas datos de prueba: \")\n",
    "        print(classification_report(y_test, predTest))\n",
    "        \n",
    "        print(\"\\nMetricas datos de entrenamiento: \")\n",
    "        print(classification_report(y_train, predTrain))\n",
    "        \n",
    "        \n",
    "\n",
    "        numCondActual = LA.cond(X[numericData_lst].cov().to_numpy())\n",
    "        tiempoEjecucion = time.time() - start_time\n",
    "        \n",
    "        \n",
    "        print(\"Numero condicion actual: \" + str(numCondActual))\n",
    "        print(\"-------- %s segundos --------\" % (tiempoEjecucion))\n",
    "        \n",
    "        tiemposRecorte.append(tiempoEjecucion)\n",
    "        numsCond.append(numCondActual)\n",
    "        contaminacionVec.append(contaminacion)\n",
    "\n",
    "        if i == 1 and contaminacion == 0.01:\n",
    "            contaminacion = 0\n",
    "        \n",
    "        contaminacion=round(round(contaminacion,2)+round(rango,2),2)\n",
    "        \n",
    "    return contaminacionVec, tiemposRecorte, numsCond"
   ]
  },
  {
   "cell_type": "code",
   "execution_count": 25,
   "metadata": {
    "scrolled": false
   },
   "outputs": [
    {
     "name": "stdout",
     "output_type": "stream",
     "text": [
      "Preparando los datos...\n",
      "\n",
      "\n",
      "<<<<<<<<<<<<<<<<<<<<<<<<<<<<< Modelo: 1 >>>>>>>>>>>>>>>>>>>>>>>>>>>>>\n",
      "Contaminacion: 0.1\n",
      "Ruta archivo de datos: C:\\Users\\josrenca\\Desktop\\Universidad\\Datos PI - ARI\\DatosRecorteIFBinaria\\cleanedData-IF-0.1p-Severity.pkl\n",
      "Nombre archivo datos: cleanedData-IF-0.1p-Severity.pkl\n",
      "<<<Split entranimiento y testing>>>\n",
      "(2180053, 33)\n",
      "(545014, 33)\n",
      "(2180053,)\n",
      "(545014,)\n",
      "\n",
      "Ajustando modelo...\n",
      "\n",
      "Ruta: C:\\Users\\josrenca\\Desktop\\Universidad\\Datos PI - ARI\\ModeloGBCBinaria\\model-GBC-0.1p-Severity.pkl\n",
      "Modelo guardado con nombre: model-GBC-0.1p-Severity.pkl\n",
      "Prediciendo ...\n",
      "\n",
      "Metricas datos de prueba: \n",
      "              precision    recall  f1-score   support\n",
      "\n",
      "           0       0.79      0.90      0.84    379463\n",
      "           1       0.67      0.46      0.55    165551\n",
      "\n",
      "    accuracy                           0.77    545014\n",
      "   macro avg       0.73      0.68      0.70    545014\n",
      "weighted avg       0.76      0.77      0.75    545014\n",
      "\n",
      "\n",
      "Metricas datos de entrenamiento: \n",
      "              precision    recall  f1-score   support\n",
      "\n",
      "           0       0.80      0.90      0.85   1520441\n",
      "           1       0.67      0.46      0.55    659612\n",
      "\n",
      "    accuracy                           0.77   2180053\n",
      "   macro avg       0.73      0.68      0.70   2180053\n",
      "weighted avg       0.76      0.77      0.76   2180053\n",
      "\n",
      "Numero condicion actual: 2.9562291658221826\n",
      "-------- 1656.176045179367 segundos --------\n",
      "\n",
      "\n",
      "<<<<<<<<<<<<<<<<<<<<<<<<<<<<< Modelo: 2 >>>>>>>>>>>>>>>>>>>>>>>>>>>>>\n",
      "Contaminacion: 0.2\n",
      "Ruta archivo de datos: C:\\Users\\josrenca\\Desktop\\Universidad\\Datos PI - ARI\\DatosRecorteIFBinaria\\cleanedData-IF-0.2p-Severity.pkl\n",
      "Nombre archivo datos: cleanedData-IF-0.2p-Severity.pkl\n",
      "<<<Split entranimiento y testing>>>\n",
      "(1937825, 33)\n",
      "(484457, 33)\n",
      "(1937825,)\n",
      "(484457,)\n",
      "\n",
      "Ajustando modelo...\n",
      "\n",
      "Ruta: C:\\Users\\josrenca\\Desktop\\Universidad\\Datos PI - ARI\\ModeloGBCBinaria\\model-GBC-0.2p-Severity.pkl\n",
      "Modelo guardado con nombre: model-GBC-0.2p-Severity.pkl\n",
      "Prediciendo ...\n",
      "\n",
      "Metricas datos de prueba: \n",
      "              precision    recall  f1-score   support\n",
      "\n",
      "           0       0.80      0.90      0.85    339517\n",
      "           1       0.67      0.46      0.54    144940\n",
      "\n",
      "    accuracy                           0.77    484457\n",
      "   macro avg       0.73      0.68      0.69    484457\n",
      "weighted avg       0.76      0.77      0.76    484457\n",
      "\n",
      "\n",
      "Metricas datos de entrenamiento: \n",
      "              precision    recall  f1-score   support\n",
      "\n",
      "           0       0.80      0.90      0.85   1355875\n",
      "           1       0.67      0.46      0.54    581950\n",
      "\n",
      "    accuracy                           0.77   1937825\n",
      "   macro avg       0.73      0.68      0.70   1937825\n",
      "weighted avg       0.76      0.77      0.76   1937825\n",
      "\n",
      "Numero condicion actual: 2.9823959833686864\n",
      "-------- 1028.6997983455658 segundos --------\n",
      "\n",
      "\n",
      "<<<<<<<<<<<<<<<<<<<<<<<<<<<<< Modelo: 3 >>>>>>>>>>>>>>>>>>>>>>>>>>>>>\n",
      "Contaminacion: 0.3\n",
      "Ruta archivo de datos: C:\\Users\\josrenca\\Desktop\\Universidad\\Datos PI - ARI\\DatosRecorteIFBinaria\\cleanedData-IF-0.3p-Severity.pkl\n",
      "Nombre archivo datos: cleanedData-IF-0.3p-Severity.pkl\n",
      "<<<Split entranimiento y testing>>>\n",
      "(1695597, 33)\n",
      "(423900, 33)\n",
      "(1695597,)\n",
      "(423900,)\n",
      "\n",
      "Ajustando modelo...\n",
      "\n",
      "Ruta: C:\\Users\\josrenca\\Desktop\\Universidad\\Datos PI - ARI\\ModeloGBCBinaria\\model-GBC-0.3p-Severity.pkl\n",
      "Modelo guardado con nombre: model-GBC-0.3p-Severity.pkl\n",
      "Prediciendo ...\n",
      "\n",
      "Metricas datos de prueba: \n",
      "              precision    recall  f1-score   support\n",
      "\n",
      "           0       0.79      0.91      0.85    297339\n",
      "           1       0.67      0.45      0.54    126561\n",
      "\n",
      "    accuracy                           0.77    423900\n",
      "   macro avg       0.73      0.68      0.69    423900\n",
      "weighted avg       0.76      0.77      0.75    423900\n",
      "\n",
      "\n",
      "Metricas datos de entrenamiento: \n",
      "              precision    recall  f1-score   support\n",
      "\n",
      "           0       0.79      0.91      0.85   1189278\n",
      "           1       0.67      0.45      0.54    506319\n",
      "\n",
      "    accuracy                           0.77   1695597\n",
      "   macro avg       0.73      0.68      0.69   1695597\n",
      "weighted avg       0.76      0.77      0.75   1695597\n",
      "\n",
      "Numero condicion actual: 3.05893241206721\n",
      "-------- 773.5890998840332 segundos --------\n",
      "\n",
      "\n",
      "<<<<<<<<<<<<<<<<<<<<<<<<<<<<< Modelo: 4 >>>>>>>>>>>>>>>>>>>>>>>>>>>>>\n",
      "Contaminacion: 0.4\n",
      "Ruta archivo de datos: C:\\Users\\josrenca\\Desktop\\Universidad\\Datos PI - ARI\\DatosRecorteIFBinaria\\cleanedData-IF-0.4p-Severity.pkl\n",
      "Nombre archivo datos: cleanedData-IF-0.4p-Severity.pkl\n",
      "<<<Split entranimiento y testing>>>\n",
      "(1453369, 33)\n",
      "(363343, 33)\n",
      "(1453369,)\n",
      "(363343,)\n",
      "\n",
      "Ajustando modelo...\n",
      "\n",
      "Ruta: C:\\Users\\josrenca\\Desktop\\Universidad\\Datos PI - ARI\\ModeloGBCBinaria\\model-GBC-0.4p-Severity.pkl\n",
      "Modelo guardado con nombre: model-GBC-0.4p-Severity.pkl\n",
      "Prediciendo ...\n",
      "\n",
      "Metricas datos de prueba: \n",
      "              precision    recall  f1-score   support\n",
      "\n",
      "           0       0.80      0.91      0.85    256454\n",
      "           1       0.67      0.44      0.53    106889\n",
      "\n",
      "    accuracy                           0.77    363343\n",
      "   macro avg       0.73      0.68      0.69    363343\n",
      "weighted avg       0.76      0.77      0.76    363343\n",
      "\n",
      "\n",
      "Metricas datos de entrenamiento: \n",
      "              precision    recall  f1-score   support\n",
      "\n",
      "           0       0.80      0.91      0.85   1026224\n",
      "           1       0.67      0.44      0.53    427145\n",
      "\n",
      "    accuracy                           0.77   1453369\n",
      "   macro avg       0.74      0.68      0.69   1453369\n",
      "weighted avg       0.76      0.77      0.76   1453369\n",
      "\n",
      "Numero condicion actual: 3.0500755043500978\n",
      "-------- 641.0995051860809 segundos --------\n",
      "Wall time: 1h 8min 19s\n"
     ]
    }
   ],
   "source": [
    "%%time\n",
    "contaminacionVec, tiemposRecorte, numsCond = simulaciónModelo(\"Severity\", 0.1, 0.1, 4, 0.2)"
   ]
  },
  {
   "cell_type": "code",
   "execution_count": 26,
   "metadata": {},
   "outputs": [
    {
     "data": {
      "text/plain": [
       "[<matplotlib.lines.Line2D at 0x1ebff399250>]"
      ]
     },
     "execution_count": 26,
     "metadata": {},
     "output_type": "execute_result"
    },
    {
     "data": {
      "image/png": "[encoded data removed]",
      "text/plain": [
       "<Figure size 432x288 with 1 Axes>"
      ]
     },
     "metadata": {
      "needs_background": "light"
     },
     "output_type": "display_data"
    }
   ],
   "source": [
    "plt.title(\"Porcentaje recortado Vs Numero condición\")\n",
    "plt.ylabel(\"Numero Condición\")\n",
    "plt.xlabel(\"Porcentaje recortado\")\n",
    "plt.plot(contaminacionVec,numsCond)"
   ]
  },
  {
   "cell_type": "code",
   "execution_count": 27,
   "metadata": {},
   "outputs": [
    {
     "data": {
      "text/plain": [
       "[<matplotlib.lines.Line2D at 0x1ed4cbe60a0>]"
      ]
     },
     "execution_count": 27,
     "metadata": {},
     "output_type": "execute_result"
    },
    {
     "data": {
      "image/png": "[encoded data removed]",
      "text/plain": [
       "<Figure size 432x288 with 1 Axes>"
      ]
     },
     "metadata": {
      "needs_background": "light"
     },
     "output_type": "display_data"
    }
   ],
   "source": [
    "plt.title(\"Porcentaje recortado Vs Tiempo de ejecución\")\n",
    "plt.ylabel(\"Tiempo de Ejecución\")\n",
    "plt.xlabel(\"Porcentaje recortado\")\n",
    "plt.plot(contaminacionVec,tiemposRecorte)"
   ]
  },
  {
   "cell_type": "code",
   "execution_count": null,
   "metadata": {},
   "outputs": [],
   "source": []
  }
 ],
 "metadata": {
  "kernelspec": {
   "display_name": "Python 3",
   "language": "python",
   "name": "python3"
  },
  "language_info": {
   "codemirror_mode": {
    "name": "ipython",
    "version": 3
   },
   "file_extension": ".py",
   "mimetype": "text/x-python",
   "name": "python",
   "nbconvert_exporter": "python",
   "pygments_lexer": "ipython3",
   "version": "3.8.3"
  }
 },
 "nbformat": 4,
 "nbformat_minor": 4
}
