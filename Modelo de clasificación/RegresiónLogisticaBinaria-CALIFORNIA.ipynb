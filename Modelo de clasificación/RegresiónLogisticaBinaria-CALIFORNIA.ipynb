{
 "cells": [
  {
   "cell_type": "code",
   "execution_count": 52,
   "metadata": {},
   "outputs": [],
   "source": [
    "from IPython.core.debugger import set_trace\n",
    "\n",
    "import os\n",
    "import sys\n",
    "import seaborn as sns\n",
    "\n",
    "import numpy as np\n",
    "import pandas as pd\n",
    "import matplotlib.pyplot as plt\n",
    "from sklearn.preprocessing import LabelEncoder    #tranforma variables categoricas a numericas\n",
    "from sklearn.preprocessing import StandardScaler  # Escala los datos\n",
    "from sklearn.ensemble import IsolationForest      # Algoritmo de recorte\n",
    "from sklearn.decomposition import PCA             # Reduccion de dimensionalidad\n",
    "from sklearn.model_selection import train_test_split  # divide de manera aleatoria en sub conjuntos de datos de prueba y entrenamiento\n",
    "from sklearn.linear_model import LogisticRegression\n",
    "from sklearn import metrics \n",
    "from sklearn.metrics import confusion_matrix      # genera la matriz de confusion\n",
    "from sklearn.preprocessing import LabelEncoder    #tranforma variables categoricas a numericas\n",
    "from sklearn.preprocessing import StandardScaler  # Escala los datos\n",
    "import pickle\n",
    "from numpy import linalg as LA\n",
    "\n",
    "import statsmodels.api as sm\n",
    "from sklearn.metrics import classification_report\n",
    "\n",
    "module_path = os.path.abspath(os.path.join(\"..\"))\n",
    "if module_path not in sys.path:\n",
    "    sys.path.append(module_path)\n",
    "\n",
    "from sklearn.metrics import roc_curve, auc"
   ]
  },
  {
   "cell_type": "code",
   "execution_count": 53,
   "metadata": {},
   "outputs": [
    {
     "data": {
      "text/plain": [
       "'C:\\\\Users\\\\josrenca\\\\Desktop\\\\Universidad\\\\ARI-PI1-US-CarAccidentsAnalysis\\\\NoteBooks\\\\5. Modelos'"
      ]
     },
     "execution_count": 53,
     "metadata": {},
     "output_type": "execute_result"
    }
   ],
   "source": [
    "pwd"
   ]
  },
  {
   "cell_type": "code",
   "execution_count": 54,
   "metadata": {},
   "outputs": [],
   "source": [
    "path = 'C:\\\\Users\\\\josrenca\\\\Desktop\\\\Universidad\\\\Datos PI - ARI\\\\'\n",
    "archivo = 'cleanedVariables-standarized-respuestaBinaria.pkl'\n",
    "rutaArvhivo = path + archivo\n",
    "df = pd.read_pickle(rutaArvhivo)"
   ]
  },
  {
   "cell_type": "code",
   "execution_count": 55,
   "metadata": {},
   "outputs": [
    {
     "data": {
      "text/plain": [
       "(3027853, 36)"
      ]
     },
     "execution_count": 55,
     "metadata": {},
     "output_type": "execute_result"
    }
   ],
   "source": [
    "df.shape"
   ]
  },
  {
   "cell_type": "code",
   "execution_count": 56,
   "metadata": {},
   "outputs": [
    {
     "data": {
      "text/plain": [
       "Index(['Amenity', 'Astronomical_Twilight', 'Bump', 'City', 'Civil_Twilight',\n",
       "       'County', 'Crossing', 'Give_Way', 'Hour', 'Junction',\n",
       "       'Nautical_Twilight', 'No_Exit', 'Railway', 'Roundabout', 'Severity',\n",
       "       'Start_Lat', 'Start_Lng', 'State', 'Station', 'Stop', 'Street',\n",
       "       'Sunrise_Sunset', 'Traffic_Calming', 'Traffic_Signal', 'Turning_Loop',\n",
       "       'Weather_Condition', 'Wind_Direction', 'dayOfWeek', 'month',\n",
       "       'newSeverity', 'Temperature(F)', 'Humidity(%)', 'Pressure(in)',\n",
       "       'Visibility(mi)', 'Wind_Speed(mph)', 'Description'],\n",
       "      dtype='object')"
      ]
     },
     "execution_count": 56,
     "metadata": {},
     "output_type": "execute_result"
    }
   ],
   "source": [
    "df.columns"
   ]
  },
  {
   "cell_type": "code",
   "execution_count": 57,
   "metadata": {},
   "outputs": [],
   "source": [
    "path = 'C:\\\\Users\\\\josrenca\\\\Desktop\\\\Universidad\\\\Datos PI - ARI\\\\'\n",
    "archivo = 'DiccionarioDeCategorias-respuestaBinaria.pkl'\n",
    "rutaArvhivo = path + archivo\n",
    "\n",
    "import pickle\n",
    "\n",
    "with open(rutaArvhivo, 'rb') as f:\n",
    "    diccionario = pickle.load(f)"
   ]
  },
  {
   "cell_type": "code",
   "execution_count": 58,
   "metadata": {},
   "outputs": [],
   "source": [
    "def busquedaDict(categoria, valor):\n",
    "    print([k for k,v in diccionario[categoria].items() if v == valor])"
   ]
  },
  {
   "cell_type": "code",
   "execution_count": 59,
   "metadata": {},
   "outputs": [
    {
     "data": {
      "text/plain": [
       "3"
      ]
     },
     "execution_count": 59,
     "metadata": {},
     "output_type": "execute_result"
    }
   ],
   "source": [
    "diccionario['State']['CA']"
   ]
  },
  {
   "cell_type": "code",
   "execution_count": 60,
   "metadata": {},
   "outputs": [],
   "source": [
    "df = df[df['State'] == 3]"
   ]
  },
  {
   "cell_type": "code",
   "execution_count": 61,
   "metadata": {},
   "outputs": [],
   "source": [
    "y1=df['Severity']\n",
    "y2=df['newSeverity']"
   ]
  },
  {
   "cell_type": "code",
   "execution_count": 62,
   "metadata": {},
   "outputs": [
    {
     "data": {
      "text/plain": [
       "0    493847\n",
       "1    180818\n",
       "Name: Severity, dtype: int64"
      ]
     },
     "execution_count": 62,
     "metadata": {},
     "output_type": "execute_result"
    }
   ],
   "source": [
    "y1.value_counts()"
   ]
  },
  {
   "cell_type": "code",
   "execution_count": 63,
   "metadata": {},
   "outputs": [
    {
     "data": {
      "text/plain": [
       "<matplotlib.axes._subplots.AxesSubplot at 0x1c5adde10a0>"
      ]
     },
     "execution_count": 63,
     "metadata": {},
     "output_type": "execute_result"
    },
    {
     "data": {
      "image/png": "[encoded data removed]",
      "text/plain": [
       "<Figure size 432x288 with 1 Axes>"
      ]
     },
     "metadata": {
      "needs_background": "light"
     },
     "output_type": "display_data"
    }
   ],
   "source": [
    "sns.countplot(y1)"
   ]
  },
  {
   "cell_type": "code",
   "execution_count": 67,
   "metadata": {},
   "outputs": [],
   "source": [
    "X = df[df.columns.difference(['Description', 'Severity', 'newSeverity', 'State'])]"
   ]
  },
  {
   "cell_type": "code",
   "execution_count": 68,
   "metadata": {},
   "outputs": [
    {
     "data": {
      "text/plain": [
       "Index(['Amenity', 'Astronomical_Twilight', 'Bump', 'City', 'Civil_Twilight',\n",
       "       'County', 'Crossing', 'Give_Way', 'Hour', 'Humidity(%)', 'Junction',\n",
       "       'Nautical_Twilight', 'No_Exit', 'Pressure(in)', 'Railway', 'Roundabout',\n",
       "       'Start_Lat', 'Start_Lng', 'Station', 'Stop', 'Street', 'Sunrise_Sunset',\n",
       "       'Temperature(F)', 'Traffic_Calming', 'Traffic_Signal', 'Turning_Loop',\n",
       "       'Visibility(mi)', 'Weather_Condition', 'Wind_Direction',\n",
       "       'Wind_Speed(mph)', 'dayOfWeek', 'month'],\n",
       "      dtype='object')"
      ]
     },
     "execution_count": 68,
     "metadata": {},
     "output_type": "execute_result"
    }
   ],
   "source": [
    "# Mostrand listado final de variables predictoras\n",
    "X.columns"
   ]
  },
  {
   "cell_type": "code",
   "execution_count": 69,
   "metadata": {},
   "outputs": [
    {
     "data": {
      "text/plain": [
       "(674665, 32)"
      ]
     },
     "execution_count": 69,
     "metadata": {},
     "output_type": "execute_result"
    }
   ],
   "source": [
    "X.shape"
   ]
  },
  {
   "cell_type": "markdown",
   "metadata": {},
   "source": [
    "# Modelo con Outliers"
   ]
  },
  {
   "cell_type": "code",
   "execution_count": 70,
   "metadata": {},
   "outputs": [
    {
     "name": "stdout",
     "output_type": "stream",
     "text": [
      "<<<Modelo 1>>>\n",
      "(539732, 32)\n",
      "(134933, 32)\n",
      "(539732,)\n",
      "(134933,)\n",
      "\n",
      "<<<Modelo 2>>>\n",
      "(539732, 32)\n",
      "(134933, 32)\n",
      "(539732,)\n",
      "(134933,)\n"
     ]
    }
   ],
   "source": [
    "print('<<<Modelo 1>>>')\n",
    "X_train1, X_test1, y_train1, y_test1 = train_test_split(X, y1, test_size = 0.20, random_state = 5)\n",
    "print(X_train1.shape)\n",
    "print(X_test1.shape)\n",
    "print(y_train1.shape)\n",
    "print(y_test1.shape)\n",
    "\n",
    "print('\\n<<<Modelo 2>>>')\n",
    "X_train2, X_test2, y_train2, y_test2 = train_test_split(X, y2, test_size = 0.20, random_state = 5)\n",
    "print(X_train2.shape)\n",
    "print(X_test2.shape)\n",
    "print(y_train2.shape)\n",
    "print(y_test2.shape)"
   ]
  },
  {
   "cell_type": "markdown",
   "metadata": {},
   "source": [
    "https://stackoverflow.com/questions/20894671/speeding-up-sklearn-logistic-regression"
   ]
  },
  {
   "cell_type": "markdown",
   "metadata": {},
   "source": [
    "## Modelo de regresion con variable Severity"
   ]
  },
  {
   "cell_type": "code",
   "execution_count": 71,
   "metadata": {},
   "outputs": [
    {
     "name": "stdout",
     "output_type": "stream",
     "text": [
      "Wall time: 7.86 s\n"
     ]
    }
   ],
   "source": [
    "%%time\n",
    "model1 = LogisticRegression(max_iter=10000).fit(X_train1, y_train1)"
   ]
  },
  {
   "cell_type": "code",
   "execution_count": 72,
   "metadata": {},
   "outputs": [],
   "source": [
    "archivoModelo = \"model-LR-\" + str(0) + \"p-Severity.pkl\"\n",
    "rutaArchivo = path + \"ModeloRegresionBinaria\\\\\" + archivoModelo  \n",
    "modelfile = open(rutaArchivo, \"wb\")\n",
    "pickle.dump(model1, modelfile)\n",
    "modelfile.close()"
   ]
  },
  {
   "cell_type": "code",
   "execution_count": 73,
   "metadata": {},
   "outputs": [
    {
     "data": {
      "text/plain": [
       "array([0.36694289, 0.2684244 , 0.24097158, ..., 0.18489479, 0.14971723,\n",
       "       0.25296972])"
      ]
     },
     "execution_count": 73,
     "metadata": {},
     "output_type": "execute_result"
    }
   ],
   "source": [
    "y_prob = model1.predict_proba(X_test1)[:,1] # This will give you positive class prediction probabilities  \n",
    "y_prob"
   ]
  },
  {
   "cell_type": "code",
   "execution_count": 74,
   "metadata": {},
   "outputs": [
    {
     "data": {
      "text/plain": [
       "1.0"
      ]
     },
     "execution_count": 74,
     "metadata": {},
     "output_type": "execute_result"
    }
   ],
   "source": [
    "y_pred = np.where(y_prob > 0.5, 1, 0) # This will threshold the probabilities to give class predictions.\n",
    "model1.score(X_test1, y_pred)"
   ]
  },
  {
   "cell_type": "code",
   "execution_count": 75,
   "metadata": {},
   "outputs": [
    {
     "data": {
      "text/plain": [
       "0.4997723947330129"
      ]
     },
     "execution_count": 75,
     "metadata": {},
     "output_type": "execute_result"
    }
   ],
   "source": [
    "auc_roc=metrics.roc_auc_score(y_test1,y_pred)\n",
    "auc_roc"
   ]
  },
  {
   "cell_type": "code",
   "execution_count": 76,
   "metadata": {},
   "outputs": [
    {
     "data": {
      "text/plain": [
       "0.6142986589750471"
      ]
     },
     "execution_count": 76,
     "metadata": {},
     "output_type": "execute_result"
    }
   ],
   "source": [
    "false_positive_rate, true_positive_rate, thresholds = roc_curve(y_test1, y_prob)\n",
    "roc_auc = auc(false_positive_rate, true_positive_rate)\n",
    "roc_auc"
   ]
  },
  {
   "cell_type": "code",
   "execution_count": 77,
   "metadata": {},
   "outputs": [
    {
     "data": {
      "text/plain": [
       "Text(0.5, 0, 'False Positive Rate')"
      ]
     },
     "execution_count": 77,
     "metadata": {},
     "output_type": "execute_result"
    },
    {
     "data": {
      "image/png": "[encoded data removed]",
      "text/plain": [
       "<Figure size 720x720 with 1 Axes>"
      ]
     },
     "metadata": {
      "needs_background": "light"
     },
     "output_type": "display_data"
    }
   ],
   "source": [
    "import matplotlib.pyplot as plt\n",
    "plt.figure(figsize=(10,10))\n",
    "plt.title('Receiver Operating Characteristic')\n",
    "plt.plot(false_positive_rate,true_positive_rate, color='red',label = 'AUC = %0.2f' % roc_auc)\n",
    "plt.legend(loc = 'lower right')\n",
    "plt.plot([0, 1], [0, 1],linestyle='--')\n",
    "plt.axis('tight')\n",
    "plt.ylabel('True Positive Rate')\n",
    "plt.xlabel('False Positive Rate')"
   ]
  },
  {
   "cell_type": "code",
   "execution_count": 78,
   "metadata": {},
   "outputs": [],
   "source": [
    "predTest1 = model1.predict(X_test1)\n",
    "predTrain1 = model1.predict(X_train1)"
   ]
  },
  {
   "cell_type": "code",
   "execution_count": 79,
   "metadata": {},
   "outputs": [
    {
     "name": "stdout",
     "output_type": "stream",
     "text": [
      "<<<Modelo 1>>>\n",
      "Accuracy Score Test: 0.729317513136149\n",
      "Accuracy Score Train: 0.7310257683442893\n"
     ]
    }
   ],
   "source": [
    "#Accuracy statistics\n",
    "print('<<<Modelo 1>>>')\n",
    "print('Accuracy Score Test:', metrics.accuracy_score(y_test1, predTest1))\n",
    "print('Accuracy Score Train:', metrics.accuracy_score(y_train1, predTrain1))"
   ]
  },
  {
   "cell_type": "code",
   "execution_count": 80,
   "metadata": {},
   "outputs": [
    {
     "name": "stdout",
     "output_type": "stream",
     "text": [
      "[[98333   251]\n",
      " [36273    76]]\n"
     ]
    }
   ],
   "source": [
    "#Get the confusion matrix\n",
    "cf_matrix = confusion_matrix(y_test1, predTest1)\n",
    "print(cf_matrix)"
   ]
  },
  {
   "cell_type": "code",
   "execution_count": 47,
   "metadata": {},
   "outputs": [
    {
     "data": {
      "text/plain": [
       "<matplotlib.axes._subplots.AxesSubplot at 0x1c5f31b2910>"
      ]
     },
     "execution_count": 47,
     "metadata": {},
     "output_type": "execute_result"
    },
    {
     "data": {
      "image/png": "[encoded data removed]",
      "text/plain": [
       "<Figure size 432x288 with 2 Axes>"
      ]
     },
     "metadata": {
      "needs_background": "light"
     },
     "output_type": "display_data"
    }
   ],
   "source": [
    "sns.heatmap(cf_matrix, annot=True)"
   ]
  },
  {
   "cell_type": "code",
   "execution_count": 48,
   "metadata": {},
   "outputs": [
    {
     "name": "stdout",
     "output_type": "stream",
     "text": [
      "[[394296    967]\n",
      " [144207    262]]\n"
     ]
    }
   ],
   "source": [
    "#Get the confusion matrix\n",
    "cf_matrix = confusion_matrix(y_train1, predTrain1)\n",
    "print(cf_matrix)"
   ]
  },
  {
   "cell_type": "code",
   "execution_count": 49,
   "metadata": {},
   "outputs": [
    {
     "data": {
      "text/plain": [
       "<matplotlib.axes._subplots.AxesSubplot at 0x1c5eecc2d60>"
      ]
     },
     "execution_count": 49,
     "metadata": {},
     "output_type": "execute_result"
    },
    {
     "data": {
      "image/png": "[encoded data removed]",
      "text/plain": [
       "<Figure size 432x288 with 2 Axes>"
      ]
     },
     "metadata": {
      "needs_background": "light"
     },
     "output_type": "display_data"
    }
   ],
   "source": [
    "sns.heatmap(cf_matrix, annot=True)"
   ]
  },
  {
   "cell_type": "code",
   "execution_count": 50,
   "metadata": {},
   "outputs": [
    {
     "name": "stdout",
     "output_type": "stream",
     "text": [
      "              precision    recall  f1-score   support\n",
      "\n",
      "           0       0.73      1.00      0.84     98584\n",
      "           1       0.23      0.00      0.00     36349\n",
      "\n",
      "    accuracy                           0.73    134933\n",
      "   macro avg       0.48      0.50      0.42    134933\n",
      "weighted avg       0.60      0.73      0.62    134933\n",
      "\n"
     ]
    }
   ],
   "source": [
    "print(classification_report(y_test1, predTest1))"
   ]
  },
  {
   "cell_type": "code",
   "execution_count": 51,
   "metadata": {},
   "outputs": [
    {
     "name": "stdout",
     "output_type": "stream",
     "text": [
      "              precision    recall  f1-score   support\n",
      "\n",
      "           0       0.73      1.00      0.84    395263\n",
      "           1       0.21      0.00      0.00    144469\n",
      "\n",
      "    accuracy                           0.73    539732\n",
      "   macro avg       0.47      0.50      0.42    539732\n",
      "weighted avg       0.59      0.73      0.62    539732\n",
      "\n"
     ]
    }
   ],
   "source": [
    "print(classification_report(y_train1, predTrain1))"
   ]
  },
  {
   "cell_type": "markdown",
   "metadata": {},
   "source": [
    "## Modelo de regresion con variable newSeverity"
   ]
  },
  {
   "cell_type": "code",
   "execution_count": 24,
   "metadata": {},
   "outputs": [
    {
     "name": "stdout",
     "output_type": "stream",
     "text": [
      "Wall time: 30.8 s\n"
     ]
    }
   ],
   "source": [
    "%%time\n",
    "model2 = LogisticRegression(max_iter=10000).fit(X_train2, y_train2)"
   ]
  },
  {
   "cell_type": "code",
   "execution_count": 25,
   "metadata": {},
   "outputs": [],
   "source": [
    "predTest2 = model2.predict(X_test2)\n",
    "predTrain2 = model2.predict(X_train2)"
   ]
  },
  {
   "cell_type": "code",
   "execution_count": 26,
   "metadata": {},
   "outputs": [
    {
     "name": "stdout",
     "output_type": "stream",
     "text": [
      "\n",
      "<<<Modelo 2>>>\n",
      "Accuracy Score Test: 0.5566382802346876\n",
      "Accuracy Score Train: 0.5563699849976179\n"
     ]
    }
   ],
   "source": [
    "print('\\n<<<Modelo 2>>>')\n",
    "print('Accuracy Score Test:', metrics.accuracy_score(y_test2, predTest2))\n",
    "print('Accuracy Score Train:', metrics.accuracy_score(y_train2, predTrain2))"
   ]
  },
  {
   "cell_type": "code",
   "execution_count": 27,
   "metadata": {},
   "outputs": [],
   "source": [
    "archivoModelo = \"model-LR-\" + str(0) + \"p-newSeverity.pkl\"\n",
    "rutaArchivo = path + \"ModeloRegresionBinaria\\\\\" + archivoModelo  \n",
    "modelfile = open(rutaArchivo, \"wb\")\n",
    "pickle.dump(model2, modelfile)\n",
    "modelfile.close()"
   ]
  },
  {
   "cell_type": "code",
   "execution_count": 28,
   "metadata": {},
   "outputs": [
    {
     "name": "stdout",
     "output_type": "stream",
     "text": [
      "[[ 55770 218083]\n",
      " [ 50404 281314]]\n"
     ]
    }
   ],
   "source": [
    "#Get the confusion matrix\n",
    "cf_matrix = confusion_matrix(y_test2, predTest2)\n",
    "print(cf_matrix)"
   ]
  },
  {
   "cell_type": "code",
   "execution_count": 29,
   "metadata": {},
   "outputs": [
    {
     "data": {
      "text/plain": [
       "<matplotlib.axes._subplots.AxesSubplot at 0x1cc1fe817c0>"
      ]
     },
     "execution_count": 29,
     "metadata": {},
     "output_type": "execute_result"
    },
    {
     "data": {
      "image/png": "[encoded data removed]",
      "text/plain": [
       "<Figure size 432x288 with 2 Axes>"
      ]
     },
     "metadata": {
      "needs_background": "light"
     },
     "output_type": "display_data"
    }
   ],
   "source": [
    "sns.heatmap(cf_matrix, annot=True)"
   ]
  },
  {
   "cell_type": "code",
   "execution_count": 30,
   "metadata": {},
   "outputs": [
    {
     "name": "stdout",
     "output_type": "stream",
     "text": [
      "[[ 223002  871499]\n",
      " [ 203098 1124683]]\n"
     ]
    }
   ],
   "source": [
    "#Get the confusion matrix\n",
    "cf_matrix = confusion_matrix(y_train2, predTrain2)\n",
    "print(cf_matrix)"
   ]
  },
  {
   "cell_type": "code",
   "execution_count": 31,
   "metadata": {},
   "outputs": [
    {
     "data": {
      "text/plain": [
       "<matplotlib.axes._subplots.AxesSubplot at 0x1cc1fe5ba60>"
      ]
     },
     "execution_count": 31,
     "metadata": {},
     "output_type": "execute_result"
    },
    {
     "data": {
      "image/png": "[encoded data removed]",
      "text/plain": [
       "<Figure size 432x288 with 2 Axes>"
      ]
     },
     "metadata": {
      "needs_background": "light"
     },
     "output_type": "display_data"
    }
   ],
   "source": [
    "sns.heatmap(cf_matrix, annot=True)"
   ]
  },
  {
   "cell_type": "code",
   "execution_count": 32,
   "metadata": {},
   "outputs": [
    {
     "name": "stdout",
     "output_type": "stream",
     "text": [
      "              precision    recall  f1-score   support\n",
      "\n",
      "           0       0.53      0.20      0.29    273853\n",
      "           1       0.56      0.85      0.68    331718\n",
      "\n",
      "    accuracy                           0.56    605571\n",
      "   macro avg       0.54      0.53      0.49    605571\n",
      "weighted avg       0.55      0.56      0.50    605571\n",
      "\n"
     ]
    }
   ],
   "source": [
    "print(classification_report(y_test2, predTest2))"
   ]
  },
  {
   "cell_type": "code",
   "execution_count": 33,
   "metadata": {},
   "outputs": [
    {
     "name": "stdout",
     "output_type": "stream",
     "text": [
      "              precision    recall  f1-score   support\n",
      "\n",
      "           0       0.52      0.20      0.29   1094501\n",
      "           1       0.56      0.85      0.68   1327781\n",
      "\n",
      "    accuracy                           0.56   2422282\n",
      "   macro avg       0.54      0.53      0.49   2422282\n",
      "weighted avg       0.55      0.56      0.50   2422282\n",
      "\n"
     ]
    }
   ],
   "source": [
    "print(classification_report(y_train2, predTrain2))"
   ]
  },
  {
   "cell_type": "markdown",
   "metadata": {},
   "source": [
    "# Modelo eliminando outliers"
   ]
  },
  {
   "cell_type": "code",
   "execution_count": 36,
   "metadata": {},
   "outputs": [],
   "source": [
    "numericData_lst = ['Temperature(F)', 'Humidity(%)', 'Pressure(in)', 'Visibility(mi)', 'Wind_Speed(mph)']"
   ]
  },
  {
   "cell_type": "code",
   "execution_count": 41,
   "metadata": {},
   "outputs": [],
   "source": [
    "import time\n",
    "\n",
    "def simulaciónModelo(variableObjetivo, contInicial, rango, numModelos, splitTest):\n",
    "    \n",
    "    print(\"Preparando los datos...\")\n",
    "    numsCond = []\n",
    "    tiemposRecorte = []\n",
    "    nombreVariableObj = variableObjetivo\n",
    "    contaminacionVec = []\n",
    "    \n",
    "    contaminacion = contInicial\n",
    "    for i in range(1,numModelos+1):\n",
    "        \n",
    "        start_time = time.time()\n",
    "        \n",
    "        print(\"\\n\\n<<<<<<<<<<<<<<<<<<<<<<<<<<<<< Modelo: \" + str(i) + \" >>>>>>>>>>>>>>>>>>>>>>>>>>>>>\")\n",
    "        \n",
    "\n",
    "        path = 'C:\\\\Users\\\\josrenca\\\\Desktop\\\\Universidad\\\\Datos PI - ARI\\\\'\n",
    "        archivo = \"cleanedData-IF-\" + str(contaminacion) + \"p-\" + nombreVariableObj +\".pkl\"\n",
    "        rutaArchivo = path + \"DatosRecorteIFBinaria\\\\\" + archivo\n",
    "        df = pd.read_pickle(rutaArchivo)\n",
    "        \n",
    "        y = df[variableObjetivo]\n",
    "        X = df[df.columns.difference(['Description', 'Severity', 'newSeverity'])]\n",
    "        \n",
    "        print(\"Contaminacion: \" + str(contaminacion))\n",
    "        print(\"Ruta archivo de datos: \" + rutaArchivo)\n",
    "        print(\"Nombre archivo datos: \" + archivo)\n",
    "        \n",
    "        print('<<<Split entranimiento y testing>>>')\n",
    "        X_train, X_test, y_train, y_test = train_test_split(X, y, test_size = splitTest, random_state = 5)\n",
    "        print(X_train.shape)\n",
    "        print(X_test.shape)\n",
    "        print(y_train.shape)\n",
    "        print(y_test.shape)\n",
    "        \n",
    "        print(\"\\nAjustando modelo...\")\n",
    "        model = LogisticRegression(max_iter=10000).fit(X_train, y_train)\n",
    "        \n",
    "        \n",
    "        archivoModelo = \"model-LR-\" + str(contaminacion) + \"p-\" + nombreVariableObj +\".pkl\"\n",
    "        rutaArchivo = path + \"ModeloRegresionBinaria\\\\\" + archivoModelo  \n",
    "        modelfile = open(rutaArchivo, \"wb\")\n",
    "        pickle.dump(model, modelfile)\n",
    "        modelfile.close()\n",
    "        \n",
    "        print(\"\\nRuta: \" + rutaArchivo)\n",
    "        print(\"Modelo guardado con nombre: \" + archivoModelo)\n",
    "        \n",
    "        print(\"Prediciendo ...\")\n",
    "        predTest = model.predict(X_test)\n",
    "        predTrain = model.predict(X_train)\n",
    "        \n",
    "        print(\"\\nMetricas datos de prueba: \")\n",
    "        print(classification_report(y_test, predTest))\n",
    "        \n",
    "        print(\"\\nMetricas datos de entrenamiento: \")\n",
    "        print(classification_report(y_train, predTrain))\n",
    "        \n",
    "        \n",
    "\n",
    "        numCondActual = LA.cond(X[numericData_lst].cov().to_numpy())\n",
    "        tiempoEjecucion = time.time() - start_time\n",
    "        \n",
    "        \n",
    "        print(\"Numero condicion actual: \" + str(numCondActual))\n",
    "        print(\"-------- %s segundos --------\" % (tiempoEjecucion))\n",
    "        \n",
    "        tiemposRecorte.append(tiempoEjecucion)\n",
    "        numsCond.append(numCondActual)\n",
    "        contaminacionVec.append(contaminacion)\n",
    "\n",
    "        if i == 1 and contaminacion == 0.01:\n",
    "            contaminacion = 0\n",
    "        \n",
    "        contaminacion=round(round(contaminacion,2)+round(rango,2),2)\n",
    "        \n",
    "    return contaminacionVec, tiemposRecorte, numsCond"
   ]
  },
  {
   "cell_type": "code",
   "execution_count": 42,
   "metadata": {
    "scrolled": false
   },
   "outputs": [
    {
     "name": "stdout",
     "output_type": "stream",
     "text": [
      "Preparando los datos...\n",
      "\n",
      "\n",
      "<<<<<<<<<<<<<<<<<<<<<<<<<<<<< Modelo: 1 >>>>>>>>>>>>>>>>>>>>>>>>>>>>>\n",
      "Contaminacion: 0.1\n",
      "Ruta archivo de datos: C:\\Users\\josrenca\\Desktop\\Universidad\\Datos PI - ARI\\DatosRecorteIFBinaria\\cleanedData-IF-0.1p-Severity.pkl\n",
      "Nombre archivo datos: cleanedData-IF-0.1p-Severity.pkl\n",
      "<<<Split entranimiento y testing>>>\n",
      "(2180053, 33)\n",
      "(545014, 33)\n",
      "(2180053,)\n",
      "(545014,)\n",
      "\n",
      "Ajustando modelo...\n",
      "\n",
      "Ruta: C:\\Users\\josrenca\\Desktop\\Universidad\\Datos PI - ARI\\ModeloRegresionBinaria\\model-LR-0.1p-Severity.pkl\n",
      "Modelo guardado con nombre: model-LR-0.1p-Severity.pkl\n",
      "Prediciendo ...\n",
      "\n",
      "Metricas datos de prueba: \n",
      "              precision    recall  f1-score   support\n",
      "\n",
      "           0       0.70      1.00      0.82    379463\n",
      "           1       0.54      0.01      0.01    165551\n",
      "\n",
      "    accuracy                           0.70    545014\n",
      "   macro avg       0.62      0.50      0.42    545014\n",
      "weighted avg       0.65      0.70      0.58    545014\n",
      "\n",
      "\n",
      "Metricas datos de entrenamiento: \n",
      "              precision    recall  f1-score   support\n",
      "\n",
      "           0       0.70      1.00      0.82   1520441\n",
      "           1       0.54      0.01      0.01    659612\n",
      "\n",
      "    accuracy                           0.70   2180053\n",
      "   macro avg       0.62      0.50      0.42   2180053\n",
      "weighted avg       0.65      0.70      0.58   2180053\n",
      "\n",
      "Numero condicion actual: 2.9562291658221826\n",
      "-------- 78.19601249694824 segundos --------\n",
      "\n",
      "\n",
      "<<<<<<<<<<<<<<<<<<<<<<<<<<<<< Modelo: 2 >>>>>>>>>>>>>>>>>>>>>>>>>>>>>\n",
      "Contaminacion: 0.2\n",
      "Ruta archivo de datos: C:\\Users\\josrenca\\Desktop\\Universidad\\Datos PI - ARI\\DatosRecorteIFBinaria\\cleanedData-IF-0.2p-Severity.pkl\n",
      "Nombre archivo datos: cleanedData-IF-0.2p-Severity.pkl\n",
      "<<<Split entranimiento y testing>>>\n",
      "(1937825, 33)\n",
      "(484457, 33)\n",
      "(1937825,)\n",
      "(484457,)\n",
      "\n",
      "Ajustando modelo...\n",
      "\n",
      "Ruta: C:\\Users\\josrenca\\Desktop\\Universidad\\Datos PI - ARI\\ModeloRegresionBinaria\\model-LR-0.2p-Severity.pkl\n",
      "Modelo guardado con nombre: model-LR-0.2p-Severity.pkl\n",
      "Prediciendo ...\n",
      "\n",
      "Metricas datos de prueba: \n"
     ]
    },
    {
     "name": "stderr",
     "output_type": "stream",
     "text": [
      "C:\\Users\\josrenca\\Anaconda3\\lib\\site-packages\\sklearn\\metrics\\_classification.py:1221: UndefinedMetricWarning: Precision and F-score are ill-defined and being set to 0.0 in labels with no predicted samples. Use `zero_division` parameter to control this behavior.\n",
      "  _warn_prf(average, modifier, msg_start, len(result))\n"
     ]
    },
    {
     "name": "stdout",
     "output_type": "stream",
     "text": [
      "              precision    recall  f1-score   support\n",
      "\n",
      "           0       0.70      1.00      0.82    339517\n",
      "           1       0.00      0.00      0.00    144940\n",
      "\n",
      "    accuracy                           0.70    484457\n",
      "   macro avg       0.35      0.50      0.41    484457\n",
      "weighted avg       0.49      0.70      0.58    484457\n",
      "\n",
      "\n",
      "Metricas datos de entrenamiento: \n",
      "              precision    recall  f1-score   support\n",
      "\n",
      "           0       0.70      1.00      0.82   1355875\n",
      "           1       0.00      0.00      0.00    581950\n",
      "\n",
      "    accuracy                           0.70   1937825\n",
      "   macro avg       0.35      0.50      0.41   1937825\n",
      "weighted avg       0.49      0.70      0.58   1937825\n",
      "\n",
      "Numero condicion actual: 2.9823959833686864\n",
      "-------- 31.02900457382202 segundos --------\n",
      "\n",
      "\n",
      "<<<<<<<<<<<<<<<<<<<<<<<<<<<<< Modelo: 3 >>>>>>>>>>>>>>>>>>>>>>>>>>>>>\n",
      "Contaminacion: 0.3\n",
      "Ruta archivo de datos: C:\\Users\\josrenca\\Desktop\\Universidad\\Datos PI - ARI\\DatosRecorteIFBinaria\\cleanedData-IF-0.3p-Severity.pkl\n",
      "Nombre archivo datos: cleanedData-IF-0.3p-Severity.pkl\n",
      "<<<Split entranimiento y testing>>>\n",
      "(1695597, 33)\n",
      "(423900, 33)\n",
      "(1695597,)\n",
      "(423900,)\n",
      "\n",
      "Ajustando modelo...\n",
      "\n",
      "Ruta: C:\\Users\\josrenca\\Desktop\\Universidad\\Datos PI - ARI\\ModeloRegresionBinaria\\model-LR-0.3p-Severity.pkl\n",
      "Modelo guardado con nombre: model-LR-0.3p-Severity.pkl\n",
      "Prediciendo ...\n",
      "\n",
      "Metricas datos de prueba: \n",
      "              precision    recall  f1-score   support\n",
      "\n",
      "           0       0.70      1.00      0.82    297339\n",
      "           1       1.00      0.00      0.00    126561\n",
      "\n",
      "    accuracy                           0.70    423900\n",
      "   macro avg       0.85      0.50      0.41    423900\n",
      "weighted avg       0.79      0.70      0.58    423900\n",
      "\n",
      "\n",
      "Metricas datos de entrenamiento: \n",
      "              precision    recall  f1-score   support\n",
      "\n",
      "           0       0.70      1.00      0.82   1189278\n",
      "           1       0.25      0.00      0.00    506319\n",
      "\n",
      "    accuracy                           0.70   1695597\n",
      "   macro avg       0.48      0.50      0.41   1695597\n",
      "weighted avg       0.57      0.70      0.58   1695597\n",
      "\n",
      "Numero condicion actual: 3.05893241206721\n",
      "-------- 35.181007385253906 segundos --------\n",
      "\n",
      "\n",
      "<<<<<<<<<<<<<<<<<<<<<<<<<<<<< Modelo: 4 >>>>>>>>>>>>>>>>>>>>>>>>>>>>>\n",
      "Contaminacion: 0.4\n",
      "Ruta archivo de datos: C:\\Users\\josrenca\\Desktop\\Universidad\\Datos PI - ARI\\DatosRecorteIFBinaria\\cleanedData-IF-0.4p-Severity.pkl\n",
      "Nombre archivo datos: cleanedData-IF-0.4p-Severity.pkl\n",
      "<<<Split entranimiento y testing>>>\n",
      "(1453369, 33)\n",
      "(363343, 33)\n",
      "(1453369,)\n",
      "(363343,)\n",
      "\n",
      "Ajustando modelo...\n",
      "\n",
      "Ruta: C:\\Users\\josrenca\\Desktop\\Universidad\\Datos PI - ARI\\ModeloRegresionBinaria\\model-LR-0.4p-Severity.pkl\n",
      "Modelo guardado con nombre: model-LR-0.4p-Severity.pkl\n",
      "Prediciendo ...\n",
      "\n",
      "Metricas datos de prueba: \n"
     ]
    },
    {
     "name": "stderr",
     "output_type": "stream",
     "text": [
      "C:\\Users\\josrenca\\Anaconda3\\lib\\site-packages\\sklearn\\metrics\\_classification.py:1221: UndefinedMetricWarning: Precision and F-score are ill-defined and being set to 0.0 in labels with no predicted samples. Use `zero_division` parameter to control this behavior.\n",
      "  _warn_prf(average, modifier, msg_start, len(result))\n"
     ]
    },
    {
     "name": "stdout",
     "output_type": "stream",
     "text": [
      "              precision    recall  f1-score   support\n",
      "\n",
      "           0       0.71      1.00      0.83    256454\n",
      "           1       0.00      0.00      0.00    106889\n",
      "\n",
      "    accuracy                           0.71    363343\n",
      "   macro avg       0.35      0.50      0.41    363343\n",
      "weighted avg       0.50      0.71      0.58    363343\n",
      "\n",
      "\n",
      "Metricas datos de entrenamiento: \n",
      "              precision    recall  f1-score   support\n",
      "\n",
      "           0       0.71      1.00      0.83   1026224\n",
      "           1       0.00      0.00      0.00    427145\n",
      "\n",
      "    accuracy                           0.71   1453369\n",
      "   macro avg       0.35      0.50      0.41   1453369\n",
      "weighted avg       0.50      0.71      0.58   1453369\n",
      "\n",
      "Numero condicion actual: 3.0500755043500978\n",
      "-------- 18.17903470993042 segundos --------\n",
      "Wall time: 2min 42s\n"
     ]
    }
   ],
   "source": [
    "%%time\n",
    "contaminacionVec, tiemposRecorte, numsCond = simulaciónModelo(\"Severity\", 0.1, 0.1, 4, 0.2)"
   ]
  },
  {
   "cell_type": "code",
   "execution_count": 43,
   "metadata": {},
   "outputs": [
    {
     "data": {
      "text/plain": [
       "[<matplotlib.lines.Line2D at 0x1cd380c1b50>]"
      ]
     },
     "execution_count": 43,
     "metadata": {},
     "output_type": "execute_result"
    },
    {
     "data": {
      "image/png": "[encoded data removed]",
      "text/plain": [
       "<Figure size 432x288 with 1 Axes>"
      ]
     },
     "metadata": {
      "needs_background": "light"
     },
     "output_type": "display_data"
    }
   ],
   "source": [
    "plt.title(\"Porcentaje recortado Vs Numero condición\")\n",
    "plt.ylabel(\"Numero Condición\")\n",
    "plt.xlabel(\"Porcentaje recortado\")\n",
    "plt.plot(contaminacionVec,numsCond)"
   ]
  },
  {
   "cell_type": "code",
   "execution_count": 44,
   "metadata": {},
   "outputs": [
    {
     "data": {
      "text/plain": [
       "[<matplotlib.lines.Line2D at 0x1cd39de1910>]"
      ]
     },
     "execution_count": 44,
     "metadata": {},
     "output_type": "execute_result"
    },
    {
     "data": {
      "image/png": "[encoded data removed]",
      "text/plain": [
       "<Figure size 432x288 with 1 Axes>"
      ]
     },
     "metadata": {
      "needs_background": "light"
     },
     "output_type": "display_data"
    }
   ],
   "source": [
    "plt.title(\"Porcentaje recortado Vs Tiempo de ejecución\")\n",
    "plt.ylabel(\"Tiempo de Ejecución\")\n",
    "plt.xlabel(\"Porcentaje recortado\")\n",
    "plt.plot(contaminacionVec,tiemposRecorte)"
   ]
  },
  {
   "cell_type": "code",
   "execution_count": null,
   "metadata": {},
   "outputs": [],
   "source": []
  }
 ],
 "metadata": {
  "kernelspec": {
   "display_name": "Python 3",
   "language": "python",
   "name": "python3"
  },
  "language_info": {
   "codemirror_mode": {
    "name": "ipython",
    "version": 3
   },
   "file_extension": ".py",
   "mimetype": "text/x-python",
   "name": "python",
   "nbconvert_exporter": "python",
   "pygments_lexer": "ipython3",
   "version": "3.8.3"
  }
 },
 "nbformat": 4,
 "nbformat_minor": 4
}
